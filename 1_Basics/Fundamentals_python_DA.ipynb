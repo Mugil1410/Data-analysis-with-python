{
  "cells": [
    {
      "cell_type": "markdown",
      "metadata": {
        "colab_type": "text",
        "id": "view-in-github"
      },
      "source": [
        "<a href=\"https://colab.research.google.com/github/Mugil1410/Data-analysis-with-python/blob/main/Fundamentals_python_DA.ipynb\" target=\"_parent\"><img src=\"https://colab.research.google.com/assets/colab-badge.svg\" alt=\"Open In Colab\"/></a>"
      ]
    },
    {
      "cell_type": "markdown",
      "metadata": {
        "id": "BOVe8T00hCPH"
      },
      "source": [
        "## Get started"
      ]
    },
    {
      "cell_type": "markdown",
      "metadata": {
        "id": "v-LfPhNrCblN"
      },
      "source": [
        "Variables declare:"
      ]
    },
    {
      "cell_type": "code",
      "execution_count": 1,
      "metadata": {
        "colab": {
          "base_uri": "https://localhost:8080/"
        },
        "id": "DJCpYJ0XcRF5",
        "outputId": "5a8b3042-3fef-479c-b57f-e2d271af8e5f"
      },
      "outputs": [
        {
          "name": "stdout",
          "output_type": "stream",
          "text": [
            "hello world\n"
          ]
        }
      ],
      "source": [
        "a = 5;\n",
        "b = 90;\n",
        "helloworld = print\n",
        "helloworld(\"hello world\");"
      ]
    },
    {
      "cell_type": "markdown",
      "metadata": {
        "id": "4IOV8VqXGbbj"
      },
      "source": [
        "## Magic Method\n",
        "1.   __add__ is a magic method that Python uses to implement the + operator.\n",
        "2.   When you call b.__add__(8), it is equivalent to writing b + 8.\n",
        "\n",
        "\n",
        "\n"
      ]
    },
    {
      "cell_type": "code",
      "execution_count": null,
      "metadata": {
        "colab": {
          "base_uri": "https://localhost:8080/"
        },
        "id": "L2NcnlM8FjLg",
        "outputId": "61cb6f2f-f26b-42cd-bbf8-a214203f75e2"
      },
      "outputs": [
        {
          "data": {
            "text/plain": [
              "114"
            ]
          },
          "execution_count": 2,
          "metadata": {},
          "output_type": "execute_result"
        }
      ],
      "source": [
        "mugil_weight = 106\n",
        "mugil_weight.__add__(8)"
      ]
    },
    {
      "cell_type": "markdown",
      "metadata": {
        "id": "CRDJ9C_nhL-O"
      },
      "source": [
        "## Class and Methods\n"
      ]
    },
    {
      "cell_type": "markdown",
      "metadata": {
        "id": "Qma47f3VCi0-"
      },
      "source": [
        "classes and methods(function)"
      ]
    },
    {
      "cell_type": "code",
      "execution_count": null,
      "metadata": {
        "colab": {
          "base_uri": "https://localhost:8080/"
        },
        "id": "T17KVCYVHStr",
        "outputId": "c245f031-7274-497a-c3ab-485cdce72684"
      },
      "outputs": [
        {
          "name": "stdout",
          "output_type": "stream",
          "text": [
            "5\n"
          ]
        },
        {
          "data": {
            "text/plain": [
              "5"
            ]
          },
          "execution_count": 3,
          "metadata": {},
          "output_type": "execute_result"
        }
      ],
      "source": [
        "#class\n",
        "class MyClass:\n",
        "  x = 5\n",
        "  \n",
        "obj = MyClass()\n",
        "print(obj.x)\n",
        "\n",
        "#function\n",
        "def function_name():\n",
        "  return 5\n",
        "\n",
        "function_name()\n",
        "\n"
      ]
    },
    {
      "cell_type": "markdown",
      "metadata": {
        "id": "MFyJTyBkHlgF"
      },
      "source": [
        "classes and methods(function) combined"
      ]
    },
    {
      "cell_type": "code",
      "execution_count": null,
      "metadata": {
        "colab": {
          "base_uri": "https://localhost:8080/"
        },
        "id": "DQcddEuKChmi",
        "outputId": "75424451-34e9-4a84-a9ed-81f36df60caa"
      },
      "outputs": [
        {
          "name": "stdout",
          "output_type": "stream",
          "text": [
            "SDE india 10000\n"
          ]
        }
      ],
      "source": [
        "title =  'SDE'\n",
        "location =  'india'\n",
        "salary = 10000\n",
        "\n",
        "def display():\n",
        "  print(title,location,salary)\n",
        "\n",
        "class jobPost:\n",
        "   def __init__(self,title,location,salary):\n",
        "    self.title = title\n",
        "    self.location = location\n",
        "    self.salary = salary\n",
        "    self.display = display()\n",
        "\n",
        "\n",
        "job1 = jobPost(title,location,salary)\n",
        "job1.display\n"
      ]
    },
    {
      "cell_type": "markdown",
      "metadata": {
        "id": "eMujY2knJf4i"
      },
      "source": [
        "## Data Types\n",
        "\n"
      ]
    },
    {
      "cell_type": "code",
      "execution_count": null,
      "metadata": {
        "colab": {
          "base_uri": "https://localhost:8080/"
        },
        "id": "TXwpZrsTJfQj",
        "outputId": "ae3485a5-5e92-4057-d63d-9c955ee10a0a"
      },
      "outputs": [
        {
          "name": "stdout",
          "output_type": "stream",
          "text": [
            "<class 'int'>\n",
            "<class 'float'>\n",
            "<class 'str'>\n",
            "<class 'bool'>\n",
            "<class 'list'>\n",
            "<class 'tuple'>\n",
            "<class 'dict'>\n",
            "<class 'set'>\n"
          ]
        }
      ],
      "source": [
        "# Basic Data Types in Python\n",
        "\n",
        "# 1. Integer (int)\n",
        "# Represents whole numbers without a fractional component.\n",
        "# Example: 1, 42, -7\n",
        "num = 42\n",
        "print(type(num))  # Output: <class 'int'>\n",
        "\n",
        "# 2. Floating-Point (float)\n",
        "# Represents numbers that have a fractional component (decimal point).\n",
        "# Example: 3.14, -0.001, 2.718\n",
        "pi = 3.14\n",
        "print(type(pi))  # Output: <class 'float'>\n",
        "\n",
        "# 3. String (str)\n",
        "# Represents a sequence of characters, used for textual data.\n",
        "# Example: \"Hello\", 'World', \"123\"\n",
        "greeting = \"Hello, World!\"\n",
        "print(type(greeting))  # Output: <class 'str'>\n",
        "\n",
        "# 4. Boolean (bool)\n",
        "# Represents truth values, used for logical operations.\n",
        "# Example: True, False\n",
        "is_python_easy = True\n",
        "print(type(is_python_easy))  # Output: <class 'bool'>\n",
        "\n",
        "# 5. List (list)\n",
        "# Represents an ordered collection of items, which can be of different types.\n",
        "# Example: [1, 2, 3], ['apple', 'banana', 'cherry']\n",
        "fruits = ['apple', 'banana', 'cherry']\n",
        "print(type(fruits))  # Output: <class 'list'>\n",
        "\n",
        "# 6. Tuple (tuple)\n",
        "# Represents an ordered collection of items, which are immutable (cannot be changed).\n",
        "# Example: (1, 2, 3), ('red', 'green', 'blue')\n",
        "colors = ('red', 'green', 'blue')\n",
        "print(type(colors))  # Output: <class 'tuple'>\n",
        "\n",
        "# 7. Dictionary (dict)\n",
        "# Represents a collection of key-value pairs, used for mapping and associative arrays.\n",
        "# Example: {'name': 'Alice', 'age': 25}, {'one': 1, 'two': 2}\n",
        "person = {'name': 'Alice', 'age': 25}\n",
        "print(type(person))  # Output: <class 'dict'>\n",
        "\n",
        "# 8. Set (set)\n",
        "# Represents an unordered collection of unique items.\n",
        "# Example: {1, 2, 3}, {'apple', 'banana', 'cherry'}\n",
        "unique_numbers = {1, 2, 3}\n",
        "print(type(unique_numbers))  # Output: <class 'set'>\n"
      ]
    },
    {
      "cell_type": "markdown",
      "metadata": {
        "id": "ty-KvZY5L1fw"
      },
      "source": [
        "## Accessing attribute and methods (dot notation):\n",
        "*   my_object.name -  Accessing attribute 'name' of 'my_object'\n",
        "*   my_object.method() - Calling method 'method()' of 'my_object'\n",
        "\n",
        "\n"
      ]
    },
    {
      "cell_type": "code",
      "execution_count": null,
      "metadata": {
        "colab": {
          "base_uri": "https://localhost:8080/",
          "height": 36
        },
        "id": "fU4kKSy1K2RY",
        "outputId": "bb544af1-1919-489d-a773-bcddf58acaf5"
      },
      "outputs": [
        {
          "data": {
            "application/vnd.google.colaboratory.intrinsic+json": {
              "type": "string"
            },
            "text/plain": [
              "'Mugil hari'"
            ]
          },
          "execution_count": 6,
          "metadata": {},
          "output_type": "execute_result"
        }
      ],
      "source": [
        "name = 'mugil' + ' hari'\n",
        "name.capitalize()"
      ]
    },
    {
      "cell_type": "markdown",
      "metadata": {
        "id": "sZtgn9WbOV-S"
      },
      "source": [
        "## String operations"
      ]
    },
    {
      "cell_type": "code",
      "execution_count": null,
      "metadata": {
        "colab": {
          "base_uri": "https://localhost:8080/"
        },
        "id": "OMr-HfZeOYcl",
        "outputId": "bfc39964-8292-4b01-dd48-97ed3afe5e95"
      },
      "outputs": [
        {
          "data": {
            "text/plain": [
              "['Data', 'Analyst']"
            ]
          },
          "execution_count": 7,
          "metadata": {},
          "output_type": "execute_result"
        }
      ],
      "source": [
        "'Data Analyst'.split(\" \")"
      ]
    },
    {
      "cell_type": "code",
      "execution_count": null,
      "metadata": {
        "colab": {
          "base_uri": "https://localhost:8080/",
          "height": 36
        },
        "id": "_ddx4i3qPk99",
        "outputId": "6aa6c131-6d3d-451a-a015-fefa05eb86b0"
      },
      "outputs": [
        {
          "data": {
            "application/vnd.google.colaboratory.intrinsic+json": {
              "type": "string"
            },
            "text/plain": [
              "'Mugilaananthan'"
            ]
          },
          "execution_count": 8,
          "metadata": {},
          "output_type": "execute_result"
        }
      ],
      "source": [
        "'Mugilaananthan'.replace('A','a',1)"
      ]
    },
    {
      "cell_type": "code",
      "execution_count": null,
      "metadata": {
        "colab": {
          "base_uri": "https://localhost:8080/",
          "height": 36
        },
        "id": "w8fuHAiQPn5T",
        "outputId": "839f69a9-f755-4ece-e262-4805f1f62a7a"
      },
      "outputs": [
        {
          "data": {
            "application/vnd.google.colaboratory.intrinsic+json": {
              "type": "string"
            },
            "text/plain": [
              "'size'"
            ]
          },
          "execution_count": 9,
          "metadata": {},
          "output_type": "execute_result"
        }
      ],
      "source": [
        "str.lower('SIZE')"
      ]
    },
    {
      "cell_type": "code",
      "execution_count": null,
      "metadata": {
        "colab": {
          "base_uri": "https://localhost:8080/",
          "height": 36
        },
        "id": "r0zoaJO1QPnr",
        "outputId": "01aa8ae9-f2de-4533-8361-74940306987c"
      },
      "outputs": [
        {
          "data": {
            "application/vnd.google.colaboratory.intrinsic+json": {
              "type": "string"
            },
            "text/plain": [
              "'MugilHari'"
            ]
          },
          "execution_count": 10,
          "metadata": {},
          "output_type": "execute_result"
        }
      ],
      "source": [
        "str.__add__('Mugil','Hari')"
      ]
    },
    {
      "cell_type": "code",
      "execution_count": null,
      "metadata": {
        "colab": {
          "base_uri": "https://localhost:8080/",
          "height": 36
        },
        "id": "AjKgeTQXQSgT",
        "outputId": "ac107322-ad56-4b2b-a65f-471e1e632e7b"
      },
      "outputs": [
        {
          "data": {
            "application/vnd.google.colaboratory.intrinsic+json": {
              "type": "string"
            },
            "text/plain": [
              "'Mugil Hari'"
            ]
          },
          "execution_count": 11,
          "metadata": {},
          "output_type": "execute_result"
        }
      ],
      "source": [
        "'Mugil '.__add__('Hari')"
      ]
    },
    {
      "cell_type": "code",
      "execution_count": null,
      "metadata": {
        "colab": {
          "base_uri": "https://localhost:8080/",
          "height": 36
        },
        "id": "mMgYt9-BQaR9",
        "outputId": "9383718e-9979-4c55-8222-0f3eac42d11c"
      },
      "outputs": [
        {
          "data": {
            "application/vnd.google.colaboratory.intrinsic+json": {
              "type": "string"
            },
            "text/plain": [
              "'Mugil Hari'"
            ]
          },
          "execution_count": 12,
          "metadata": {},
          "output_type": "execute_result"
        }
      ],
      "source": [
        "'Mugil ' + 'Hari'"
      ]
    },
    {
      "cell_type": "code",
      "execution_count": null,
      "metadata": {
        "colab": {
          "base_uri": "https://localhost:8080/",
          "height": 36
        },
        "id": "Vv21UxrAQ1Td",
        "outputId": "3f870c51-1803-476f-9a0a-0f27daec64b1"
      },
      "outputs": [
        {
          "data": {
            "application/vnd.google.colaboratory.intrinsic+json": {
              "type": "string"
            },
            "text/plain": [
              "'Mugil Mugil Mugil '"
            ]
          },
          "execution_count": 13,
          "metadata": {},
          "output_type": "execute_result"
        }
      ],
      "source": [
        "'Mugil ' * 3"
      ]
    },
    {
      "cell_type": "code",
      "execution_count": null,
      "metadata": {
        "colab": {
          "base_uri": "https://localhost:8080/"
        },
        "id": "vAM4IKMRQ7hR",
        "outputId": "9d1cd631-597e-4e52-b015-04f60c101aab"
      },
      "outputs": [
        {
          "data": {
            "text/plain": [
              "6"
            ]
          },
          "execution_count": 14,
          "metadata": {},
          "output_type": "execute_result"
        }
      ],
      "source": [
        "len('mugil ')"
      ]
    },
    {
      "cell_type": "code",
      "execution_count": null,
      "metadata": {
        "colab": {
          "base_uri": "https://localhost:8080/",
          "height": 36
        },
        "id": "JmKZl97PTNpT",
        "outputId": "57ffbf85-eefe-4939-df81-e067ff8525a2"
      },
      "outputs": [
        {
          "data": {
            "application/vnd.google.colaboratory.intrinsic+json": {
              "type": "string"
            },
            "text/plain": [
              "'Hi i am python analyst'"
            ]
          },
          "execution_count": 15,
          "metadata": {},
          "output_type": "execute_result"
        }
      ],
      "source": [
        "skill =  \"python\"; domain =  'analyst'\n",
        "f\"Hi i am {skill} {domain}\""
      ]
    },
    {
      "cell_type": "code",
      "execution_count": null,
      "metadata": {
        "colab": {
          "base_uri": "https://localhost:8080/",
          "height": 36
        },
        "id": "8A_FM5tsTcoK",
        "outputId": "4c833406-148b-4ac6-899c-f8aa27588943"
      },
      "outputs": [
        {
          "data": {
            "application/vnd.google.colaboratory.intrinsic+json": {
              "type": "string"
            },
            "text/plain": [
              "'i am Mugil from India'"
            ]
          },
          "execution_count": 16,
          "metadata": {},
          "output_type": "execute_result"
        }
      ],
      "source": [
        "'i am {} from {}'.format('Mugil','India')"
      ]
    },
    {
      "cell_type": "markdown",
      "metadata": {
        "id": "xn6eXq2_K29-"
      },
      "source": [
        "## Conditional Statements"
      ]
    },
    {
      "cell_type": "code",
      "execution_count": null,
      "metadata": {
        "colab": {
          "base_uri": "https://localhost:8080/"
        },
        "id": "sWpoaPQwKzJC",
        "outputId": "5b8ce9d9-11d4-4e91-f3ee-033b53d15672"
      },
      "outputs": [
        {
          "name": "stdout",
          "output_type": "stream",
          "text": [
            "The number is positive\n",
            "The number is negative\n",
            "The number is zero\n",
            "The number is positive and even\n",
            "positive\n"
          ]
        }
      ],
      "source": [
        "\n",
        "# 1. if Statement\n",
        "# Description: Executes a block of code if the condition is True.\n",
        "# Example: Check if a number is positive\n",
        "number = 10\n",
        "# If the number is greater than zero, print a message\n",
        "if number > 0:\n",
        "    print(\"The number is positive\")\n",
        "\n",
        "# 2. if-else Statement\n",
        "# Description: Executes one block of code if the condition is True and another block if the condition is False.\n",
        "# Example: Check if a number is positive or negative\n",
        "number = -5\n",
        "# If the number is greater than zero, print \"positive\", else print \"negative\"\n",
        "if number > 0:\n",
        "    print(\"The number is positive\")\n",
        "else:\n",
        "    print(\"The number is negative\")\n",
        "\n",
        "# 3. if-elif-else Statement\n",
        "# Description: Executes one block of code if the first condition is True, another block if the second condition is True, and another block if all conditions are False.\n",
        "# Example: Check if a number is positive, negative, or zero\n",
        "number = 0\n",
        "# If the number is greater than zero, print \"positive\", elif it is less than zero, print \"negative\", else print \"zero\"\n",
        "if number > 0:\n",
        "    print(\"The number is positive\")\n",
        "elif number < 0:\n",
        "    print(\"The number is negative\")\n",
        "else:\n",
        "    print(\"The number is zero\")\n",
        "\n",
        "# 4. Nested if Statement\n",
        "# Description: You can use one if or else statement inside another if or else statement.\n",
        "# Example: Check if a number is positive and even\n",
        "number = 8\n",
        "# If the number is greater than zero\n",
        "if number > 0:\n",
        "    # If the number is even, print \"positive and even\"\n",
        "    if number % 2 == 0:\n",
        "        print(\"The number is positive and even\")\n",
        "    # If the number is odd, print \"positive and odd\"\n",
        "    else:\n",
        "        print(\"The number is positive and odd\")\n",
        "# If the number is not greater than zero, print \"not positive\"\n",
        "else:\n",
        "    print(\"The number is not positive\")\n",
        "\n",
        "# 5. Ternary Conditional Operator\n",
        "# Description: A short-hand way to write if-else statements, also known as the conditional expression.\n",
        "# Example: Short-hand if-else statement\n",
        "number = 5\n",
        "# Assign \"positive\" if the number is greater than zero, else assign \"non-positive\"\n",
        "result = \"positive\" if number > 0 else \"non-positive\"\n",
        "print(result)  # Output: positive\n"
      ]
    },
    {
      "cell_type": "markdown",
      "metadata": {
        "id": "DKqxoGdkLOdZ"
      },
      "source": [
        "## Arithmetic Operations"
      ]
    },
    {
      "cell_type": "code",
      "execution_count": null,
      "metadata": {
        "colab": {
          "base_uri": "https://localhost:8080/"
        },
        "id": "wZ3OtUQfLQtp",
        "outputId": "c9d0dbe2-0811-4fc9-f7fa-ea27d69d3285"
      },
      "outputs": [
        {
          "name": "stdout",
          "output_type": "stream",
          "text": [
            "Addition: 8\n",
            "Subtraction: 2\n",
            "Multiplication: 15\n",
            "Division: 1.6666666666666667\n",
            "Floor Division: 1\n",
            "Modulus: 2\n",
            "Exponentiation: 125\n"
          ]
        }
      ],
      "source": [
        "# 1. Addition (+)\n",
        "# Adds two numbers together.\n",
        "a = 5\n",
        "b = 3\n",
        "result = a + b\n",
        "print(\"Addition:\", result)  # Output: 8\n",
        "\n",
        "# 2. Subtraction (-)\n",
        "# Subtracts the second number from the first.\n",
        "result = a - b\n",
        "print(\"Subtraction:\", result)  # Output: 2\n",
        "\n",
        "# 3. Multiplication (*)\n",
        "# Multiplies two numbers.\n",
        "result = a * b\n",
        "print(\"Multiplication:\", result)  # Output: 15\n",
        "\n",
        "# 4. Division (/)\n",
        "# Divides the first number by the second, resulting in a float.\n",
        "result = a / b\n",
        "print(\"Division:\", result)  # Output: 1.6666666666666667\n",
        "\n",
        "# 5. Floor Division (//)\n",
        "# Divides the first number by the second, resulting in an integer.\n",
        "result = a // b\n",
        "print(\"Floor Division:\", result)  # Output: 1\n",
        "\n",
        "# 6. Modulus (%)\n",
        "# Returns the remainder of the division of the first number by the second.\n",
        "result = a % b\n",
        "print(\"Modulus:\", result)  # Output: 2\n",
        "\n",
        "# 7. Exponentiation (**)\n",
        "# Raises the first number to the power of the second number.\n",
        "result = a ** b\n",
        "print(\"Exponentiation:\", result)  # Output: 125"
      ]
    },
    {
      "cell_type": "markdown",
      "metadata": {
        "id": "wZS9CW8nMA_k"
      },
      "source": [
        "## Assignment and Comparative Operations"
      ]
    },
    {
      "cell_type": "code",
      "execution_count": null,
      "metadata": {
        "colab": {
          "base_uri": "https://localhost:8080/"
        },
        "id": "YJBUjDsfL9bE",
        "outputId": "107df661-8716-48cd-92ef-14721ade6043"
      },
      "outputs": [
        {
          "name": "stdout",
          "output_type": "stream",
          "text": [
            "x = 10\n",
            "y = 5\n",
            "x += 3: 13\n",
            "x -= 2: 11\n",
            "x *= 2: 22\n",
            "x /= 4: 5.5\n",
            "x //= 2: 2.0\n",
            "x %= 3: 2.0\n",
            "x **= 2: 4.0\n",
            "a > b: False\n",
            "a < b: True\n",
            "a >= b: False\n",
            "a <= b: True\n",
            "a == b: False\n",
            "a != b: True\n"
          ]
        }
      ],
      "source": [
        "# 1. Assignment Operators\n",
        "# Description: Used to assign values to variables.\n",
        "# Example: Assigning values to variables using =\n",
        "x = 10\n",
        "y = 5\n",
        "print(\"x =\", x)  # Output: x = 10\n",
        "print(\"y =\", y)  # Output: y = 5\n",
        "\n",
        "# Additional Assignment Operators\n",
        "x += 3  # Equivalent to x = x + 3\n",
        "print(\"x += 3:\", x)  # Output: x += 3: 13\n",
        "\n",
        "x -= 2  # Equivalent to x = x - 2\n",
        "print(\"x -= 2:\", x)  # Output: x -= 2: 11\n",
        "\n",
        "x *= 2  # Equivalent to x = x * 2\n",
        "print(\"x *= 2:\", x)  # Output: x *= 2: 22\n",
        "\n",
        "x /= 4  # Equivalent to x = x / 4\n",
        "print(\"x /= 4:\", x)  # Output: x /= 4: 5.5\n",
        "\n",
        "x //= 2  # Equivalent to x = x // 2\n",
        "print(\"x //= 2:\", x)  # Output: x //= 2: 2.0\n",
        "\n",
        "x %= 3  # Equivalent to x = x % 3\n",
        "print(\"x %= 3:\", x)  # Output: x %= 3: 2.0\n",
        "\n",
        "x **= 2  # Equivalent to x = x ** 2\n",
        "print(\"x **= 2:\", x)  # Output: x **= 2: 4.0\n",
        "\n",
        "# 2. Comparative Operators\n",
        "# Description: Used to compare two values.\n",
        "# Example: Comparison operations\n",
        "a = 10\n",
        "b = 20\n",
        "\n",
        "# Greater than (>)\n",
        "print(\"a > b:\", a > b)  # Output: a > b: False\n",
        "\n",
        "# Less than (<)\n",
        "print(\"a < b:\", a < b)  # Output: a < b: True\n",
        "\n",
        "# Greater than or equal to (>=)\n",
        "print(\"a >= b:\", a >= b)  # Output: a >= b: False\n",
        "\n",
        "# Less than or equal to (<=)\n",
        "print(\"a <= b:\", a <= b)  # Output: a <= b: True\n",
        "\n",
        "# Equal to (==)\n",
        "print(\"a == b:\", a == b)  # Output: a == b: False\n",
        "\n",
        "# Not equal to (!=)\n",
        "print(\"a != b:\", a != b)  # Output: a != b: True\n"
      ]
    },
    {
      "cell_type": "markdown",
      "metadata": {
        "id": "DyweVBZH58-A"
      },
      "source": [
        "##List\n",
        "List\n",
        "Here's a quick comparison between these 4 container data types:\n",
        "\n",
        "| Feature          | List                                  | Dictionary                           | Set                                | Tuple                             |\n",
        "|------------------|---------------------------------------|--------------------------------------|------------------------------------|-----------------------------------|\n",
        "| Syntax           | `[item1, item2, ...]`                 | `{'key1': value1, 'key2': value2}`   | `{item1, item2, ...}`              | `(item1, item2, ...)` or `item,`  |\n",
        "| Type of Data     | Sequence                              | Mapping                              | Set                                | Sequence                          |\n",
        "| Order            | Ordered                               | Unordered                            | Unordered                          | Ordered                           |\n",
        "| Indexing         | Yes (by index)                        | Yes (by key)                         | No                                 | Yes (by index)                    |\n",
        "| Duplicate Values | Allowed                               | Values can be duplicated, keys cannot| Not allowed                        | Allowed                           |\n",
        "| Mutability       | Mutable                               | Mutable                              | Mutable                            | Immutable                         |\n",
        "| Usage            | For a collection of ordered items     | For key-value pairs                  | For unique items                   | For fixed data                    |"
      ]
    },
    {
      "cell_type": "markdown",
      "metadata": {
        "id": "e82aV5xR7T__"
      },
      "source": [
        "Notes\n",
        "\n",
        "- Used to store multiple ordered items in a single variable.\n",
        "- Created using `[` and `]`.\n",
        "- We won't be going into everything that we can do in a list.\n",
        "- Common data types in lists: Integer, Float, String, Boolean, List, Dictionary, Tuple, Set, Object.\n",
        "- You can include lists within lists.\n",
        "- Easy to store information.  \n",
        "\n",
        "Importance\n",
        "\n",
        "Versatile for storing sequences of data. Pandas can convert lists into Series or DataFrame objects for analysis."
      ]
    },
    {
      "cell_type": "code",
      "execution_count": null,
      "metadata": {
        "colab": {
          "base_uri": "https://localhost:8080/"
        },
        "id": "SWWdKgII58dP",
        "outputId": "4ac6ef13-e8c3-40cc-cbd5-fb502f1efb75"
      },
      "outputs": [
        {
          "data": {
            "text/plain": [
              "['sql', 'tableau', 'excel', 9, ['mugil', 1410]]"
            ]
          },
          "execution_count": 20,
          "metadata": {},
          "output_type": "execute_result"
        }
      ],
      "source": [
        "# Define a list of data science jobs\n",
        "job_skills = ['sql','tableau','excel',9,['mugil',1410]]\n",
        "job_skills"
      ]
    },
    {
      "cell_type": "code",
      "execution_count": null,
      "metadata": {
        "colab": {
          "base_uri": "https://localhost:8080/"
        },
        "id": "rg_y3pql7uRt",
        "outputId": "1efad577-6c68-44b0-a923-faf6683e1c08"
      },
      "outputs": [
        {
          "data": {
            "text/plain": [
              "['sql', 'tableau', 'excel', 9, ['mugil', 1410], 'python']"
            ]
          },
          "execution_count": 21,
          "metadata": {},
          "output_type": "execute_result"
        }
      ],
      "source": [
        "job_skills.append('python')\n",
        "job_skills"
      ]
    },
    {
      "cell_type": "code",
      "execution_count": null,
      "metadata": {
        "colab": {
          "base_uri": "https://localhost:8080/"
        },
        "id": "biKka_d87yY-",
        "outputId": "6dc55d59-43f3-49d6-a5b3-f86d6585bbc9"
      },
      "outputs": [
        {
          "data": {
            "text/plain": [
              "['tableau', 'excel', 9, ['mugil', 1410], 'python']"
            ]
          },
          "execution_count": 22,
          "metadata": {},
          "output_type": "execute_result"
        }
      ],
      "source": [
        "job_skills.remove('sql')\n",
        "job_skills"
      ]
    },
    {
      "cell_type": "code",
      "execution_count": null,
      "metadata": {
        "colab": {
          "base_uri": "https://localhost:8080/"
        },
        "id": "80KrhGNC72Hj",
        "outputId": "bfc46b04-0bbd-4922-b8a2-9fa8ab8eb354"
      },
      "outputs": [
        {
          "data": {
            "text/plain": [
              "['tableau', 'excel', 'sql', 9, ['mugil', 1410], 'python']"
            ]
          },
          "execution_count": 23,
          "metadata": {},
          "output_type": "execute_result"
        }
      ],
      "source": [
        "job_skills.insert(2,'sql')\n",
        "job_skills"
      ]
    },
    {
      "cell_type": "code",
      "execution_count": null,
      "metadata": {
        "colab": {
          "base_uri": "https://localhost:8080/",
          "height": 36
        },
        "id": "h24QSh0O8U9l",
        "outputId": "f4b9b644-2232-4d95-f1c2-ea79b036a9c8"
      },
      "outputs": [
        {
          "data": {
            "application/vnd.google.colaboratory.intrinsic+json": {
              "type": "string"
            },
            "text/plain": [
              "'sql'"
            ]
          },
          "execution_count": 24,
          "metadata": {},
          "output_type": "execute_result"
        }
      ],
      "source": [
        "job_skills[2]"
      ]
    },
    {
      "cell_type": "code",
      "execution_count": null,
      "metadata": {
        "colab": {
          "base_uri": "https://localhost:8080/"
        },
        "id": "6wXYcI2z9HRG",
        "outputId": "9cdd25aa-a185-4b49-9eef-805f853757e6"
      },
      "outputs": [
        {
          "name": "stdout",
          "output_type": "stream",
          "text": [
            "list index out of range\n"
          ]
        }
      ],
      "source": [
        "#using try except to handle out of range list index\n",
        "try:\n",
        "  job_skills[10]\n",
        "except Exception as e:\n",
        "  print(e)"
      ]
    },
    {
      "cell_type": "code",
      "execution_count": null,
      "metadata": {
        "colab": {
          "base_uri": "https://localhost:8080/"
        },
        "id": "g60Gogac7_x5",
        "outputId": "09dfa62d-99fb-4538-a159-aa90ede204bf"
      },
      "outputs": [
        {
          "data": {
            "text/plain": [
              "['tableau', 'excel', 'sql', 9, ['mugil', 1410]]"
            ]
          },
          "execution_count": 26,
          "metadata": {},
          "output_type": "execute_result"
        }
      ],
      "source": [
        "job_skills.pop()\n",
        "job_skills"
      ]
    },
    {
      "cell_type": "code",
      "execution_count": null,
      "metadata": {
        "colab": {
          "base_uri": "https://localhost:8080/",
          "height": 158
        },
        "id": "y7TSL-vw8INn",
        "outputId": "784bf982-0c65-491c-f39d-e5f58a3d484f"
      },
      "outputs": [
        {
          "ename": "TypeError",
          "evalue": "'<' not supported between instances of 'int' and 'str'",
          "output_type": "error",
          "traceback": [
            "\u001b[0;31m---------------------------------------------------------------------------\u001b[0m",
            "\u001b[0;31mTypeError\u001b[0m                                 Traceback (most recent call last)",
            "\u001b[0;32m<ipython-input-27-a601cb84c88d>\u001b[0m in \u001b[0;36m<cell line: 1>\u001b[0;34m()\u001b[0m\n\u001b[0;32m----> 1\u001b[0;31m \u001b[0mjob_skills\u001b[0m\u001b[0;34m.\u001b[0m\u001b[0msort\u001b[0m\u001b[0;34m(\u001b[0m\u001b[0;34m)\u001b[0m\u001b[0;34m\u001b[0m\u001b[0;34m\u001b[0m\u001b[0m\n\u001b[0m\u001b[1;32m      2\u001b[0m \u001b[0mjob_skills\u001b[0m\u001b[0;34m\u001b[0m\u001b[0;34m\u001b[0m\u001b[0m\n",
            "\u001b[0;31mTypeError\u001b[0m: '<' not supported between instances of 'int' and 'str'"
          ]
        }
      ],
      "source": [
        "job_skills.sort()\n",
        "job_skills"
      ]
    },
    {
      "cell_type": "code",
      "execution_count": null,
      "metadata": {
        "id": "2zG6hHNf8M7D"
      },
      "outputs": [],
      "source": [
        "job_skills.reverse()\n",
        "job_skills"
      ]
    },
    {
      "cell_type": "markdown",
      "metadata": {
        "id": "_LxXrZ199oxt"
      },
      "source": [
        "Slicing Syntax:\n",
        "* Syntax: `list[start:end:step]`  \n",
        "    * `start`: The starting index (inclusive)\n",
        "    * `end`: The ending index (exclusive)\n",
        "    * `step`: Steps to take between items"
      ]
    },
    {
      "cell_type": "code",
      "execution_count": null,
      "metadata": {
        "id": "TFpXYDQ59p9d"
      },
      "outputs": [],
      "source": [
        "job_skills[0:2]"
      ]
    },
    {
      "cell_type": "code",
      "execution_count": null,
      "metadata": {
        "id": "MGOpEpO9-sn7"
      },
      "outputs": [],
      "source": [
        "#using steps\n",
        "job_skills = ['sql','tableau','excel']\n",
        "job_skills[::2]"
      ]
    },
    {
      "cell_type": "code",
      "execution_count": null,
      "metadata": {
        "id": "OqS62RWW-85d"
      },
      "outputs": [],
      "source": [
        "job_skills[::-1]"
      ]
    },
    {
      "cell_type": "markdown",
      "metadata": {
        "id": "leqGGiWiCsnw"
      },
      "source": [
        "Joins"
      ]
    },
    {
      "cell_type": "code",
      "execution_count": null,
      "metadata": {
        "id": "wlJjv8MT_u66"
      },
      "outputs": [],
      "source": [
        "luke = ['python','bigquery','r']\n",
        "kelly = ['python','sql','looker']\n",
        "total_skills = luke+kelly\n",
        "total_skills\n"
      ]
    },
    {
      "cell_type": "code",
      "execution_count": null,
      "metadata": {
        "id": "8Dme9ZhnA5FC"
      },
      "outputs": [],
      "source": [
        "#unpacking list\n",
        "skill1,skill2,skill3 = luke\n",
        "print(skill1)\n",
        "print(skill2)\n",
        "print(skill3)"
      ]
    },
    {
      "cell_type": "code",
      "execution_count": null,
      "metadata": {
        "id": "qRosKdKUBYnA"
      },
      "outputs": [],
      "source": [
        "#use asertrick to manage to manu values while unpacking\n",
        "skill1,*other_skills = total_skills\n",
        "print(skill1)\n",
        "print(other_skills)"
      ]
    },
    {
      "cell_type": "markdown",
      "metadata": {
        "id": "uMzzd3Manh_2"
      },
      "source": [
        "## Dictnories"
      ]
    },
    {
      "cell_type": "markdown",
      "metadata": {
        "id": "V3cnBz7NnoGJ"
      },
      "source": [
        "Here's a quick comparison between these 4 container data types:\n",
        "\n",
        "| Feature          | List                                  | Dictionary                           | Set                                | Tuple                             |\n",
        "|------------------|---------------------------------------|--------------------------------------|------------------------------------|-----------------------------------|\n",
        "| Syntax           | `[item1, item2, ...]`                 | `{'key1': value1, 'key2': value2}`   | `{item1, item2, ...}`              | `(item1, item2, ...)` or `item,`  |\n",
        "| Type of Data     | Sequence                              | Mapping                              | Set                                | Sequence                          |\n",
        "| Order            | Ordered                               | Unordered                            | Unordered                          | Ordered                           |\n",
        "| Indexing         | Yes (by index)                        | Yes (by key)                         | No                                 | Yes (by index)                    |\n",
        "| Duplicate Values | Allowed                               | Values can be duplicated, keys cannot| Not allowed                        | Allowed                           |\n",
        "| Mutability       | Mutable                               | Mutable                              | Mutable                            | Immutable                         |\n",
        "| Usage            | For a collection of ordered items     | For key-value pairs                  | For unique items                   | For fixed data                    |"
      ]
    },
    {
      "cell_type": "markdown",
      "metadata": {
        "id": "rLTdNfAQn7gx"
      },
      "source": [
        "Notes\n",
        "- Used to store multiple unordered key-value pairs in a single variable.\n",
        "\n",
        "- Created using { and }.\n",
        "\n",
        "- Common data types for keys and values in dictionaries: Integer, Float, String, Boolean, List, Dictionary, Tuple, Set, Object.\n",
        "\n",
        "- Keys in dictionaries must be unique and immutable (e.g., strings, numbers, tuples).\n",
        "\n",
        "- Values in dictionaries can be of any data type and can include lists or even other dictionaries.\n",
        "\n",
        "- Efficiently store and retrieve data by key.\n",
        "\n",
        "Importance\n",
        "- Versatile for mapping and associating data.\n",
        "\n",
        "- Frequently used to represent structured data (e.g., JSON format).\n",
        "\n",
        "- Useful for quickly retrieving data based on a unique key.\n",
        "\n",
        "- Pandas can convert dictionaries into Series or DataFrame objects for analysis."
      ]
    },
    {
      "cell_type": "code",
      "execution_count": null,
      "metadata": {
        "id": "Ug41M45CoSBh"
      },
      "outputs": [],
      "source": [
        "job_skills = {\n",
        "    'database':'mongodb',\n",
        "    'language':'python',\n",
        "    'libary':'pandas'\n",
        "}\n",
        "job_skills"
      ]
    },
    {
      "cell_type": "code",
      "execution_count": null,
      "metadata": {
        "id": "n6aN1DIErvF7"
      },
      "outputs": [],
      "source": [
        "job_skills['database']"
      ]
    },
    {
      "cell_type": "code",
      "execution_count": null,
      "metadata": {
        "id": "_IgUOixXrzgQ"
      },
      "outputs": [],
      "source": [
        "job_skills.get('database')"
      ]
    },
    {
      "cell_type": "code",
      "execution_count": null,
      "metadata": {
        "id": "8Db9bc4er46q"
      },
      "outputs": [],
      "source": [
        "job_skills.keys()"
      ]
    },
    {
      "cell_type": "code",
      "execution_count": null,
      "metadata": {
        "id": "kZCtOBUSslV1"
      },
      "outputs": [],
      "source": [
        "job_skills.values()"
      ]
    },
    {
      "cell_type": "code",
      "execution_count": null,
      "metadata": {
        "id": "aykKcd8ossdG"
      },
      "outputs": [],
      "source": [
        "job_skills.pop('database')\n",
        "job_skills"
      ]
    },
    {
      "cell_type": "code",
      "execution_count": null,
      "metadata": {
        "id": "-JARUHIFtNpf"
      },
      "outputs": [],
      "source": [
        "job_skills.update({'database':'mongodb'})\n",
        "job_skills"
      ]
    },
    {
      "cell_type": "code",
      "execution_count": null,
      "metadata": {
        "id": "WB5snCJwtUsF"
      },
      "outputs": [],
      "source": [
        "job_skills['version control'] = 'git'\n",
        "job_skills"
      ]
    },
    {
      "cell_type": "markdown",
      "metadata": {
        "id": "hI9Wsrubu_25"
      },
      "source": [
        "## Set"
      ]
    },
    {
      "cell_type": "markdown",
      "metadata": {
        "id": "CKpoSXyZvrHm"
      },
      "source": [
        "Here's a quick comparison between these 4 container data types:\n",
        "\n",
        "| Feature          | List                                  | Dictionary                           | Set                                | Tuple                             |\n",
        "|------------------|---------------------------------------|--------------------------------------|------------------------------------|-----------------------------------|\n",
        "| Syntax           | `[item1, item2, ...]`                 | `{'key1': value1, 'key2': value2}`   | `{item1, item2, ...}`              | `(item1, item2, ...)` or `item,`  |\n",
        "| Type of Data     | Sequence                              | Mapping                              | Set                                | Sequence                          |\n",
        "| Order            | Ordered                               | Unordered                            | Unordered                          | Ordered                           |\n",
        "| Indexing         | Yes (by index)                        | Yes (by key)                         | No                                 | Yes (by index)                    |\n",
        "| Duplicate Values | Allowed                               | Values can be duplicated, keys cannot| Not allowed                        | Allowed                           |\n",
        "| Mutability       | Mutable                               | Mutable                              | Mutable                            | Immutable                         |\n",
        "| Usage            | For a collection of ordered items     | For key-value pairs                  | For unique items                   | For fixed data                    |"
      ]
    },
    {
      "cell_type": "markdown",
      "metadata": {
        "id": "IrSS3P5NvDPL"
      },
      "source": [
        "Notes\n",
        "- Used to store multiple unordered unique items in a single variable.\n",
        "\n",
        "- Created using { and }.\n",
        "\n",
        "- We won't be going into everything that we can do with sets.\n",
        "\n",
        "- Common data types in sets: Integer, Float, String, Boolean, Tuple.\n",
        "\n",
        "- Sets do not allow duplicate elements.\n",
        "\n",
        "- Elements in sets are immutable, but the set itself is mutable; you can add or remove elements.\n",
        "\n",
        "- Efficient for membership testing and eliminating duplicates.\n",
        "\n",
        "Importance\n",
        "- Versatile for storing unique items and removing duplicates.\n",
        "\n",
        "- Frequently used for membership testing, i.e., checking if an element is in a set.\n",
        "\n",
        "- Useful for performing mathematical operations like union, intersection, difference, and symmetric difference.\n",
        "\n",
        "- Pandas can convert lists or Series to sets for unique operations and analysis."
      ]
    },
    {
      "cell_type": "code",
      "execution_count": null,
      "metadata": {
        "id": "McjvFlM-F_mQ"
      },
      "outputs": [],
      "source": [
        "skills_sets={'python','ruby','mysql'}\n",
        "skills_sets"
      ]
    },
    {
      "cell_type": "code",
      "execution_count": null,
      "metadata": {
        "id": "Zc_g_jWOGIV6"
      },
      "outputs": [],
      "source": [
        "skills_sets.add('sql')\n",
        "skills_sets"
      ]
    },
    {
      "cell_type": "code",
      "execution_count": null,
      "metadata": {
        "id": "6u0w1lKUGTSq"
      },
      "outputs": [],
      "source": [
        "skills_sets.remove('ruby')\n",
        "skills_sets"
      ]
    },
    {
      "cell_type": "code",
      "execution_count": null,
      "metadata": {
        "id": "-ysDx2edGZcI"
      },
      "outputs": [],
      "source": [
        "skills_sets.pop()\n",
        "skills_sets"
      ]
    },
    {
      "cell_type": "code",
      "execution_count": null,
      "metadata": {
        "id": "wDCk2f9_HCVF"
      },
      "outputs": [],
      "source": [
        "# convert list to set and list to remove duplicate from the list\n",
        "target_list = ['python','python','sql']\n",
        "target_list = list(set(target_list))\n",
        "target_list\n"
      ]
    },
    {
      "cell_type": "markdown",
      "metadata": {
        "id": "5fU7QHn-IESg"
      },
      "source": [
        "## Tuple"
      ]
    },
    {
      "cell_type": "markdown",
      "metadata": {
        "id": "FpKSQwS5IHIH"
      },
      "source": [
        "Here's a quick comparison between these 4 container data types:\n",
        "\n",
        "| Feature          | List                                  | Dictionary                           | Set                                | Tuple                             |\n",
        "|------------------|---------------------------------------|--------------------------------------|------------------------------------|-----------------------------------|\n",
        "| Syntax           | `[item1, item2, ...]`                 | `{'key1': value1, 'key2': value2}`   | `{item1, item2, ...}`              | `(item1, item2, ...)` or `item,`  |\n",
        "| Type of Data     | Sequence                              | Mapping                              | Set                                | Sequence                          |\n",
        "| Order            | Ordered                               | Unordered                            | Unordered                          | Ordered                           |\n",
        "| Indexing         | Yes (by index)                        | Yes (by key)                         | No                                 | Yes (by index)                    |\n",
        "| Duplicate Values | Allowed                               | Values can be duplicated, keys cannot| Not allowed                        | Allowed                           |\n",
        "| Mutability       | Mutable                               | Mutable                              | Mutable                            | Immutable                         |\n",
        "| Usage            | For a collection of ordered items     | For key-value pairs                  | For unique items                   | For fixed data                    |"
      ]
    },
    {
      "cell_type": "markdown",
      "metadata": {
        "id": "n4W4y83eIKeC"
      },
      "source": [
        "Notes\n",
        "- Used to store multiple ordered items in a single variable.\n",
        "\n",
        "- Created using ( and ).\n",
        "\n",
        "- We won't be going into everything that we can do with tuples.\n",
        "\n",
        "- Common data types in tuples: Integer, Float, String, Boolean, List, Dictionary, Tuple, Set, Object.\n",
        "\n",
        "- Tuples are immutable, meaning that once created, their elements cannot be changed.\n",
        "\n",
        "- You can include tuples within tuples.\n",
        "\n",
        "- Efficient for storing and accessing fixed collections of items.\n",
        "\n",
        "Importance\n",
        "- Versatile for storing fixed sequences of data.\n",
        "\n",
        "- Frequently used for returning multiple values from functions.\n",
        "\n",
        "- Useful for ensuring data integrity since tuples are immutable.\n",
        "\n",
        "- Tuples can be used as keys in dictionaries due to their immutability.\n",
        "\n",
        "- Pandas can convert tuples into Series or DataFrame objects for analysis.-"
      ]
    },
    {
      "cell_type": "code",
      "execution_count": null,
      "metadata": {
        "id": "NWcH5HlUIjGN"
      },
      "outputs": [],
      "source": [
        "tar_tup = ('python','sql','excel','excel')\n",
        "tar_tup"
      ]
    },
    {
      "cell_type": "code",
      "execution_count": null,
      "metadata": {
        "id": "IYAlG6kpIpAI"
      },
      "outputs": [],
      "source": [
        "tar_tup[0]"
      ]
    },
    {
      "cell_type": "code",
      "execution_count": null,
      "metadata": {
        "id": "HB8M1oOBI8mi"
      },
      "outputs": [],
      "source": [
        "tar_tup[0:2]"
      ]
    },
    {
      "cell_type": "code",
      "execution_count": null,
      "metadata": {
        "id": "llfYLay6I6xI"
      },
      "outputs": [],
      "source": [
        "#count how many items in the list\n",
        "tar_tup.count('excel')"
      ]
    },
    {
      "cell_type": "code",
      "execution_count": null,
      "metadata": {
        "id": "iXrgueuJJVYO"
      },
      "outputs": [],
      "source": [
        "#find index of the element\n",
        "tar_tup.index('excel')"
      ]
    },
    {
      "cell_type": "code",
      "execution_count": null,
      "metadata": {
        "id": "PF6r0nqWJfGy"
      },
      "outputs": [],
      "source": [
        "#adding item in tuple is not done by append method instead add two tuples\n",
        "tar_tup += ('tableau','php')\n",
        "tar_tup"
      ]
    },
    {
      "cell_type": "code",
      "execution_count": null,
      "metadata": {
        "id": "pnvfxDpZKBSz"
      },
      "outputs": [],
      "source": [
        "#to find object id of tar_tup\n",
        "id(tar_tup)"
      ]
    },
    {
      "cell_type": "markdown",
      "metadata": {
        "id": "5Ey-Ajt9KmDk"
      },
      "source": [
        "## Range"
      ]
    },
    {
      "cell_type": "code",
      "execution_count": null,
      "metadata": {
        "id": "q5mITKTDKoEJ"
      },
      "outputs": [],
      "source": [
        "#range function\n",
        "#Python range is a function that returns a sequence of numbers. By default, range returns a sequence that begins at 0 and increments in steps of 1\n",
        "\n",
        "tuple(range(1,11,2))"
      ]
    },
    {
      "cell_type": "markdown",
      "metadata": {
        "id": "V6D0bLBuLotj"
      },
      "source": [
        "## Logical Operators\n",
        "\n",
        "Logical operators connect two or more conditions and evaluate the truth or falsity of the conditions combined.\n",
        "\n",
        "| Operator | Name     | Example |\n",
        "|----------|----------|---------|\n",
        "| and      | Logical AND | x and y |\n",
        "| or       | Logical OR  | x or y  |\n",
        "| not      | Logical NOT | not x   |\n"
      ]
    },
    {
      "cell_type": "code",
      "execution_count": null,
      "metadata": {
        "id": "ZXuVbKDTLoOC"
      },
      "outputs": [],
      "source": [
        "wfh = True\n",
        "master_degree = False\n",
        "insurance =  True\n",
        "\n",
        "\n",
        "wfh and insurance and master_degree"
      ]
    },
    {
      "cell_type": "code",
      "execution_count": null,
      "metadata": {
        "id": "LA7fCP8FOAlM"
      },
      "outputs": [],
      "source": [
        "#not will check oppsite to condition\n",
        "not True\n"
      ]
    },
    {
      "cell_type": "code",
      "execution_count": null,
      "metadata": {
        "id": "1_KoGoCzNzYY"
      },
      "outputs": [],
      "source": [
        "if wfh and insurance and master_degree:\n",
        "  print('eligible for insurance')\n",
        "else:\n",
        "  print('not eligible for insurance')"
      ]
    },
    {
      "cell_type": "markdown",
      "metadata": {
        "id": "xhkngyprOZ4L"
      },
      "source": [
        "## Identity Operators\n",
        "\n",
        "Identity operators check if two variables occupy the same memory location, i.e., are identical.\n",
        "\n",
        "| Operator | Name               | Example   |\n",
        "|----------|--------------------|-----------|\n",
        "| is       | Identity           | x is y    |\n",
        "| is not   | Not identity       | x is not y|"
      ]
    },
    {
      "cell_type": "markdown",
      "metadata": {
        "id": "lU5lycJ3OZlX"
      },
      "source": []
    },
    {
      "cell_type": "code",
      "execution_count": null,
      "metadata": {
        "id": "qPniA2O1RP87"
      },
      "outputs": [],
      "source": [
        "mugil = 'Good'\n",
        "kanmani = 'good'\n",
        "kanmani.upper() is mugil.upper()"
      ]
    },
    {
      "cell_type": "code",
      "execution_count": null,
      "metadata": {
        "id": "95_KJT8DOZHN"
      },
      "outputs": [],
      "source": []
    },
    {
      "cell_type": "markdown",
      "metadata": {
        "id": "PfnZTgu1RyFt"
      },
      "source": [
        "## Membership Operators\n",
        "\n",
        "Membership operators test for membership in a sequence, such as strings, lists, or tuples.\n",
        "\n",
        "| Operator | Name            | Example   |\n",
        "|----------|-----------------|-----------|\n",
        "| in       | Membership      | x in y    |\n",
        "| not in   | Not membership  | x not in y|"
      ]
    },
    {
      "cell_type": "code",
      "execution_count": null,
      "metadata": {
        "id": "nGdfPVITR1UP"
      },
      "outputs": [],
      "source": [
        "\"data\" in 'data analyst'"
      ]
    },
    {
      "cell_type": "code",
      "execution_count": null,
      "metadata": {
        "id": "IhxFN-OCR65B"
      },
      "outputs": [],
      "source": [
        "'Data' not in 'data analyst'"
      ]
    },
    {
      "cell_type": "markdown",
      "metadata": {
        "id": "DoKpprxWSQDD"
      },
      "source": [
        "## Bitwise Operators\n",
        "\n",
        "Bitwise operators perform bit-by-bit operations on binary numbers.\n",
        "\n",
        "| Operator | Name        | Example |\n",
        "|----------|-------------|---------|\n",
        "| &        | Bitwise AND | x & y   |\n",
        "| \\|       | Bitwise OR  | x \\| y  |\n",
        "| ^        | Bitwise XOR | x ^ y   |\n",
        "| ~        | Bitwise NOT | ~x      |\n",
        "| <<       | Left Shift  | x << y  |\n",
        "| >>       | Right Shift | x >> y  |\n",
        "\n",
        "- Bitwise operations are beyond the scope of using Python for Data Analytics.  \n",
        "- You could technically use `&` and `|` in place of `and` and `or` for Boolean comparison, BUT it's less readable.  \n",
        "- You'll see the `&` and `|` operators pop up again when we cover Pandas.  "
      ]
    },
    {
      "cell_type": "code",
      "execution_count": null,
      "metadata": {
        "id": "48QrY0nQSNFN"
      },
      "outputs": [],
      "source": [
        "True & False"
      ]
    },
    {
      "cell_type": "code",
      "execution_count": null,
      "metadata": {
        "id": "-j7OWQzKScI-"
      },
      "outputs": [],
      "source": [
        "True | False"
      ]
    },
    {
      "cell_type": "code",
      "execution_count": null,
      "metadata": {
        "id": "IlZXoC7cS2KQ"
      },
      "outputs": [],
      "source": [
        "x = 10  # binary 1010\n",
        "y = 4   # binary 0100\n",
        "result = x & y  # binary 0000 -> decimal 0\n",
        "\n",
        "result"
      ]
    },
    {
      "cell_type": "code",
      "execution_count": null,
      "metadata": {
        "id": "yXq0xrg_Sz3F"
      },
      "outputs": [],
      "source": [
        "x = 10  # binary 1010\n",
        "y = 4   # binary 0100\n",
        "result = x | y  # binary 1110 -> decimal 14\n",
        "\n",
        "result"
      ]
    },
    {
      "cell_type": "markdown",
      "metadata": {
        "id": "hfzhOSObTGbc"
      },
      "source": [
        "## Loops\n",
        "- while loops\n",
        "- for loops"
      ]
    },
    {
      "cell_type": "code",
      "execution_count": null,
      "metadata": {
        "id": "UUZjGUt1TLca"
      },
      "outputs": [],
      "source": [
        "for i in range(1,11,4):\n",
        "  print(i)\n",
        "\n",
        "  # first parameter is start value second is end value third is step (iterate step)"
      ]
    },
    {
      "cell_type": "code",
      "execution_count": null,
      "metadata": {
        "id": "eBho1z0xTfWq"
      },
      "outputs": [],
      "source": [
        "tar_list = ['mugil','kanmani','roma','peter']\n",
        "\n",
        "for i in tar_list:\n",
        "  print(i)"
      ]
    },
    {
      "cell_type": "code",
      "execution_count": null,
      "metadata": {
        "id": "Iz0B3idjWcqj"
      },
      "outputs": [],
      "source": [
        "companies_hiring = {\n",
        "    \"Google\": \"Data Analysts\",\n",
        "    \"Amazon\": \"Cloud Solutions Architects\",\n",
        "    \"Microsoft\": \"Data Analysts\",\n",
        "    \"Facebook\": \"Data Scientists\",\n",
        "    \"Netflix\": \"Security Analysts\",\n",
        "    \"Tesla\": \"Robotics Engineers\",\n",
        "    \"IBM\": \"AI Researchers\",\n",
        "    \"Accenture\": \"IT Consultants\",\n",
        "    \"Deloitte\": \"Business Analysts\",\n",
        "    \"PwC\": \"IT Auditors\",\n",
        "    \"Capco\": \"Technology Associates\",\n",
        "    \"Infosys\": \"Software Developers\",\n",
        "    \"Mphasis\": \"Application Developers\",\n",
        "    \"Randstad\": \"Data Analysts\",\n",
        "    \"Verizon\": \"Network Engineers\",\n",
        "    \"BNY\": \"Database Administrators\",\n",
        "    \"Conneqt\": \"Operations Analysts\",\n",
        "    \"Goibibo\": \"Data Analysts\",\n",
        "    \"Maruti Suzuki\": \"Quality Control Engineers\",\n",
        "    \"Target\": \"Supply Chain Analysts\",\n",
        "    \"Adidas\": \"Digital Strategists\",\n",
        "    \"Pepsico\": \"Logistics Managers\",\n",
        "    \"Morgan Stanley\": \"Risk Managers\",\n",
        "    \"Becton Dickinson\": \"Quality Assurance Engineers\",\n",
        "    \"Focus KPI\": \"Data Visualization Specialists\",\n",
        "    \"Affinity Solutions\": \"Client Solutions Engineers\"\n",
        "}\n",
        "\n",
        "filtered_companies = []\n",
        "\n",
        "for company,role in companies_hiring.items():\n",
        "  if role == 'Data Analysts':\n",
        "    filtered_companies.append(company)\n",
        "\n",
        "set(filtered_companies)\n"
      ]
    },
    {
      "cell_type": "code",
      "execution_count": null,
      "metadata": {
        "id": "gvdT3tfHXnOv"
      },
      "outputs": [],
      "source": [
        "employee_skills = {\n",
        "    \"John Doe\": [\"Python\", \"Data Analysis\", \"Machine Learning\"],\n",
        "    \"Jane Smith\": [\"JavaScript\", \"Web Development\", \"React\"],\n",
        "    \"Emily Johnson\": [\"Project Management\", \"Agile\", \"Scrum\"],\n",
        "    \"Michael Brown\": [\"Java\", \"Spring Boot\", \"Microservices\"],\n",
        "    \"Sarah Davis\": [\"SQL\", \"Database Management\", \"ETL\"],\n",
        "    \"David Wilson\": [\"AWS\", \"Cloud Computing\", \"DevOps\"],\n",
        "    \"Laura Martinez\": [\"HTML\", \"CSS\", \"Graphic Design\"],\n",
        "    \"Robert Garcia\": [\"C++\", \"Embedded Systems\", \"Robotics\"],\n",
        "    \"Linda Rodriguez\": [\"Excel\", \"Financial Analysis\", \"Accounting\"],\n",
        "    \"Daniel Lee\": [\"PHP\", \"Laravel\", \"Backend Development\"],\n",
        "    \"Paul White\": [\"R\", \"Statistics\", \"Data Visualization\"],\n",
        "    \"Karen Harris\": [\"SAP\", \"ERP Systems\", \"Business Analysis\"],\n",
        "    \"James Clark\": [\"Python\", \"Machine Learning\", \"Deep Learning\"],\n",
        "    \"Maria Lewis\": [\"Ruby\", \"Rails\", \"Web Development\"],\n",
        "    \"Thomas Walker\": [\"C#\", \".NET\", \"Software Development\"],\n",
        "    \"Patricia Hall\": [\"Python\", \"Data Science\", \"NLP\"],\n",
        "    \"Christopher Allen\": [\"Swift\", \"iOS Development\", \"UI/UX\"],\n",
        "    \"Susan Young\": [\"Linux\", \"System Administration\", \"Network Security\"],\n",
        "    \"Brian King\": [\"Python\", \"Big Data\", \"Hadoop\"],\n",
        "    \"Nancy Wright\": [\"Customer Service\", \"Salesforce\", \"CRM\"]\n",
        "}\n",
        "\n",
        "filtered_employees = {}\n",
        "\n",
        "for employee,skills in employee_skills.items():\n",
        "  if 'Python' in skills or 'Data Analysis' in skills:\n",
        "    filtered_employees[employee] = skills\n",
        "\n",
        "filtered_employees"
      ]
    },
    {
      "cell_type": "code",
      "execution_count": null,
      "metadata": {
        "id": "mltv600GZdMR"
      },
      "outputs": [],
      "source": [
        "# Initialize the dictionary of employees and skills\n",
        "employee_skills = {\n",
        "    \"John Doe\": [\"Python\", \"Data Analysis\", \"Machine Learning\"],\n",
        "    \"Jane Smith\": [\"JavaScript\", \"Web Development\", \"React\"],\n",
        "    \"Emily Johnson\": [\"Project Management\", \"Agile\", \"Scrum\"],\n",
        "    \"Michael Brown\": [\"Java\", \"Spring Boot\", \"Microservices\"],\n",
        "    \"Sarah Davis\": [\"SQL\", \"Database Management\", \"ETL\"],\n",
        "    \"David Wilson\": [\"AWS\", \"Cloud Computing\", \"DevOps\"],\n",
        "    \"Laura Martinez\": [\"HTML\", \"CSS\", \"Graphic Design\"],\n",
        "    \"Robert Garcia\": [\"C++\", \"Embedded Systems\", \"Robotics\"],\n",
        "    \"Linda Rodriguez\": [\"Excel\", \"Financial Analysis\", \"Accounting\"],\n",
        "    \"Daniel Lee\": [\"PHP\", \"Laravel\", \"Backend Development\"],\n",
        "    \"Paul White\": [\"R\", \"Statistics\", \"Data Visualization\"],\n",
        "    \"Karen Harris\": [\"SAP\", \"ERP Systems\", \"Business Analysis\"],\n",
        "    \"James Clark\": [\"Python\", \"Machine Learning\", \"Deep Learning\"],\n",
        "    \"Maria Lewis\": [\"Ruby\", \"Rails\", \"Web Development\"],\n",
        "    \"Thomas Walker\": [\"C#\", \".NET\", \"Software Development\"],\n",
        "    \"Patricia Hall\": [\"Python\", \"Data Science\", \"NLP\"],\n",
        "    \"Christopher Allen\": [\"Swift\", \"iOS Development\", \"UI/UX\"],\n",
        "    \"Susan Young\": [\"Linux\", \"System Administration\", \"Network Security\"],\n",
        "    \"Brian King\": [\"Python\", \"Big Data\", \"Hadoop\"],\n",
        "    \"Nancy Wright\": [\"Customer Service\", \"Salesforce\", \"CRM\"]\n",
        "}\n",
        "\n",
        "# Initialize the filtered employees dictionary\n",
        "filtered_employees = {}\n",
        "\n",
        "# Convert the dictionary items into a list to use indexing\n",
        "employee_list = list(employee_skills.items())\n",
        "\n",
        "# Initialize the index\n",
        "i = 0\n",
        "\n",
        "# Use a while loop to iterate over the employees\n",
        "while i < len(employee_list):\n",
        "    employee, skills = employee_list[i]\n",
        "    if 'Python' in skills or 'Data Analysis' in skills:\n",
        "        filtered_employees[employee] = skills\n",
        "    i += 1\n",
        "\n",
        "# Output the filtered employees\n",
        "print(filtered_employees)"
      ]
    },
    {
      "cell_type": "markdown",
      "metadata": {
        "id": "Gb9fjFPZVWL7"
      },
      "source": [
        "## Functions\n",
        "\n",
        "## Types of Functions\n",
        "\n",
        "| Type of Function             | Example Function              |\n",
        "|------------------------------|-------------------------------|\n",
        "| Built-In functions           | `max()`                       |\n",
        "| User-defined functions       | `def my_function(): pass`     |\n",
        "| Lambda functions             | `lambda x: x + 1`             |\n",
        "| Standard Library functions   | `math.sqrt()`                 |\n",
        "| Third-Party Library Functions| `numpy.array()`               |\n",
        "\n",
        "\n",
        "Note: We won't be covering Generator, Asynchronous, or Recursive Functions as they are out of scope of Data Analytics."
      ]
    },
    {
      "cell_type": "markdown",
      "metadata": {
        "id": "La0V-I15V5Wn"
      },
      "source": [
        "Built-in functions"
      ]
    },
    {
      "cell_type": "code",
      "execution_count": null,
      "metadata": {
        "id": "0H25jrD4V40n"
      },
      "outputs": [],
      "source": [
        "# Example 1: Print a string onto the screen\n",
        "print(\"Hello, World!\")\n",
        "\n",
        "# Example 2: Print more than one object onto the screen\n",
        "print(\"Hello\", \"World\", \"!\")\n",
        "\n",
        "# 2. type() function\n",
        "# Type function returns the type of the object\n",
        "\n",
        "# Example 1: Return the type of the following object\n",
        "print(type(123))\n",
        "\n",
        "# Example 2: Return the type of the following objects\n",
        "print(type(\"Hello\"))\n",
        "print(type(3.14))\n",
        "\n",
        "# 3. input() function\n",
        "# Input function allows user input and returns it as a string\n",
        "\n",
        "# Example: Use the prompt parameter to write the complete message after giving the input\n",
        "user_input = input(\"Enter your name: \")\n",
        "print(\"Hello, \" + user_input)\n",
        "\n",
        "# 4. abs() function\n",
        "# Abs function returns the absolute value of a number\n",
        "\n",
        "# Example 1: Return the absolute value of a negative number\n",
        "print(abs(-7))\n",
        "\n",
        "# Example 2: Return the absolute value of a complex number\n",
        "print(abs(3 + 4j))\n",
        "\n",
        "# 5. pow() function\n",
        "# Pow function returns the value of a number raised to the power of another number\n",
        "\n",
        "# Example 1: Return the value of 3 to the power of 4\n",
        "print(pow(3, 4))\n",
        "\n",
        "# Example 2: Return the value of 3 to the power of 4, modulus 5\n",
        "print(pow(3, 4, 5))\n",
        "\n",
        "# 6. dir() function\n",
        "# Dir function returns a list of attributes and methods of any object (functions, modules, strings, lists, dictionaries, etc.)\n",
        "\n",
        "# Example: Display the content of an object\n",
        "print(dir(str))\n",
        "\n",
        "# 7. sorted() function\n",
        "# Sorted function returns a sorted list of the specified iterable's elements\n",
        "\n",
        "# Example 1: Sort the specified tuple in ascending order\n",
        "tuple1 = (3, 1, 4, 2)\n",
        "print(sorted(tuple1))\n",
        "\n",
        "# Example 2: Sort the specified tuple in descending order\n",
        "print(sorted(tuple1, reverse=True))\n",
        "\n",
        "# 8. max() function\n",
        "# Max function returns the largest item in an iterable or the largest of two or more arguments\n",
        "\n",
        "# Example 1: Return the name with the highest value, ordered alphabetically\n",
        "names = [\"Alice\", \"Bob\", \"Charlie\"]\n",
        "print(max(names))\n",
        "\n",
        "# Example 2: Return the item in a tuple with the highest value\n",
        "print(max(tuple1))\n",
        "\n",
        "# 9. round() function\n",
        "# Round function returns a floating point number rounded to the specified number of decimals\n",
        "\n",
        "# Example 1: Round the specified positive number to the nearest integer\n",
        "print(round(4.6))\n",
        "\n",
        "# Example 2: Round the specified negative number to the nearest integer\n",
        "print(round(-4.6))\n",
        "\n",
        "# Example 3: Round the specified number to the nearest integer\n",
        "print(round(4.5))\n",
        "\n",
        "# 10. divmod() function\n",
        "# Divmod function returns a tuple containing the quotient and the remainder when dividing the first argument by the second\n",
        "\n",
        "# Example 1: Display the quotient and the remainder when 7 is divided by 3\n",
        "print(divmod(7, 3))\n",
        "\n",
        "# Example 2: Display the quotient and the remainder when 72 is divided by 6\n",
        "print(divmod(72, 6))\n",
        "\n",
        "# 11. id() function\n",
        "# Id function returns the unique ID of an object\n",
        "\n",
        "# Example 1: Return the unique id of a tuple object\n",
        "tuple2 = (1, 2, 3)\n",
        "print(id(tuple2))\n",
        "\n",
        "# Example 2: Return the unique id of a string object\n",
        "string = \"Hello\"\n",
        "print(id(string))\n",
        "\n",
        "# 12. ord() function\n",
        "# Ord function returns the integer that represents the Unicode character\n",
        "\n",
        "# Example 1: Return the integer that represents the character “h”\n",
        "print(ord(\"h\"))\n",
        "\n",
        "# Example 2: Return the integer that represents the character “H”\n",
        "print(ord(\"H\"))\n",
        "\n",
        "# 13. len() function\n",
        "# Len function returns the number of items in an object\n",
        "\n",
        "# Example 1: Return the number of items in a list\n",
        "list1 = [1, 2, 3, 4]\n",
        "print(len(list1))\n",
        "\n",
        "# Example 2: Return the number of items in a string object\n",
        "print(len(\"Hello\"))\n",
        "\n",
        "# 14. sum() function\n",
        "# Sum function adds the items of an iterable and returns the sum\n",
        "\n",
        "# Example 1: Start with the number 7, and add all the items in a tuple to this number\n",
        "print(sum((1, 2, 3), 7))\n",
        "\n",
        "# Example 2: Print the sum of all the elements of a list\n",
        "print(sum(list1))\n"
      ]
    },
    {
      "cell_type": "markdown",
      "metadata": {
        "id": "CdPRgyaYWAtm"
      },
      "source": [
        "User defined function"
      ]
    },
    {
      "cell_type": "code",
      "execution_count": null,
      "metadata": {
        "id": "xExlw9AVWDzF"
      },
      "outputs": [],
      "source": [
        "#user defined function with optional arugment\n",
        "def calculate_salary(base_salary,bonus=200):\n",
        "  total_salary = base_salary + bonus\n",
        "  return total_salary\n",
        "\n",
        "base_salary = 10000\n",
        "\n",
        "calculate_salary(base_salary,900)"
      ]
    },
    {
      "cell_type": "markdown",
      "metadata": {
        "id": "q8h9uvesYo5Y"
      },
      "source": [
        "Lambda Function"
      ]
    },
    {
      "cell_type": "code",
      "execution_count": null,
      "metadata": {
        "id": "k3P-hEuwYrZ-"
      },
      "outputs": [],
      "source": [
        "mul_two=lambda x: x + 1\n",
        "mul_two(2)"
      ]
    },
    {
      "cell_type": "code",
      "execution_count": null,
      "metadata": {
        "id": "kiRyV5gQZJDU"
      },
      "outputs": [],
      "source": [
        "(lambda x: x + 1)(2)"
      ]
    },
    {
      "cell_type": "markdown",
      "metadata": {
        "id": "nxJdoGjVZnpq"
      },
      "source": [
        "List comprehensions\n",
        "\n",
        "List comprehensions provide a concise way to create lists in Python. They are generally more compact and faster than traditional for loops"
      ]
    },
    {
      "cell_type": "code",
      "execution_count": null,
      "metadata": {
        "id": "8qR-2oBrZ01V"
      },
      "outputs": [],
      "source": [
        "salary_list = [2000,3002,3020,2030,2002]\n",
        "\n",
        "def calculate_salary(base_salary,bonus=200):\n",
        "  total_salary = base_salary + bonus\n",
        "  return total_salary\n",
        "#using lambda\n",
        "new_salary_list = [(lambda x:x*1.1)(salary) for salary in salary_list]\n",
        "new_salary_list\n",
        "#using List comprehensions\n",
        "new_salary_list = [calculate_salary(salary) for salary in salary_list]\n",
        "new_salary_list\n",
        "\n"
      ]
    },
    {
      "cell_type": "markdown",
      "metadata": {
        "id": "Gpm9elo9Weje"
      },
      "source": [
        "## Modules"
      ]
    },
    {
      "cell_type": "code",
      "execution_count": null,
      "metadata": {
        "id": "zOYtd20yaJmy"
      },
      "outputs": [],
      "source": [
        "import mugil"
      ]
    },
    {
      "cell_type": "code",
      "execution_count": null,
      "metadata": {
        "colab": {
          "base_uri": "https://localhost:8080/"
        },
        "id": "6JGgg-NzXups",
        "outputId": "2b89dfa9-479a-4175-c95b-8a8c945f7f39"
      },
      "outputs": [
        {
          "data": {
            "text/plain": [
              "['python', 'powerBi', 'Big query']"
            ]
          },
          "execution_count": 3,
          "metadata": {},
          "output_type": "execute_result"
        }
      ],
      "source": [
        "mugil.skills"
      ]
    },
    {
      "cell_type": "code",
      "execution_count": null,
      "metadata": {
        "colab": {
          "base_uri": "https://localhost:8080/",
          "height": 36
        },
        "id": "jBNAFYrGXa_P",
        "outputId": "d2cf19b1-f2a8-4409-9166-c6a7cf65975c"
      },
      "outputs": [
        {
          "data": {
            "application/vnd.google.colaboratory.intrinsic+json": {
              "type": "string"
            },
            "text/plain": [
              "'Excel is good one'"
            ]
          },
          "execution_count": 2,
          "metadata": {},
          "output_type": "execute_result"
        }
      ],
      "source": [
        "mugil.giveText('Excel')"
      ]
    },
    {
      "cell_type": "code",
      "execution_count": null,
      "metadata": {
        "id": "_N32WQsXYXuk"
      },
      "outputs": [],
      "source": [
        "import job_analyzer"
      ]
    },
    {
      "cell_type": "code",
      "execution_count": null,
      "metadata": {
        "colab": {
          "base_uri": "https://localhost:8080/"
        },
        "id": "FnYESuIYYdc6",
        "outputId": "11591de0-01a1-4841-9c48-489d08d0f2f1"
      },
      "outputs": [
        {
          "data": {
            "text/plain": [
              "15000.0"
            ]
          },
          "execution_count": 3,
          "metadata": {},
          "output_type": "execute_result"
        }
      ],
      "source": [
        "job_analyzer.calculate_salary(10000,bonus=.5)"
      ]
    },
    {
      "cell_type": "code",
      "execution_count": null,
      "metadata": {
        "colab": {
          "base_uri": "https://localhost:8080/"
        },
        "id": "jmu3-rTyZM76",
        "outputId": "ca04538c-8a56-49c5-d7d4-359366324b51"
      },
      "outputs": [
        {
          "data": {
            "text/plain": [
              "0.5"
            ]
          },
          "execution_count": 6,
          "metadata": {},
          "output_type": "execute_result"
        }
      ],
      "source": [
        "job_analyzer.calculate_bonus(15000,10000)"
      ]
    },
    {
      "cell_type": "code",
      "execution_count": null,
      "metadata": {
        "colab": {
          "base_uri": "https://localhost:8080/"
        },
        "id": "x7FQ0zqXZm-X",
        "outputId": "f150c442-0047-4e4a-e8a3-d2876e483116"
      },
      "outputs": [
        {
          "data": {
            "text/plain": [
              "float"
            ]
          },
          "execution_count": 7,
          "metadata": {},
          "output_type": "execute_result"
        }
      ],
      "source": [
        "type(.5)"
      ]
    },
    {
      "cell_type": "code",
      "execution_count": null,
      "metadata": {
        "colab": {
          "base_uri": "https://localhost:8080/"
        },
        "id": "WDe3HQ2HbQQP",
        "outputId": "96ef7302-db6a-41b4-ef76-dca3efc4e3f4"
      },
      "outputs": [
        {
          "data": {
            "text/plain": [
              "478"
            ]
          },
          "execution_count": 4,
          "metadata": {},
          "output_type": "execute_result"
        }
      ],
      "source": [
        "import statistics\n",
        "tar_num = [300,300,294,667,829]\n",
        "statistics.mean(tar_num)\n"
      ]
    },
    {
      "cell_type": "code",
      "execution_count": null,
      "metadata": {
        "colab": {
          "base_uri": "https://localhost:8080/"
        },
        "id": "7rt5h_1Bcpm8",
        "outputId": "47698876-05b8-4bf6-e2b7-684589921730"
      },
      "outputs": [
        {
          "data": {
            "text/plain": [
              "300"
            ]
          },
          "execution_count": 5,
          "metadata": {},
          "output_type": "execute_result"
        }
      ],
      "source": [
        "statistics.median(tar_num)"
      ]
    },
    {
      "cell_type": "code",
      "execution_count": null,
      "metadata": {
        "colab": {
          "base_uri": "https://localhost:8080/"
        },
        "id": "QH4v5ACLctiq",
        "outputId": "c1b4fe2e-1016-4e8d-db36-52bcc7c31d74"
      },
      "outputs": [
        {
          "data": {
            "text/plain": [
              "300"
            ]
          },
          "execution_count": 6,
          "metadata": {},
          "output_type": "execute_result"
        }
      ],
      "source": [
        "statistics.mode(tar_num)"
      ]
    },
    {
      "cell_type": "markdown",
      "metadata": {
        "id": "RpI0fwHAcxv1"
      },
      "source": [
        "## Data Cleaning"
      ]
    },
    {
      "cell_type": "code",
      "execution_count": null,
      "metadata": {
        "id": "ZxqXb0-Ic0qN"
      },
      "outputs": [],
      "source": [
        "data_science_jobs = [\n",
        "    {'job_title': 'Data Scientist', 'job_skills': \"['Python', 'SQL', 'Machine Learning']\", 'job_date': '2023-05-12'},\n",
        "    {'job_title': 'Machine Learning Engineer', 'job_skills': \"['Python', 'TensorFlow', 'Deep Learning']\", 'job_date': '2023-05-15'},\n",
        "    {'job_title': 'Data Analyst', 'job_skills': \"['SQL', 'R', 'Tableau']\", 'job_date': '2023-05-10'},\n",
        "    {'job_title': 'Business Intelligence Developer', 'job_skills': \"['SQL', 'PowerBI', 'Data Warehousing']\", 'job_date': '2023-05-08'},\n",
        "    {'job_title': 'Data Engineer', 'job_skills': \"['Python', 'Spark', 'Hadoop']\", 'job_date': '2023-05-18'},\n",
        "    {'job_title': 'AI Specialist', 'job_skills': \"['Python', 'PyTorch', 'AI Ethics']\", 'job_date': '2023-05-20'}\n",
        "]"
      ]
    },
    {
      "cell_type": "code",
      "execution_count": null,
      "metadata": {
        "colab": {
          "base_uri": "https://localhost:8080/"
        },
        "id": "IDHgI-fmc2Jv",
        "outputId": "0f1982ff-b168-4269-b406-aacc9cda9743"
      },
      "outputs": [
        {
          "data": {
            "text/plain": [
              "datetime.datetime(2023, 5, 12, 0, 0)"
            ]
          },
          "execution_count": 2,
          "metadata": {},
          "output_type": "execute_result"
        }
      ],
      "source": [
        "from datetime import datetime\n",
        "import ast\n",
        "\n",
        "test = data_science_jobs[0]['job_date']\n",
        "final = datetime.strptime(test, '%Y-%m-%d')\n",
        "final"
      ]
    },
    {
      "cell_type": "code",
      "execution_count": null,
      "metadata": {
        "id": "-38LCLLPeePJ"
      },
      "outputs": [],
      "source": [
        "for job in data_science_jobs:\n",
        "  job['job_date'] = datetime.strptime(job['job_date'], '%Y-%m-%d')\n",
        "  job['job_skills'] = ast.literal_eval(job['job_skills'])"
      ]
    },
    {
      "cell_type": "code",
      "execution_count": null,
      "metadata": {
        "colab": {
          "base_uri": "https://localhost:8080/"
        },
        "id": "TpgH1Kq0eoXI",
        "outputId": "619833a0-774b-4964-f040-3016fae18f92"
      },
      "outputs": [
        {
          "data": {
            "text/plain": [
              "[{'job_title': 'Data Scientist',\n",
              "  'job_skills': ['Python', 'SQL', 'Machine Learning'],\n",
              "  'job_date': datetime.datetime(2023, 5, 12, 0, 0)},\n",
              " {'job_title': 'Machine Learning Engineer',\n",
              "  'job_skills': ['Python', 'TensorFlow', 'Deep Learning'],\n",
              "  'job_date': datetime.datetime(2023, 5, 15, 0, 0)},\n",
              " {'job_title': 'Data Analyst',\n",
              "  'job_skills': ['SQL', 'R', 'Tableau'],\n",
              "  'job_date': datetime.datetime(2023, 5, 10, 0, 0)},\n",
              " {'job_title': 'Business Intelligence Developer',\n",
              "  'job_skills': ['SQL', 'PowerBI', 'Data Warehousing'],\n",
              "  'job_date': datetime.datetime(2023, 5, 8, 0, 0)},\n",
              " {'job_title': 'Data Engineer',\n",
              "  'job_skills': ['Python', 'Spark', 'Hadoop'],\n",
              "  'job_date': datetime.datetime(2023, 5, 18, 0, 0)},\n",
              " {'job_title': 'AI Specialist',\n",
              "  'job_skills': ['Python', 'PyTorch', 'AI Ethics'],\n",
              "  'job_date': datetime.datetime(2023, 5, 20, 0, 0)}]"
            ]
          },
          "execution_count": 4,
          "metadata": {},
          "output_type": "execute_result"
        }
      ],
      "source": [
        "data_science_jobs"
      ]
    },
    {
      "cell_type": "markdown",
      "metadata": {
        "id": "qONvUZAPgB-N"
      },
      "source": [
        "## Pandas"
      ]
    },
    {
      "cell_type": "code",
      "execution_count": null,
      "metadata": {
        "colab": {
          "base_uri": "https://localhost:8080/",
          "height": 423
        },
        "id": "Mt1zxeFegEIN",
        "outputId": "b256849b-9e55-4c79-bba3-e0a715519a14"
      },
      "outputs": [
        {
          "data": {
            "application/vnd.google.colaboratory.intrinsic+json": {
              "summary": "{\n  \"name\": \"contents\",\n  \"rows\": 3000,\n  \"fields\": [\n    {\n      \"column\": \"longitude\",\n      \"properties\": {\n        \"dtype\": \"number\",\n        \"std\": 1.9949362939550161,\n        \"min\": -124.18,\n        \"max\": -114.49,\n        \"num_unique_values\": 607,\n        \"samples\": [\n          -121.15,\n          -121.46,\n          -121.02\n        ],\n        \"semantic_type\": \"\",\n        \"description\": \"\"\n      }\n    },\n    {\n      \"column\": \"latitude\",\n      \"properties\": {\n        \"dtype\": \"number\",\n        \"std\": 2.1296695233438325,\n        \"min\": 32.56,\n        \"max\": 41.92,\n        \"num_unique_values\": 587,\n        \"samples\": [\n          40.17,\n          33.69,\n          39.61\n        ],\n        \"semantic_type\": \"\",\n        \"description\": \"\"\n      }\n    },\n    {\n      \"column\": \"housing_median_age\",\n      \"properties\": {\n        \"dtype\": \"number\",\n        \"std\": 12.555395554955755,\n        \"min\": 1.0,\n        \"max\": 52.0,\n        \"num_unique_values\": 52,\n        \"samples\": [\n          14.0,\n          49.0,\n          7.0\n        ],\n        \"semantic_type\": \"\",\n        \"description\": \"\"\n      }\n    },\n    {\n      \"column\": \"total_rooms\",\n      \"properties\": {\n        \"dtype\": \"number\",\n        \"std\": 2155.59333162558,\n        \"min\": 6.0,\n        \"max\": 30450.0,\n        \"num_unique_values\": 2215,\n        \"samples\": [\n          1961.0,\n          1807.0,\n          680.0\n        ],\n        \"semantic_type\": \"\",\n        \"description\": \"\"\n      }\n    },\n    {\n      \"column\": \"total_bedrooms\",\n      \"properties\": {\n        \"dtype\": \"number\",\n        \"std\": 415.6543681363232,\n        \"min\": 2.0,\n        \"max\": 5419.0,\n        \"num_unique_values\": 1055,\n        \"samples\": [\n          532.0,\n          764.0,\n          2162.0\n        ],\n        \"semantic_type\": \"\",\n        \"description\": \"\"\n      }\n    },\n    {\n      \"column\": \"population\",\n      \"properties\": {\n        \"dtype\": \"number\",\n        \"std\": 1030.5430124122422,\n        \"min\": 5.0,\n        \"max\": 11935.0,\n        \"num_unique_values\": 1802,\n        \"samples\": [\n          947.0,\n          1140.0,\n          2019.0\n        ],\n        \"semantic_type\": \"\",\n        \"description\": \"\"\n      }\n    },\n    {\n      \"column\": \"households\",\n      \"properties\": {\n        \"dtype\": \"number\",\n        \"std\": 365.42270980552604,\n        \"min\": 2.0,\n        \"max\": 4930.0,\n        \"num_unique_values\": 1026,\n        \"samples\": [\n          646.0,\n          629.0,\n          504.0\n        ],\n        \"semantic_type\": \"\",\n        \"description\": \"\"\n      }\n    },\n    {\n      \"column\": \"median_income\",\n      \"properties\": {\n        \"dtype\": \"number\",\n        \"std\": 1.854511729691481,\n        \"min\": 0.4999,\n        \"max\": 15.0001,\n        \"num_unique_values\": 2578,\n        \"samples\": [\n          1.725,\n          0.7403,\n          2.6964\n        ],\n        \"semantic_type\": \"\",\n        \"description\": \"\"\n      }\n    },\n    {\n      \"column\": \"median_house_value\",\n      \"properties\": {\n        \"dtype\": \"number\",\n        \"std\": 113119.68746964433,\n        \"min\": 22500.0,\n        \"max\": 500001.0,\n        \"num_unique_values\": 1784,\n        \"samples\": [\n          71900.0,\n          63000.0,\n          115800.0\n        ],\n        \"semantic_type\": \"\",\n        \"description\": \"\"\n      }\n    }\n  ]\n}",
              "type": "dataframe",
              "variable_name": "contents"
            },
            "text/html": [
              "\n",
              "  <div id=\"df-08194c79-dc23-4e53-bfd7-9914e5a84202\" class=\"colab-df-container\">\n",
              "    <div>\n",
              "<style scoped>\n",
              "    .dataframe tbody tr th:only-of-type {\n",
              "        vertical-align: middle;\n",
              "    }\n",
              "\n",
              "    .dataframe tbody tr th {\n",
              "        vertical-align: top;\n",
              "    }\n",
              "\n",
              "    .dataframe thead th {\n",
              "        text-align: right;\n",
              "    }\n",
              "</style>\n",
              "<table border=\"1\" class=\"dataframe\">\n",
              "  <thead>\n",
              "    <tr style=\"text-align: right;\">\n",
              "      <th></th>\n",
              "      <th>longitude</th>\n",
              "      <th>latitude</th>\n",
              "      <th>housing_median_age</th>\n",
              "      <th>total_rooms</th>\n",
              "      <th>total_bedrooms</th>\n",
              "      <th>population</th>\n",
              "      <th>households</th>\n",
              "      <th>median_income</th>\n",
              "      <th>median_house_value</th>\n",
              "    </tr>\n",
              "  </thead>\n",
              "  <tbody>\n",
              "    <tr>\n",
              "      <th>0</th>\n",
              "      <td>-122.05</td>\n",
              "      <td>37.37</td>\n",
              "      <td>27.0</td>\n",
              "      <td>3885.0</td>\n",
              "      <td>661.0</td>\n",
              "      <td>1537.0</td>\n",
              "      <td>606.0</td>\n",
              "      <td>6.6085</td>\n",
              "      <td>344700.0</td>\n",
              "    </tr>\n",
              "    <tr>\n",
              "      <th>1</th>\n",
              "      <td>-118.30</td>\n",
              "      <td>34.26</td>\n",
              "      <td>43.0</td>\n",
              "      <td>1510.0</td>\n",
              "      <td>310.0</td>\n",
              "      <td>809.0</td>\n",
              "      <td>277.0</td>\n",
              "      <td>3.5990</td>\n",
              "      <td>176500.0</td>\n",
              "    </tr>\n",
              "    <tr>\n",
              "      <th>2</th>\n",
              "      <td>-117.81</td>\n",
              "      <td>33.78</td>\n",
              "      <td>27.0</td>\n",
              "      <td>3589.0</td>\n",
              "      <td>507.0</td>\n",
              "      <td>1484.0</td>\n",
              "      <td>495.0</td>\n",
              "      <td>5.7934</td>\n",
              "      <td>270500.0</td>\n",
              "    </tr>\n",
              "    <tr>\n",
              "      <th>3</th>\n",
              "      <td>-118.36</td>\n",
              "      <td>33.82</td>\n",
              "      <td>28.0</td>\n",
              "      <td>67.0</td>\n",
              "      <td>15.0</td>\n",
              "      <td>49.0</td>\n",
              "      <td>11.0</td>\n",
              "      <td>6.1359</td>\n",
              "      <td>330000.0</td>\n",
              "    </tr>\n",
              "    <tr>\n",
              "      <th>4</th>\n",
              "      <td>-119.67</td>\n",
              "      <td>36.33</td>\n",
              "      <td>19.0</td>\n",
              "      <td>1241.0</td>\n",
              "      <td>244.0</td>\n",
              "      <td>850.0</td>\n",
              "      <td>237.0</td>\n",
              "      <td>2.9375</td>\n",
              "      <td>81700.0</td>\n",
              "    </tr>\n",
              "    <tr>\n",
              "      <th>...</th>\n",
              "      <td>...</td>\n",
              "      <td>...</td>\n",
              "      <td>...</td>\n",
              "      <td>...</td>\n",
              "      <td>...</td>\n",
              "      <td>...</td>\n",
              "      <td>...</td>\n",
              "      <td>...</td>\n",
              "      <td>...</td>\n",
              "    </tr>\n",
              "    <tr>\n",
              "      <th>2995</th>\n",
              "      <td>-119.86</td>\n",
              "      <td>34.42</td>\n",
              "      <td>23.0</td>\n",
              "      <td>1450.0</td>\n",
              "      <td>642.0</td>\n",
              "      <td>1258.0</td>\n",
              "      <td>607.0</td>\n",
              "      <td>1.1790</td>\n",
              "      <td>225000.0</td>\n",
              "    </tr>\n",
              "    <tr>\n",
              "      <th>2996</th>\n",
              "      <td>-118.14</td>\n",
              "      <td>34.06</td>\n",
              "      <td>27.0</td>\n",
              "      <td>5257.0</td>\n",
              "      <td>1082.0</td>\n",
              "      <td>3496.0</td>\n",
              "      <td>1036.0</td>\n",
              "      <td>3.3906</td>\n",
              "      <td>237200.0</td>\n",
              "    </tr>\n",
              "    <tr>\n",
              "      <th>2997</th>\n",
              "      <td>-119.70</td>\n",
              "      <td>36.30</td>\n",
              "      <td>10.0</td>\n",
              "      <td>956.0</td>\n",
              "      <td>201.0</td>\n",
              "      <td>693.0</td>\n",
              "      <td>220.0</td>\n",
              "      <td>2.2895</td>\n",
              "      <td>62000.0</td>\n",
              "    </tr>\n",
              "    <tr>\n",
              "      <th>2998</th>\n",
              "      <td>-117.12</td>\n",
              "      <td>34.10</td>\n",
              "      <td>40.0</td>\n",
              "      <td>96.0</td>\n",
              "      <td>14.0</td>\n",
              "      <td>46.0</td>\n",
              "      <td>14.0</td>\n",
              "      <td>3.2708</td>\n",
              "      <td>162500.0</td>\n",
              "    </tr>\n",
              "    <tr>\n",
              "      <th>2999</th>\n",
              "      <td>-119.63</td>\n",
              "      <td>34.42</td>\n",
              "      <td>42.0</td>\n",
              "      <td>1765.0</td>\n",
              "      <td>263.0</td>\n",
              "      <td>753.0</td>\n",
              "      <td>260.0</td>\n",
              "      <td>8.5608</td>\n",
              "      <td>500001.0</td>\n",
              "    </tr>\n",
              "  </tbody>\n",
              "</table>\n",
              "<p>3000 rows × 9 columns</p>\n",
              "</div>\n",
              "    <div class=\"colab-df-buttons\">\n",
              "\n",
              "  <div class=\"colab-df-container\">\n",
              "    <button class=\"colab-df-convert\" onclick=\"convertToInteractive('df-08194c79-dc23-4e53-bfd7-9914e5a84202')\"\n",
              "            title=\"Convert this dataframe to an interactive table.\"\n",
              "            style=\"display:none;\">\n",
              "\n",
              "  <svg xmlns=\"http://www.w3.org/2000/svg\" height=\"24px\" viewBox=\"0 -960 960 960\">\n",
              "    <path d=\"M120-120v-720h720v720H120Zm60-500h600v-160H180v160Zm220 220h160v-160H400v160Zm0 220h160v-160H400v160ZM180-400h160v-160H180v160Zm440 0h160v-160H620v160ZM180-180h160v-160H180v160Zm440 0h160v-160H620v160Z\"/>\n",
              "  </svg>\n",
              "    </button>\n",
              "\n",
              "  <style>\n",
              "    .colab-df-container {\n",
              "      display:flex;\n",
              "      gap: 12px;\n",
              "    }\n",
              "\n",
              "    .colab-df-convert {\n",
              "      background-color: #E8F0FE;\n",
              "      border: none;\n",
              "      border-radius: 50%;\n",
              "      cursor: pointer;\n",
              "      display: none;\n",
              "      fill: #1967D2;\n",
              "      height: 32px;\n",
              "      padding: 0 0 0 0;\n",
              "      width: 32px;\n",
              "    }\n",
              "\n",
              "    .colab-df-convert:hover {\n",
              "      background-color: #E2EBFA;\n",
              "      box-shadow: 0px 1px 2px rgba(60, 64, 67, 0.3), 0px 1px 3px 1px rgba(60, 64, 67, 0.15);\n",
              "      fill: #174EA6;\n",
              "    }\n",
              "\n",
              "    .colab-df-buttons div {\n",
              "      margin-bottom: 4px;\n",
              "    }\n",
              "\n",
              "    [theme=dark] .colab-df-convert {\n",
              "      background-color: #3B4455;\n",
              "      fill: #D2E3FC;\n",
              "    }\n",
              "\n",
              "    [theme=dark] .colab-df-convert:hover {\n",
              "      background-color: #434B5C;\n",
              "      box-shadow: 0px 1px 3px 1px rgba(0, 0, 0, 0.15);\n",
              "      filter: drop-shadow(0px 1px 2px rgba(0, 0, 0, 0.3));\n",
              "      fill: #FFFFFF;\n",
              "    }\n",
              "  </style>\n",
              "\n",
              "    <script>\n",
              "      const buttonEl =\n",
              "        document.querySelector('#df-08194c79-dc23-4e53-bfd7-9914e5a84202 button.colab-df-convert');\n",
              "      buttonEl.style.display =\n",
              "        google.colab.kernel.accessAllowed ? 'block' : 'none';\n",
              "\n",
              "      async function convertToInteractive(key) {\n",
              "        const element = document.querySelector('#df-08194c79-dc23-4e53-bfd7-9914e5a84202');\n",
              "        const dataTable =\n",
              "          await google.colab.kernel.invokeFunction('convertToInteractive',\n",
              "                                                    [key], {});\n",
              "        if (!dataTable) return;\n",
              "\n",
              "        const docLinkHtml = 'Like what you see? Visit the ' +\n",
              "          '<a target=\"_blank\" href=https://colab.research.google.com/notebooks/data_table.ipynb>data table notebook</a>'\n",
              "          + ' to learn more about interactive tables.';\n",
              "        element.innerHTML = '';\n",
              "        dataTable['output_type'] = 'display_data';\n",
              "        await google.colab.output.renderOutput(dataTable, element);\n",
              "        const docLink = document.createElement('div');\n",
              "        docLink.innerHTML = docLinkHtml;\n",
              "        element.appendChild(docLink);\n",
              "      }\n",
              "    </script>\n",
              "  </div>\n",
              "\n",
              "\n",
              "<div id=\"df-ae376a5b-e913-40f4-8807-d2b357c2f61a\">\n",
              "  <button class=\"colab-df-quickchart\" onclick=\"quickchart('df-ae376a5b-e913-40f4-8807-d2b357c2f61a')\"\n",
              "            title=\"Suggest charts\"\n",
              "            style=\"display:none;\">\n",
              "\n",
              "<svg xmlns=\"http://www.w3.org/2000/svg\" height=\"24px\"viewBox=\"0 0 24 24\"\n",
              "     width=\"24px\">\n",
              "    <g>\n",
              "        <path d=\"M19 3H5c-1.1 0-2 .9-2 2v14c0 1.1.9 2 2 2h14c1.1 0 2-.9 2-2V5c0-1.1-.9-2-2-2zM9 17H7v-7h2v7zm4 0h-2V7h2v10zm4 0h-2v-4h2v4z\"/>\n",
              "    </g>\n",
              "</svg>\n",
              "  </button>\n",
              "\n",
              "<style>\n",
              "  .colab-df-quickchart {\n",
              "      --bg-color: #E8F0FE;\n",
              "      --fill-color: #1967D2;\n",
              "      --hover-bg-color: #E2EBFA;\n",
              "      --hover-fill-color: #174EA6;\n",
              "      --disabled-fill-color: #AAA;\n",
              "      --disabled-bg-color: #DDD;\n",
              "  }\n",
              "\n",
              "  [theme=dark] .colab-df-quickchart {\n",
              "      --bg-color: #3B4455;\n",
              "      --fill-color: #D2E3FC;\n",
              "      --hover-bg-color: #434B5C;\n",
              "      --hover-fill-color: #FFFFFF;\n",
              "      --disabled-bg-color: #3B4455;\n",
              "      --disabled-fill-color: #666;\n",
              "  }\n",
              "\n",
              "  .colab-df-quickchart {\n",
              "    background-color: var(--bg-color);\n",
              "    border: none;\n",
              "    border-radius: 50%;\n",
              "    cursor: pointer;\n",
              "    display: none;\n",
              "    fill: var(--fill-color);\n",
              "    height: 32px;\n",
              "    padding: 0;\n",
              "    width: 32px;\n",
              "  }\n",
              "\n",
              "  .colab-df-quickchart:hover {\n",
              "    background-color: var(--hover-bg-color);\n",
              "    box-shadow: 0 1px 2px rgba(60, 64, 67, 0.3), 0 1px 3px 1px rgba(60, 64, 67, 0.15);\n",
              "    fill: var(--button-hover-fill-color);\n",
              "  }\n",
              "\n",
              "  .colab-df-quickchart-complete:disabled,\n",
              "  .colab-df-quickchart-complete:disabled:hover {\n",
              "    background-color: var(--disabled-bg-color);\n",
              "    fill: var(--disabled-fill-color);\n",
              "    box-shadow: none;\n",
              "  }\n",
              "\n",
              "  .colab-df-spinner {\n",
              "    border: 2px solid var(--fill-color);\n",
              "    border-color: transparent;\n",
              "    border-bottom-color: var(--fill-color);\n",
              "    animation:\n",
              "      spin 1s steps(1) infinite;\n",
              "  }\n",
              "\n",
              "  @keyframes spin {\n",
              "    0% {\n",
              "      border-color: transparent;\n",
              "      border-bottom-color: var(--fill-color);\n",
              "      border-left-color: var(--fill-color);\n",
              "    }\n",
              "    20% {\n",
              "      border-color: transparent;\n",
              "      border-left-color: var(--fill-color);\n",
              "      border-top-color: var(--fill-color);\n",
              "    }\n",
              "    30% {\n",
              "      border-color: transparent;\n",
              "      border-left-color: var(--fill-color);\n",
              "      border-top-color: var(--fill-color);\n",
              "      border-right-color: var(--fill-color);\n",
              "    }\n",
              "    40% {\n",
              "      border-color: transparent;\n",
              "      border-right-color: var(--fill-color);\n",
              "      border-top-color: var(--fill-color);\n",
              "    }\n",
              "    60% {\n",
              "      border-color: transparent;\n",
              "      border-right-color: var(--fill-color);\n",
              "    }\n",
              "    80% {\n",
              "      border-color: transparent;\n",
              "      border-right-color: var(--fill-color);\n",
              "      border-bottom-color: var(--fill-color);\n",
              "    }\n",
              "    90% {\n",
              "      border-color: transparent;\n",
              "      border-bottom-color: var(--fill-color);\n",
              "    }\n",
              "  }\n",
              "</style>\n",
              "\n",
              "  <script>\n",
              "    async function quickchart(key) {\n",
              "      const quickchartButtonEl =\n",
              "        document.querySelector('#' + key + ' button');\n",
              "      quickchartButtonEl.disabled = true;  // To prevent multiple clicks.\n",
              "      quickchartButtonEl.classList.add('colab-df-spinner');\n",
              "      try {\n",
              "        const charts = await google.colab.kernel.invokeFunction(\n",
              "            'suggestCharts', [key], {});\n",
              "      } catch (error) {\n",
              "        console.error('Error during call to suggestCharts:', error);\n",
              "      }\n",
              "      quickchartButtonEl.classList.remove('colab-df-spinner');\n",
              "      quickchartButtonEl.classList.add('colab-df-quickchart-complete');\n",
              "    }\n",
              "    (() => {\n",
              "      let quickchartButtonEl =\n",
              "        document.querySelector('#df-ae376a5b-e913-40f4-8807-d2b357c2f61a button');\n",
              "      quickchartButtonEl.style.display =\n",
              "        google.colab.kernel.accessAllowed ? 'block' : 'none';\n",
              "    })();\n",
              "  </script>\n",
              "</div>\n",
              "\n",
              "  <div id=\"id_f4471104-8446-43bd-b34e-12229842561c\">\n",
              "    <style>\n",
              "      .colab-df-generate {\n",
              "        background-color: #E8F0FE;\n",
              "        border: none;\n",
              "        border-radius: 50%;\n",
              "        cursor: pointer;\n",
              "        display: none;\n",
              "        fill: #1967D2;\n",
              "        height: 32px;\n",
              "        padding: 0 0 0 0;\n",
              "        width: 32px;\n",
              "      }\n",
              "\n",
              "      .colab-df-generate:hover {\n",
              "        background-color: #E2EBFA;\n",
              "        box-shadow: 0px 1px 2px rgba(60, 64, 67, 0.3), 0px 1px 3px 1px rgba(60, 64, 67, 0.15);\n",
              "        fill: #174EA6;\n",
              "      }\n",
              "\n",
              "      [theme=dark] .colab-df-generate {\n",
              "        background-color: #3B4455;\n",
              "        fill: #D2E3FC;\n",
              "      }\n",
              "\n",
              "      [theme=dark] .colab-df-generate:hover {\n",
              "        background-color: #434B5C;\n",
              "        box-shadow: 0px 1px 3px 1px rgba(0, 0, 0, 0.15);\n",
              "        filter: drop-shadow(0px 1px 2px rgba(0, 0, 0, 0.3));\n",
              "        fill: #FFFFFF;\n",
              "      }\n",
              "    </style>\n",
              "    <button class=\"colab-df-generate\" onclick=\"generateWithVariable('contents')\"\n",
              "            title=\"Generate code using this dataframe.\"\n",
              "            style=\"display:none;\">\n",
              "\n",
              "  <svg xmlns=\"http://www.w3.org/2000/svg\" height=\"24px\"viewBox=\"0 0 24 24\"\n",
              "       width=\"24px\">\n",
              "    <path d=\"M7,19H8.4L18.45,9,17,7.55,7,17.6ZM5,21V16.75L18.45,3.32a2,2,0,0,1,2.83,0l1.4,1.43a1.91,1.91,0,0,1,.58,1.4,1.91,1.91,0,0,1-.58,1.4L9.25,21ZM18.45,9,17,7.55Zm-12,3A5.31,5.31,0,0,0,4.9,8.1,5.31,5.31,0,0,0,1,6.5,5.31,5.31,0,0,0,4.9,4.9,5.31,5.31,0,0,0,6.5,1,5.31,5.31,0,0,0,8.1,4.9,5.31,5.31,0,0,0,12,6.5,5.46,5.46,0,0,0,6.5,12Z\"/>\n",
              "  </svg>\n",
              "    </button>\n",
              "    <script>\n",
              "      (() => {\n",
              "      const buttonEl =\n",
              "        document.querySelector('#id_f4471104-8446-43bd-b34e-12229842561c button.colab-df-generate');\n",
              "      buttonEl.style.display =\n",
              "        google.colab.kernel.accessAllowed ? 'block' : 'none';\n",
              "\n",
              "      buttonEl.onclick = () => {\n",
              "        google.colab.notebook.generateWithVariable('contents');\n",
              "      }\n",
              "      })();\n",
              "    </script>\n",
              "  </div>\n",
              "\n",
              "    </div>\n",
              "  </div>\n"
            ],
            "text/plain": [
              "      longitude  latitude  housing_median_age  total_rooms  total_bedrooms  \\\n",
              "0       -122.05     37.37                27.0       3885.0           661.0   \n",
              "1       -118.30     34.26                43.0       1510.0           310.0   \n",
              "2       -117.81     33.78                27.0       3589.0           507.0   \n",
              "3       -118.36     33.82                28.0         67.0            15.0   \n",
              "4       -119.67     36.33                19.0       1241.0           244.0   \n",
              "...         ...       ...                 ...          ...             ...   \n",
              "2995    -119.86     34.42                23.0       1450.0           642.0   \n",
              "2996    -118.14     34.06                27.0       5257.0          1082.0   \n",
              "2997    -119.70     36.30                10.0        956.0           201.0   \n",
              "2998    -117.12     34.10                40.0         96.0            14.0   \n",
              "2999    -119.63     34.42                42.0       1765.0           263.0   \n",
              "\n",
              "      population  households  median_income  median_house_value  \n",
              "0         1537.0       606.0         6.6085            344700.0  \n",
              "1          809.0       277.0         3.5990            176500.0  \n",
              "2         1484.0       495.0         5.7934            270500.0  \n",
              "3           49.0        11.0         6.1359            330000.0  \n",
              "4          850.0       237.0         2.9375             81700.0  \n",
              "...          ...         ...            ...                 ...  \n",
              "2995      1258.0       607.0         1.1790            225000.0  \n",
              "2996      3496.0      1036.0         3.3906            237200.0  \n",
              "2997       693.0       220.0         2.2895             62000.0  \n",
              "2998        46.0        14.0         3.2708            162500.0  \n",
              "2999       753.0       260.0         8.5608            500001.0  \n",
              "\n",
              "[3000 rows x 9 columns]"
            ]
          },
          "execution_count": 6,
          "metadata": {},
          "output_type": "execute_result"
        }
      ],
      "source": [
        "import pandas as pd\n",
        "\n",
        "contents = pd.read_csv('sample_data/california_housing_test.csv')\n",
        "\n",
        "contents"
      ]
    },
    {
      "cell_type": "code",
      "execution_count": null,
      "metadata": {
        "colab": {
          "base_uri": "https://localhost:8080/",
          "height": 458
        },
        "id": "-fv8PP_ighXw",
        "outputId": "2a2f25d0-2bf5-48fd-a183-a5804bcd9e5d"
      },
      "outputs": [
        {
          "data": {
            "text/html": [
              "<div>\n",
              "<style scoped>\n",
              "    .dataframe tbody tr th:only-of-type {\n",
              "        vertical-align: middle;\n",
              "    }\n",
              "\n",
              "    .dataframe tbody tr th {\n",
              "        vertical-align: top;\n",
              "    }\n",
              "\n",
              "    .dataframe thead th {\n",
              "        text-align: right;\n",
              "    }\n",
              "</style>\n",
              "<table border=\"1\" class=\"dataframe\">\n",
              "  <thead>\n",
              "    <tr style=\"text-align: right;\">\n",
              "      <th></th>\n",
              "      <th>total_bedrooms</th>\n",
              "    </tr>\n",
              "  </thead>\n",
              "  <tbody>\n",
              "    <tr>\n",
              "      <th>0</th>\n",
              "      <td>661.0</td>\n",
              "    </tr>\n",
              "    <tr>\n",
              "      <th>1</th>\n",
              "      <td>310.0</td>\n",
              "    </tr>\n",
              "    <tr>\n",
              "      <th>2</th>\n",
              "      <td>507.0</td>\n",
              "    </tr>\n",
              "    <tr>\n",
              "      <th>3</th>\n",
              "      <td>15.0</td>\n",
              "    </tr>\n",
              "    <tr>\n",
              "      <th>4</th>\n",
              "      <td>244.0</td>\n",
              "    </tr>\n",
              "    <tr>\n",
              "      <th>...</th>\n",
              "      <td>...</td>\n",
              "    </tr>\n",
              "    <tr>\n",
              "      <th>2995</th>\n",
              "      <td>642.0</td>\n",
              "    </tr>\n",
              "    <tr>\n",
              "      <th>2996</th>\n",
              "      <td>1082.0</td>\n",
              "    </tr>\n",
              "    <tr>\n",
              "      <th>2997</th>\n",
              "      <td>201.0</td>\n",
              "    </tr>\n",
              "    <tr>\n",
              "      <th>2998</th>\n",
              "      <td>14.0</td>\n",
              "    </tr>\n",
              "    <tr>\n",
              "      <th>2999</th>\n",
              "      <td>263.0</td>\n",
              "    </tr>\n",
              "  </tbody>\n",
              "</table>\n",
              "<p>3000 rows × 1 columns</p>\n",
              "</div><br><label><b>dtype:</b> float64</label>"
            ],
            "text/plain": [
              "0        661.0\n",
              "1        310.0\n",
              "2        507.0\n",
              "3         15.0\n",
              "4        244.0\n",
              "         ...  \n",
              "2995     642.0\n",
              "2996    1082.0\n",
              "2997     201.0\n",
              "2998      14.0\n",
              "2999     263.0\n",
              "Name: total_bedrooms, Length: 3000, dtype: float64"
            ]
          },
          "execution_count": 7,
          "metadata": {},
          "output_type": "execute_result"
        }
      ],
      "source": [
        "contents['total_bedrooms']"
      ]
    },
    {
      "cell_type": "code",
      "execution_count": null,
      "metadata": {
        "colab": {
          "base_uri": "https://localhost:8080/"
        },
        "id": "Ux7clDLpgsX_",
        "outputId": "309ee5f1-d275-4d68-cf48-06df575b3b5d"
      },
      "outputs": [
        {
          "data": {
            "text/plain": [
              "1589852.0"
            ]
          },
          "execution_count": 8,
          "metadata": {},
          "output_type": "execute_result"
        }
      ],
      "source": [
        "contents['total_bedrooms'].sum()"
      ]
    },
    {
      "cell_type": "code",
      "execution_count": 2,
      "metadata": {
        "colab": {
          "base_uri": "https://localhost:8080/"
        },
        "id": "FDfeA4B5g95W",
        "outputId": "56587f5c-a7d0-484f-f270-c65671e94b63"
      },
      "outputs": [
        {
          "name": "stdout",
          "output_type": "stream",
          "text": [
            "Collecting pyjokes\n",
            "  Downloading pyjokes-0.8.3-py3-none-any.whl.metadata (3.4 kB)\n",
            "Downloading pyjokes-0.8.3-py3-none-any.whl (47 kB)\n",
            "\u001b[?25l   \u001b[90m━━━━━━━━━━━━━━━━━━━━━━━━━━━━━━━━━━━━━━━━\u001b[0m \u001b[32m0.0/47.6 kB\u001b[0m \u001b[31m?\u001b[0m eta \u001b[36m-:--:--\u001b[0m\r\u001b[2K   \u001b[90m━━━━━━━━━━━━━━━━━━━━━━━━━━━━━━━━━━━━━━━━\u001b[0m \u001b[32m47.6/47.6 kB\u001b[0m \u001b[31m2.2 MB/s\u001b[0m eta \u001b[36m0:00:00\u001b[0m\n",
            "\u001b[?25hInstalling collected packages: pyjokes\n",
            "Successfully installed pyjokes-0.8.3\n"
          ]
        }
      ],
      "source": [
        "!pip install pyjokes"
      ]
    },
    {
      "cell_type": "code",
      "execution_count": 5,
      "metadata": {
        "colab": {
          "base_uri": "https://localhost:8080/",
          "height": 36
        },
        "id": "PUTchWKShEDv",
        "outputId": "c895114c-0270-4df0-e660-36d2a2465411"
      },
      "outputs": [
        {
          "data": {
            "application/vnd.google.colaboratory.intrinsic+json": {
              "type": "string"
            },
            "text/plain": [
              "'Why do we want intelligent terminals when there are so many stupid users?'"
            ]
          },
          "execution_count": 5,
          "metadata": {},
          "output_type": "execute_result"
        }
      ],
      "source": [
        "import pyjokes\n",
        "\n",
        "pyjokes.get_joke()"
      ]
    },
    {
      "cell_type": "markdown",
      "metadata": {
        "id": "lYFTr-YSJvP-"
      },
      "source": [
        "## Classes\n"
      ]
    },
    {
      "cell_type": "code",
      "execution_count": 27,
      "metadata": {
        "id": "Tcc9tQPSJyDs"
      },
      "outputs": [],
      "source": [
        "class BaseSalary:\n",
        "  def __init__(self,base_salary,bonus_rate=.5,symbol=\"$\"):\n",
        "    self.base_salary = base_salary\n",
        "    self.bonus_rate = bonus_rate\n",
        "    self.symbol = symbol\n",
        "    self.total_salary =  base_salary * (1+bonus_rate)\n",
        "    self.bonus = base_salary * bonus_rate\n",
        "\n",
        "  def __repr__(self):\n",
        "    return f\"{self.symbol}{self.base_salary:,.0f}\"\n",
        "\n",
        "  def calculate_salary(self):\n",
        "    return f\"{self.symbol}{self.total_salary:,.0f}\"\n",
        "\n",
        "  def calculate_bonus(self):\n",
        "    return f\"{self.symbol}{self.bonus:,.0f}\"\n"
      ]
    },
    {
      "cell_type": "code",
      "execution_count": 28,
      "metadata": {
        "id": "fD4X0DWQNuh2"
      },
      "outputs": [],
      "source": [
        "salary = BaseSalary(100000)"
      ]
    },
    {
      "cell_type": "code",
      "execution_count": 29,
      "metadata": {
        "colab": {
          "base_uri": "https://localhost:8080/",
          "height": 36
        },
        "id": "jY1U9_XkS5l_",
        "outputId": "f9dd9d05-228a-4b64-85e6-764ff2fdd07f"
      },
      "outputs": [
        {
          "data": {
            "application/vnd.google.colaboratory.intrinsic+json": {
              "type": "string"
            },
            "text/plain": [
              "'$150,000'"
            ]
          },
          "execution_count": 29,
          "metadata": {},
          "output_type": "execute_result"
        }
      ],
      "source": [
        "salary.calculate_salary()"
      ]
    },
    {
      "cell_type": "code",
      "execution_count": 30,
      "metadata": {
        "colab": {
          "base_uri": "https://localhost:8080/",
          "height": 36
        },
        "id": "5fHLXfnRTEN0",
        "outputId": "3ff8aa2c-90b7-4411-ffa6-1027823d5d84"
      },
      "outputs": [
        {
          "data": {
            "application/vnd.google.colaboratory.intrinsic+json": {
              "type": "string"
            },
            "text/plain": [
              "'$50,000'"
            ]
          },
          "execution_count": 30,
          "metadata": {},
          "output_type": "execute_result"
        }
      ],
      "source": [
        "salary.calculate_bonus()"
      ]
    },
    {
      "cell_type": "code",
      "execution_count": 31,
      "metadata": {
        "colab": {
          "base_uri": "https://localhost:8080/"
        },
        "id": "0wFxcAGMTYRm",
        "outputId": "dabaf0c4-ac98-4460-e31d-c45a95b6c5c8"
      },
      "outputs": [
        {
          "data": {
            "text/plain": [
              "₹100,000"
            ]
          },
          "execution_count": 31,
          "metadata": {},
          "output_type": "execute_result"
        }
      ],
      "source": [
        "BaseSalary(100000,symbol='₹')"
      ]
    },
    {
      "cell_type": "markdown",
      "metadata": {
        "id": "t4pgu7Gkgusa"
      },
      "source": [
        "## Multi Threading\n"
      ]
    },
    {
      "cell_type": "code",
      "execution_count": null,
      "metadata": {
        "id": "AJSBYv1bgK9k"
      },
      "outputs": [],
      "source": [
        "import threading\n",
        "import time\n",
        "\n",
        "def task1():\n",
        "    print(\"Task 1 started\")\n",
        "    time.sleep(2)  # Simulate some work\n",
        "    print(\"Task 1 finished\")\n",
        "\n",
        "def task2():\n",
        "    print(\"Task 2 started\")\n",
        "    time.sleep(3)  # Simulate some work\n",
        "    print(\"Task 2 finished\")\n",
        "\n",
        "if __name__ == \"__main__\":\n",
        "    # Create two threads\n",
        "    thread1 = threading.Thread(target=task1)\n",
        "    thread2 = threading.Thread(target=task2)\n",
        "\n",
        "    # Start the threads\n",
        "    thread1.start()\n",
        "    thread2.start()\n",
        "\n",
        "    # Wait for the threads to complete\n",
        "    thread1.join()\n",
        "    thread2.join()\n",
        "\n",
        "    print(\"All tasks finished\")"
      ]
    }
  ],
  "metadata": {
    "colab": {
      "authorship_tag": "ABX9TyNMj4MBZg/M9YQzOnDmM1Nu",
      "include_colab_link": true,
      "provenance": [],
      "toc_visible": true
    },
    "kernelspec": {
      "display_name": "Python 3",
      "name": "python3"
    },
    "language_info": {
      "codemirror_mode": {
        "name": "ipython",
        "version": 3
      },
      "file_extension": ".py",
      "mimetype": "text/x-python",
      "name": "python",
      "nbconvert_exporter": "python",
      "pygments_lexer": "ipython3",
      "version": "3.12.3"
    }
  },
  "nbformat": 4,
  "nbformat_minor": 0
}
