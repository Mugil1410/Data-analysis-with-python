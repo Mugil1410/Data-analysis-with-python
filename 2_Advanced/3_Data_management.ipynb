{
 "cells": [
  {
   "cell_type": "code",
   "execution_count": 1,
   "metadata": {},
   "outputs": [
    {
     "name": "stderr",
     "output_type": "stream",
     "text": [
      "c:\\Users\\Booheymen\\AppData\\Local\\Programs\\Python\\Python312\\Lib\\site-packages\\tqdm\\auto.py:21: TqdmWarning: IProgress not found. Please update jupyter and ipywidgets. See https://ipywidgets.readthedocs.io/en/stable/user_install.html\n",
      "  from .autonotebook import tqdm as notebook_tqdm\n"
     ]
    }
   ],
   "source": [
    "from datasets import load_dataset\n",
    "import pandas as pd\n",
    "import matplotlib.pyplot as plt\n",
    "\n",
    "#load data\n",
    "dataSet = load_dataset('lukebarousse/data_jobs')\n",
    "df = dataSet['train'].to_pandas()\n",
    "\n",
    "#clean data\n",
    "df['job_posted_date'] = pd.to_datetime(df['job_posted_date'])"
   ]
  },
  {
   "cell_type": "markdown",
   "metadata": {},
   "source": [
    "## Sample"
   ]
  },
  {
   "cell_type": "code",
   "execution_count": null,
   "metadata": {},
   "outputs": [
    {
     "data": {
      "text/html": [
       "<div>\n",
       "<style scoped>\n",
       "    .dataframe tbody tr th:only-of-type {\n",
       "        vertical-align: middle;\n",
       "    }\n",
       "\n",
       "    .dataframe tbody tr th {\n",
       "        vertical-align: top;\n",
       "    }\n",
       "\n",
       "    .dataframe thead th {\n",
       "        text-align: right;\n",
       "    }\n",
       "</style>\n",
       "<table border=\"1\" class=\"dataframe\">\n",
       "  <thead>\n",
       "    <tr style=\"text-align: right;\">\n",
       "      <th></th>\n",
       "      <th>job_title_short</th>\n",
       "      <th>job_title</th>\n",
       "      <th>job_location</th>\n",
       "      <th>job_via</th>\n",
       "      <th>job_schedule_type</th>\n",
       "      <th>job_work_from_home</th>\n",
       "      <th>search_location</th>\n",
       "      <th>job_posted_date</th>\n",
       "      <th>job_no_degree_mention</th>\n",
       "      <th>job_health_insurance</th>\n",
       "      <th>job_country</th>\n",
       "      <th>salary_rate</th>\n",
       "      <th>salary_year_avg</th>\n",
       "      <th>salary_hour_avg</th>\n",
       "      <th>company_name</th>\n",
       "      <th>job_skills</th>\n",
       "      <th>job_type_skills</th>\n",
       "    </tr>\n",
       "  </thead>\n",
       "  <tbody>\n",
       "    <tr>\n",
       "      <th>502901</th>\n",
       "      <td>Senior Data Engineer</td>\n",
       "      <td>Senior Data Engineer</td>\n",
       "      <td>St Paul, MN</td>\n",
       "      <td>via BeBee</td>\n",
       "      <td>Full-time</td>\n",
       "      <td>False</td>\n",
       "      <td>Florida, United States</td>\n",
       "      <td>2023-12-17 11:09:06</td>\n",
       "      <td>False</td>\n",
       "      <td>False</td>\n",
       "      <td>United States</td>\n",
       "      <td>None</td>\n",
       "      <td>NaN</td>\n",
       "      <td>NaN</td>\n",
       "      <td>ManpowerGroup</td>\n",
       "      <td>['sql', 'azure', 'git']</td>\n",
       "      <td>{'cloud': ['azure'], 'other': ['git'], 'progra...</td>\n",
       "    </tr>\n",
       "    <tr>\n",
       "      <th>406337</th>\n",
       "      <td>Senior Data Scientist</td>\n",
       "      <td>Senior Analytics Engineer</td>\n",
       "      <td>London, UK</td>\n",
       "      <td>via LinkedIn</td>\n",
       "      <td>Full-time</td>\n",
       "      <td>False</td>\n",
       "      <td>United Kingdom</td>\n",
       "      <td>2023-10-06 16:09:56</td>\n",
       "      <td>False</td>\n",
       "      <td>False</td>\n",
       "      <td>United Kingdom</td>\n",
       "      <td>None</td>\n",
       "      <td>NaN</td>\n",
       "      <td>NaN</td>\n",
       "      <td>Harnham</td>\n",
       "      <td>['sql', 'python', 'bigquery', 'snowflake', 'lo...</td>\n",
       "      <td>{'analyst_tools': ['looker'], 'cloud': ['bigqu...</td>\n",
       "    </tr>\n",
       "    <tr>\n",
       "      <th>659951</th>\n",
       "      <td>Data Engineer</td>\n",
       "      <td>Data Engineer</td>\n",
       "      <td>Newcastle upon Tyne, UK</td>\n",
       "      <td>via Indeed</td>\n",
       "      <td>Full-time</td>\n",
       "      <td>False</td>\n",
       "      <td>United Kingdom</td>\n",
       "      <td>2023-09-06 10:11:25</td>\n",
       "      <td>True</td>\n",
       "      <td>False</td>\n",
       "      <td>United Kingdom</td>\n",
       "      <td>None</td>\n",
       "      <td>NaN</td>\n",
       "      <td>NaN</td>\n",
       "      <td>Morgan King</td>\n",
       "      <td>None</td>\n",
       "      <td>None</td>\n",
       "    </tr>\n",
       "    <tr>\n",
       "      <th>541593</th>\n",
       "      <td>Data Analyst</td>\n",
       "      <td>Data Analyst</td>\n",
       "      <td>Malta</td>\n",
       "      <td>via Trabajo.org</td>\n",
       "      <td>Full-time</td>\n",
       "      <td>False</td>\n",
       "      <td>Malta</td>\n",
       "      <td>2023-02-14 21:14:18</td>\n",
       "      <td>True</td>\n",
       "      <td>False</td>\n",
       "      <td>Malta</td>\n",
       "      <td>None</td>\n",
       "      <td>NaN</td>\n",
       "      <td>NaN</td>\n",
       "      <td>Konnekt</td>\n",
       "      <td>['jira']</td>\n",
       "      <td>{'async': ['jira']}</td>\n",
       "    </tr>\n",
       "    <tr>\n",
       "      <th>425158</th>\n",
       "      <td>Senior Data Engineer</td>\n",
       "      <td>Senior Data Engineer. Job in Amsterdam NBC4i Jobs</td>\n",
       "      <td>Amsterdam, Netherlands</td>\n",
       "      <td>via NBC4i Jobs</td>\n",
       "      <td>Full-time</td>\n",
       "      <td>False</td>\n",
       "      <td>Netherlands</td>\n",
       "      <td>2023-06-19 16:34:30</td>\n",
       "      <td>True</td>\n",
       "      <td>False</td>\n",
       "      <td>Netherlands</td>\n",
       "      <td>None</td>\n",
       "      <td>NaN</td>\n",
       "      <td>NaN</td>\n",
       "      <td>Independent Recruiters</td>\n",
       "      <td>['python']</td>\n",
       "      <td>{'programming': ['python']}</td>\n",
       "    </tr>\n",
       "  </tbody>\n",
       "</table>\n",
       "</div>"
      ],
      "text/plain": [
       "              job_title_short  \\\n",
       "502901   Senior Data Engineer   \n",
       "406337  Senior Data Scientist   \n",
       "659951          Data Engineer   \n",
       "541593           Data Analyst   \n",
       "425158   Senior Data Engineer   \n",
       "\n",
       "                                                job_title  \\\n",
       "502901                               Senior Data Engineer   \n",
       "406337                          Senior Analytics Engineer   \n",
       "659951                                      Data Engineer   \n",
       "541593                                       Data Analyst   \n",
       "425158  Senior Data Engineer. Job in Amsterdam NBC4i Jobs   \n",
       "\n",
       "                   job_location          job_via job_schedule_type  \\\n",
       "502901              St Paul, MN        via BeBee         Full-time   \n",
       "406337               London, UK     via LinkedIn         Full-time   \n",
       "659951  Newcastle upon Tyne, UK       via Indeed         Full-time   \n",
       "541593                    Malta  via Trabajo.org         Full-time   \n",
       "425158   Amsterdam, Netherlands   via NBC4i Jobs         Full-time   \n",
       "\n",
       "        job_work_from_home         search_location     job_posted_date  \\\n",
       "502901               False  Florida, United States 2023-12-17 11:09:06   \n",
       "406337               False          United Kingdom 2023-10-06 16:09:56   \n",
       "659951               False          United Kingdom 2023-09-06 10:11:25   \n",
       "541593               False                   Malta 2023-02-14 21:14:18   \n",
       "425158               False             Netherlands 2023-06-19 16:34:30   \n",
       "\n",
       "        job_no_degree_mention  job_health_insurance     job_country  \\\n",
       "502901                  False                 False   United States   \n",
       "406337                  False                 False  United Kingdom   \n",
       "659951                   True                 False  United Kingdom   \n",
       "541593                   True                 False           Malta   \n",
       "425158                   True                 False     Netherlands   \n",
       "\n",
       "       salary_rate  salary_year_avg  salary_hour_avg            company_name  \\\n",
       "502901        None              NaN              NaN           ManpowerGroup   \n",
       "406337        None              NaN              NaN                 Harnham   \n",
       "659951        None              NaN              NaN             Morgan King   \n",
       "541593        None              NaN              NaN                 Konnekt   \n",
       "425158        None              NaN              NaN  Independent Recruiters   \n",
       "\n",
       "                                               job_skills  \\\n",
       "502901                            ['sql', 'azure', 'git']   \n",
       "406337  ['sql', 'python', 'bigquery', 'snowflake', 'lo...   \n",
       "659951                                               None   \n",
       "541593                                           ['jira']   \n",
       "425158                                         ['python']   \n",
       "\n",
       "                                          job_type_skills  \n",
       "502901  {'cloud': ['azure'], 'other': ['git'], 'progra...  \n",
       "406337  {'analyst_tools': ['looker'], 'cloud': ['bigqu...  \n",
       "659951                                               None  \n",
       "541593                                {'async': ['jira']}  \n",
       "425158                        {'programming': ['python']}  "
      ]
     },
     "execution_count": 7,
     "metadata": {},
     "output_type": "execute_result"
    }
   ],
   "source": [
    "# load sample random data from data set \n",
    "df.sample(5)\n",
    "\n",
    "# if random you want same data on each time use randomstate\n",
    "df.sample(5, random_state=42)  # same data each time"
   ]
  },
  {
   "cell_type": "markdown",
   "metadata": {},
   "source": [
    "## Copy"
   ]
  },
  {
   "cell_type": "code",
   "execution_count": 15,
   "metadata": {},
   "outputs": [
    {
     "data": {
      "text/plain": [
       "0         45.98\n",
       "1         45.98\n",
       "2         45.98\n",
       "3         45.98\n",
       "4         45.98\n",
       "          ...  \n",
       "785736    45.98\n",
       "785737    45.98\n",
       "785738    45.98\n",
       "785739    45.98\n",
       "785740    45.98\n",
       "Name: salary_hour_avg, Length: 785741, dtype: float64"
      ]
     },
     "execution_count": 15,
     "metadata": {},
     "output_type": "execute_result"
    }
   ],
   "source": [
    "# manually copy a dataset of df to dfCopy\n",
    "dfCopy  = df\n",
    "\n",
    "# update data in copy\n",
    "dfCopy['salary_hour_avg'] = dfCopy['salary_hour_avg'].fillna(dfCopy['salary_hour_avg'].median())\n",
    "dfCopy['salary_hour_avg']\n",
    "\n"
   ]
  },
  {
   "cell_type": "code",
   "execution_count": 16,
   "metadata": {},
   "outputs": [
    {
     "data": {
      "text/plain": [
       "0         45.98\n",
       "1         45.98\n",
       "2         45.98\n",
       "3         45.98\n",
       "4         45.98\n",
       "          ...  \n",
       "785736    45.98\n",
       "785737    45.98\n",
       "785738    45.98\n",
       "785739    45.98\n",
       "785740    45.98\n",
       "Name: salary_hour_avg, Length: 785741, dtype: float64"
      ]
     },
     "execution_count": 16,
     "metadata": {},
     "output_type": "execute_result"
    }
   ],
   "source": [
    "#now we updated dfCopy but this changes affect in df \n",
    "df['salary_hour_avg']"
   ]
  },
  {
   "cell_type": "code",
   "execution_count": null,
   "metadata": {},
   "outputs": [
    {
     "data": {
      "text/plain": [
       "True"
      ]
     },
     "execution_count": 17,
     "metadata": {},
     "output_type": "execute_result"
    }
   ],
   "source": [
    "# if we update in dfCopy that reflects in df also, to verify that\n",
    "# first check ids thses above two have same ids\n",
    "id(df) == id(dfCopy)\n"
   ]
  },
  {
   "cell_type": "code",
   "execution_count": 22,
   "metadata": {},
   "outputs": [],
   "source": [
    "#load data\n",
    "dataSet = load_dataset('lukebarousse/data_jobs')\n",
    "df = dataSet['train'].to_pandas()\n",
    "\n",
    "#clean data\n",
    "df['job_posted_date'] = pd.to_datetime(df['job_posted_date'])"
   ]
  },
  {
   "cell_type": "code",
   "execution_count": 23,
   "metadata": {},
   "outputs": [
    {
     "data": {
      "text/plain": [
       "0         45.98\n",
       "1         45.98\n",
       "2         45.98\n",
       "3         45.98\n",
       "4         45.98\n",
       "          ...  \n",
       "785736    45.98\n",
       "785737    45.98\n",
       "785738    45.98\n",
       "785739    45.98\n",
       "785740    45.98\n",
       "Name: salary_hour_avg, Length: 785741, dtype: float64"
      ]
     },
     "execution_count": 23,
     "metadata": {},
     "output_type": "execute_result"
    }
   ],
   "source": [
    "# to avoid this, we make a copy of df to dfCopy\n",
    "dfCopy = df.copy()\n",
    "\n",
    "#now we compare ids this time both are different\n",
    "id(df) == id(dfCopy)\n",
    "\n",
    "# when we made chnages in dfCopy this not affect in oroginal df dataSet\n",
    "# update data in copy\n",
    "dfCopy['salary_hour_avg'] = dfCopy['salary_hour_avg'].fillna(dfCopy['salary_hour_avg'].median())\n",
    "dfCopy['salary_hour_avg']"
   ]
  },
  {
   "cell_type": "code",
   "execution_count": 24,
   "metadata": {},
   "outputs": [
    {
     "data": {
      "text/plain": [
       "0        NaN\n",
       "1        NaN\n",
       "2        NaN\n",
       "3        NaN\n",
       "4        NaN\n",
       "          ..\n",
       "785736   NaN\n",
       "785737   NaN\n",
       "785738   NaN\n",
       "785739   NaN\n",
       "785740   NaN\n",
       "Name: salary_hour_avg, Length: 785741, dtype: float64"
      ]
     },
     "execution_count": 24,
     "metadata": {},
     "output_type": "execute_result"
    }
   ],
   "source": [
    "df['salary_hour_avg']"
   ]
  }
 ],
 "metadata": {
  "kernelspec": {
   "display_name": "Python 3",
   "language": "python",
   "name": "python3"
  },
  "language_info": {
   "codemirror_mode": {
    "name": "ipython",
    "version": 3
   },
   "file_extension": ".py",
   "mimetype": "text/x-python",
   "name": "python",
   "nbconvert_exporter": "python",
   "pygments_lexer": "ipython3",
   "version": "3.12.3"
  }
 },
 "nbformat": 4,
 "nbformat_minor": 2
}
