{
  "cells": [
    {
      "cell_type": "markdown",
      "metadata": {
        "id": "view-in-github",
        "colab_type": "text"
      },
      "source": [
        "<a href=\"https://colab.research.google.com/github/Mugil1410/Data-analysis-with-python/blob/main/started.ipynb\" target=\"_parent\"><img src=\"https://colab.research.google.com/assets/colab-badge.svg\" alt=\"Open In Colab\"/></a>"
      ]
    },
    {
      "cell_type": "markdown",
      "source": [
        "## Get started"
      ],
      "metadata": {
        "id": "BOVe8T00hCPH"
      }
    },
    {
      "cell_type": "markdown",
      "metadata": {
        "id": "v-LfPhNrCblN"
      },
      "source": [
        "Variables declare:"
      ]
    },
    {
      "cell_type": "code",
      "execution_count": null,
      "metadata": {
        "colab": {
          "base_uri": "https://localhost:8080/"
        },
        "id": "DJCpYJ0XcRF5",
        "outputId": "27dabf5d-3e04-4845-d9f2-5444b6f0cfe4"
      },
      "outputs": [
        {
          "name": "stdout",
          "output_type": "stream",
          "text": [
            "hello world\n"
          ]
        }
      ],
      "source": [
        "a = 5;\n",
        "b = 90;\n",
        "helloworld = print\n",
        "helloworld(\"hello world\");"
      ]
    },
    {
      "cell_type": "markdown",
      "metadata": {
        "id": "fr8b-UFIHNz3"
      },
      "source": [
        "Bulit-in methods"
      ]
    },
    {
      "cell_type": "code",
      "execution_count": null,
      "metadata": {
        "id": "DOymvqidFb25"
      },
      "outputs": [],
      "source": [
        "# Example 1: Print a string onto the screen\n",
        "print(\"Hello, World!\")\n",
        "\n",
        "# Example 2: Print more than one object onto the screen\n",
        "print(\"Hello\", \"World\", \"!\")\n",
        "\n",
        "# 2. type() function\n",
        "# Type function returns the type of the object\n",
        "\n",
        "# Example 1: Return the type of the following object\n",
        "print(type(123))\n",
        "\n",
        "# Example 2: Return the type of the following objects\n",
        "print(type(\"Hello\"))\n",
        "print(type(3.14))\n",
        "\n",
        "# 3. input() function\n",
        "# Input function allows user input and returns it as a string\n",
        "\n",
        "# Example: Use the prompt parameter to write the complete message after giving the input\n",
        "user_input = input(\"Enter your name: \")\n",
        "print(\"Hello, \" + user_input)\n",
        "\n",
        "# 4. abs() function\n",
        "# Abs function returns the absolute value of a number\n",
        "\n",
        "# Example 1: Return the absolute value of a negative number\n",
        "print(abs(-7))\n",
        "\n",
        "# Example 2: Return the absolute value of a complex number\n",
        "print(abs(3 + 4j))\n",
        "\n",
        "# 5. pow() function\n",
        "# Pow function returns the value of a number raised to the power of another number\n",
        "\n",
        "# Example 1: Return the value of 3 to the power of 4\n",
        "print(pow(3, 4))\n",
        "\n",
        "# Example 2: Return the value of 3 to the power of 4, modulus 5\n",
        "print(pow(3, 4, 5))\n",
        "\n",
        "# 6. dir() function\n",
        "# Dir function returns a list of attributes and methods of any object (functions, modules, strings, lists, dictionaries, etc.)\n",
        "\n",
        "# Example: Display the content of an object\n",
        "print(dir(str))\n",
        "\n",
        "# 7. sorted() function\n",
        "# Sorted function returns a sorted list of the specified iterable's elements\n",
        "\n",
        "# Example 1: Sort the specified tuple in ascending order\n",
        "tuple1 = (3, 1, 4, 2)\n",
        "print(sorted(tuple1))\n",
        "\n",
        "# Example 2: Sort the specified tuple in descending order\n",
        "print(sorted(tuple1, reverse=True))\n",
        "\n",
        "# 8. max() function\n",
        "# Max function returns the largest item in an iterable or the largest of two or more arguments\n",
        "\n",
        "# Example 1: Return the name with the highest value, ordered alphabetically\n",
        "names = [\"Alice\", \"Bob\", \"Charlie\"]\n",
        "print(max(names))\n",
        "\n",
        "# Example 2: Return the item in a tuple with the highest value\n",
        "print(max(tuple1))\n",
        "\n",
        "# 9. round() function\n",
        "# Round function returns a floating point number rounded to the specified number of decimals\n",
        "\n",
        "# Example 1: Round the specified positive number to the nearest integer\n",
        "print(round(4.6))\n",
        "\n",
        "# Example 2: Round the specified negative number to the nearest integer\n",
        "print(round(-4.6))\n",
        "\n",
        "# Example 3: Round the specified number to the nearest integer\n",
        "print(round(4.5))\n",
        "\n",
        "# 10. divmod() function\n",
        "# Divmod function returns a tuple containing the quotient and the remainder when dividing the first argument by the second\n",
        "\n",
        "# Example 1: Display the quotient and the remainder when 7 is divided by 3\n",
        "print(divmod(7, 3))\n",
        "\n",
        "# Example 2: Display the quotient and the remainder when 72 is divided by 6\n",
        "print(divmod(72, 6))\n",
        "\n",
        "# 11. id() function\n",
        "# Id function returns the unique ID of an object\n",
        "\n",
        "# Example 1: Return the unique id of a tuple object\n",
        "tuple2 = (1, 2, 3)\n",
        "print(id(tuple2))\n",
        "\n",
        "# Example 2: Return the unique id of a string object\n",
        "string = \"Hello\"\n",
        "print(id(string))\n",
        "\n",
        "# 12. ord() function\n",
        "# Ord function returns the integer that represents the Unicode character\n",
        "\n",
        "# Example 1: Return the integer that represents the character “h”\n",
        "print(ord(\"h\"))\n",
        "\n",
        "# Example 2: Return the integer that represents the character “H”\n",
        "print(ord(\"H\"))\n",
        "\n",
        "# 13. len() function\n",
        "# Len function returns the number of items in an object\n",
        "\n",
        "# Example 1: Return the number of items in a list\n",
        "list1 = [1, 2, 3, 4]\n",
        "print(len(list1))\n",
        "\n",
        "# Example 2: Return the number of items in a string object\n",
        "print(len(\"Hello\"))\n",
        "\n",
        "# 14. sum() function\n",
        "# Sum function adds the items of an iterable and returns the sum\n",
        "\n",
        "# Example 1: Start with the number 7, and add all the items in a tuple to this number\n",
        "print(sum((1, 2, 3), 7))\n",
        "\n",
        "# Example 2: Print the sum of all the elements of a list\n",
        "print(sum(list1))\n"
      ]
    },
    {
      "cell_type": "markdown",
      "metadata": {
        "id": "4IOV8VqXGbbj"
      },
      "source": [
        "## Magic Method\n",
        "1.   __add__ is a magic method that Python uses to implement the + operator.\n",
        "2.   When you call b.__add__(8), it is equivalent to writing b + 8.\n",
        "\n",
        "\n",
        "\n"
      ]
    },
    {
      "cell_type": "code",
      "execution_count": null,
      "metadata": {
        "colab": {
          "base_uri": "https://localhost:8080/"
        },
        "id": "L2NcnlM8FjLg",
        "outputId": "5c46f69c-088f-4842-d237-2352c7b5335b"
      },
      "outputs": [
        {
          "data": {
            "text/plain": [
              "114"
            ]
          },
          "execution_count": 20,
          "metadata": {},
          "output_type": "execute_result"
        }
      ],
      "source": [
        "mugil_weight = 106\n",
        "mugil_weight.__add__(8)"
      ]
    },
    {
      "cell_type": "markdown",
      "source": [
        "## Class and Methods\n"
      ],
      "metadata": {
        "id": "CRDJ9C_nhL-O"
      }
    },
    {
      "cell_type": "markdown",
      "metadata": {
        "id": "Qma47f3VCi0-"
      },
      "source": [
        "classes and methods(function)"
      ]
    },
    {
      "cell_type": "code",
      "execution_count": null,
      "metadata": {
        "colab": {
          "base_uri": "https://localhost:8080/"
        },
        "id": "T17KVCYVHStr",
        "outputId": "c7183467-bca1-4c32-c83a-e4430a5d813d"
      },
      "outputs": [
        {
          "name": "stdout",
          "output_type": "stream",
          "text": [
            "5\n"
          ]
        },
        {
          "data": {
            "text/plain": [
              "5"
            ]
          },
          "execution_count": 18,
          "metadata": {},
          "output_type": "execute_result"
        }
      ],
      "source": [
        "#class\n",
        "class MyClass:\n",
        "  x = 5\n",
        "obj = MyClass()\n",
        "print(obj.x)\n",
        "\n",
        "#function\n",
        "def function_name():\n",
        "  return 5\n",
        "\n",
        "function_name()\n",
        "\n"
      ]
    },
    {
      "cell_type": "markdown",
      "metadata": {
        "id": "MFyJTyBkHlgF"
      },
      "source": [
        "classes and methods(function) combined"
      ]
    },
    {
      "cell_type": "code",
      "execution_count": null,
      "metadata": {
        "colab": {
          "background_save": true,
          "base_uri": "https://localhost:8080/"
        },
        "id": "DQcddEuKChmi",
        "outputId": "28715cf7-ce45-4deb-b091-8f0d11554e2e"
      },
      "outputs": [
        {
          "name": "stdout",
          "output_type": "stream",
          "text": [
            "SDE india 10000\n"
          ]
        }
      ],
      "source": [
        "title =  'SDE'\n",
        "location =  'india'\n",
        "salary = 10000\n",
        "\n",
        "def display():\n",
        "  print(title,location,salary)\n",
        "\n",
        "class jobPost:\n",
        "   def __init__(self,title,location,salary):\n",
        "    self.title = title\n",
        "    self.location = location\n",
        "    self.salary = salary\n",
        "    self.display = display()\n",
        "\n",
        "\n",
        "job1 = jobPost(title,location,salary)\n",
        "job1.display\n"
      ]
    },
    {
      "cell_type": "markdown",
      "metadata": {
        "id": "eMujY2knJf4i"
      },
      "source": [
        "## Data Types\n",
        "\n"
      ]
    },
    {
      "cell_type": "code",
      "execution_count": null,
      "metadata": {
        "id": "TXwpZrsTJfQj"
      },
      "outputs": [],
      "source": [
        "# Basic Data Types in Python\n",
        "\n",
        "# 1. Integer (int)\n",
        "# Represents whole numbers without a fractional component.\n",
        "# Example: 1, 42, -7\n",
        "num = 42\n",
        "print(type(num))  # Output: <class 'int'>\n",
        "\n",
        "# 2. Floating-Point (float)\n",
        "# Represents numbers that have a fractional component (decimal point).\n",
        "# Example: 3.14, -0.001, 2.718\n",
        "pi = 3.14\n",
        "print(type(pi))  # Output: <class 'float'>\n",
        "\n",
        "# 3. String (str)\n",
        "# Represents a sequence of characters, used for textual data.\n",
        "# Example: \"Hello\", 'World', \"123\"\n",
        "greeting = \"Hello, World!\"\n",
        "print(type(greeting))  # Output: <class 'str'>\n",
        "\n",
        "# 4. Boolean (bool)\n",
        "# Represents truth values, used for logical operations.\n",
        "# Example: True, False\n",
        "is_python_easy = True\n",
        "print(type(is_python_easy))  # Output: <class 'bool'>\n",
        "\n",
        "# 5. List (list)\n",
        "# Represents an ordered collection of items, which can be of different types.\n",
        "# Example: [1, 2, 3], ['apple', 'banana', 'cherry']\n",
        "fruits = ['apple', 'banana', 'cherry']\n",
        "print(type(fruits))  # Output: <class 'list'>\n",
        "\n",
        "# 6. Tuple (tuple)\n",
        "# Represents an ordered collection of items, which are immutable (cannot be changed).\n",
        "# Example: (1, 2, 3), ('red', 'green', 'blue')\n",
        "colors = ('red', 'green', 'blue')\n",
        "print(type(colors))  # Output: <class 'tuple'>\n",
        "\n",
        "# 7. Dictionary (dict)\n",
        "# Represents a collection of key-value pairs, used for mapping and associative arrays.\n",
        "# Example: {'name': 'Alice', 'age': 25}, {'one': 1, 'two': 2}\n",
        "person = {'name': 'Alice', 'age': 25}\n",
        "print(type(person))  # Output: <class 'dict'>\n",
        "\n",
        "# 8. Set (set)\n",
        "# Represents an unordered collection of unique items.\n",
        "# Example: {1, 2, 3}, {'apple', 'banana', 'cherry'}\n",
        "unique_numbers = {1, 2, 3}\n",
        "print(type(unique_numbers))  # Output: <class 'set'>\n"
      ]
    },
    {
      "cell_type": "markdown",
      "metadata": {
        "id": "ty-KvZY5L1fw"
      },
      "source": [
        "## Accessing attribute and methods (dot notation):\n",
        "*   my_object.name -  Accessing attribute 'name' of 'my_object'\n",
        "*   my_object.method() - Calling method 'method()' of 'my_object'\n",
        "\n",
        "\n"
      ]
    },
    {
      "cell_type": "code",
      "execution_count": null,
      "metadata": {
        "colab": {
          "base_uri": "https://localhost:8080/",
          "height": 36
        },
        "id": "fU4kKSy1K2RY",
        "outputId": "e0685c6f-06e9-4b39-dbe5-97fd44ca25d3"
      },
      "outputs": [
        {
          "data": {
            "application/vnd.google.colaboratory.intrinsic+json": {
              "type": "string"
            },
            "text/plain": [
              "'Mugil hari'"
            ]
          },
          "execution_count": 26,
          "metadata": {},
          "output_type": "execute_result"
        }
      ],
      "source": [
        "name = 'mugil' + ' hari'\n",
        "name.capitalize()"
      ]
    },
    {
      "cell_type": "markdown",
      "metadata": {
        "id": "sZtgn9WbOV-S"
      },
      "source": [
        "## String operations"
      ]
    },
    {
      "cell_type": "code",
      "execution_count": null,
      "metadata": {
        "id": "OMr-HfZeOYcl"
      },
      "outputs": [],
      "source": [
        "'Data Analyst'.split(\" \")"
      ]
    },
    {
      "cell_type": "code",
      "execution_count": null,
      "metadata": {
        "id": "_ddx4i3qPk99"
      },
      "outputs": [],
      "source": [
        "'Mugilaananthan'.replace('A','a',1)"
      ]
    },
    {
      "cell_type": "code",
      "execution_count": null,
      "metadata": {
        "id": "w8fuHAiQPn5T"
      },
      "outputs": [],
      "source": [
        "str.lower('SIZE')"
      ]
    },
    {
      "cell_type": "code",
      "execution_count": null,
      "metadata": {
        "id": "r0zoaJO1QPnr"
      },
      "outputs": [],
      "source": [
        "str.__add__('Mugil','Hari')"
      ]
    },
    {
      "cell_type": "code",
      "execution_count": null,
      "metadata": {
        "id": "AjKgeTQXQSgT"
      },
      "outputs": [],
      "source": [
        "'Mugil '.__add__('Hari')"
      ]
    },
    {
      "cell_type": "code",
      "execution_count": null,
      "metadata": {
        "id": "mMgYt9-BQaR9"
      },
      "outputs": [],
      "source": [
        "'Mugil ' + 'Hari'"
      ]
    },
    {
      "cell_type": "code",
      "execution_count": null,
      "metadata": {
        "id": "Vv21UxrAQ1Td"
      },
      "outputs": [],
      "source": [
        "'Mugil ' * 3"
      ]
    },
    {
      "cell_type": "code",
      "execution_count": null,
      "metadata": {
        "id": "vAM4IKMRQ7hR"
      },
      "outputs": [],
      "source": [
        "len('mugil ')"
      ]
    },
    {
      "cell_type": "code",
      "execution_count": null,
      "metadata": {
        "id": "JmKZl97PTNpT"
      },
      "outputs": [],
      "source": [
        "skill =  \"python\"; domain =  'analyst'\n",
        "f\"Hi i am {skill} {domain}\""
      ]
    },
    {
      "cell_type": "code",
      "execution_count": null,
      "metadata": {
        "id": "8A_FM5tsTcoK"
      },
      "outputs": [],
      "source": [
        "'i am {} from {}'.format('Mugil','India')"
      ]
    },
    {
      "cell_type": "markdown",
      "source": [
        "## Conditional Statements"
      ],
      "metadata": {
        "id": "xn6eXq2_K29-"
      }
    },
    {
      "cell_type": "code",
      "source": [
        "\n",
        "# 1. if Statement\n",
        "# Description: Executes a block of code if the condition is True.\n",
        "# Example: Check if a number is positive\n",
        "number = 10\n",
        "# If the number is greater than zero, print a message\n",
        "if number > 0:\n",
        "    print(\"The number is positive\")\n",
        "\n",
        "# 2. if-else Statement\n",
        "# Description: Executes one block of code if the condition is True and another block if the condition is False.\n",
        "# Example: Check if a number is positive or negative\n",
        "number = -5\n",
        "# If the number is greater than zero, print \"positive\", else print \"negative\"\n",
        "if number > 0:\n",
        "    print(\"The number is positive\")\n",
        "else:\n",
        "    print(\"The number is negative\")\n",
        "\n",
        "# 3. if-elif-else Statement\n",
        "# Description: Executes one block of code if the first condition is True, another block if the second condition is True, and another block if all conditions are False.\n",
        "# Example: Check if a number is positive, negative, or zero\n",
        "number = 0\n",
        "# If the number is greater than zero, print \"positive\", elif it is less than zero, print \"negative\", else print \"zero\"\n",
        "if number > 0:\n",
        "    print(\"The number is positive\")\n",
        "elif number < 0:\n",
        "    print(\"The number is negative\")\n",
        "else:\n",
        "    print(\"The number is zero\")\n",
        "\n",
        "# 4. Nested if Statement\n",
        "# Description: You can use one if or else statement inside another if or else statement.\n",
        "# Example: Check if a number is positive and even\n",
        "number = 8\n",
        "# If the number is greater than zero\n",
        "if number > 0:\n",
        "    # If the number is even, print \"positive and even\"\n",
        "    if number % 2 == 0:\n",
        "        print(\"The number is positive and even\")\n",
        "    # If the number is odd, print \"positive and odd\"\n",
        "    else:\n",
        "        print(\"The number is positive and odd\")\n",
        "# If the number is not greater than zero, print \"not positive\"\n",
        "else:\n",
        "    print(\"The number is not positive\")\n",
        "\n",
        "# 5. Ternary Conditional Operator\n",
        "# Description: A short-hand way to write if-else statements, also known as the conditional expression.\n",
        "# Example: Short-hand if-else statement\n",
        "number = 5\n",
        "# Assign \"positive\" if the number is greater than zero, else assign \"non-positive\"\n",
        "result = \"positive\" if number > 0 else \"non-positive\"\n",
        "print(result)  # Output: positive\n"
      ],
      "metadata": {
        "id": "sWpoaPQwKzJC"
      },
      "execution_count": null,
      "outputs": []
    },
    {
      "cell_type": "markdown",
      "source": [
        "## Arithmetic Operations"
      ],
      "metadata": {
        "id": "DKqxoGdkLOdZ"
      }
    },
    {
      "cell_type": "code",
      "source": [
        "# 1. Addition (+)\n",
        "# Adds two numbers together.\n",
        "a = 5\n",
        "b = 3\n",
        "result = a + b\n",
        "print(\"Addition:\", result)  # Output: 8\n",
        "\n",
        "# 2. Subtraction (-)\n",
        "# Subtracts the second number from the first.\n",
        "result = a - b\n",
        "print(\"Subtraction:\", result)  # Output: 2\n",
        "\n",
        "# 3. Multiplication (*)\n",
        "# Multiplies two numbers.\n",
        "result = a * b\n",
        "print(\"Multiplication:\", result)  # Output: 15\n",
        "\n",
        "# 4. Division (/)\n",
        "# Divides the first number by the second, resulting in a float.\n",
        "result = a / b\n",
        "print(\"Division:\", result)  # Output: 1.6666666666666667\n",
        "\n",
        "# 5. Floor Division (//)\n",
        "# Divides the first number by the second, resulting in an integer.\n",
        "result = a // b\n",
        "print(\"Floor Division:\", result)  # Output: 1\n",
        "\n",
        "# 6. Modulus (%)\n",
        "# Returns the remainder of the division of the first number by the second.\n",
        "result = a % b\n",
        "print(\"Modulus:\", result)  # Output: 2\n",
        "\n",
        "# 7. Exponentiation (**)\n",
        "# Raises the first number to the power of the second number.\n",
        "result = a ** b\n",
        "print(\"Exponentiation:\", result)  # Output: 125"
      ],
      "metadata": {
        "id": "wZ3OtUQfLQtp"
      },
      "execution_count": null,
      "outputs": []
    },
    {
      "cell_type": "markdown",
      "source": [
        "## Assignment and Comparative Operations"
      ],
      "metadata": {
        "id": "wZS9CW8nMA_k"
      }
    },
    {
      "cell_type": "code",
      "source": [
        "# 1. Assignment Operators\n",
        "# Description: Used to assign values to variables.\n",
        "# Example: Assigning values to variables using =\n",
        "x = 10\n",
        "y = 5\n",
        "print(\"x =\", x)  # Output: x = 10\n",
        "print(\"y =\", y)  # Output: y = 5\n",
        "\n",
        "# Additional Assignment Operators\n",
        "x += 3  # Equivalent to x = x + 3\n",
        "print(\"x += 3:\", x)  # Output: x += 3: 13\n",
        "\n",
        "x -= 2  # Equivalent to x = x - 2\n",
        "print(\"x -= 2:\", x)  # Output: x -= 2: 11\n",
        "\n",
        "x *= 2  # Equivalent to x = x * 2\n",
        "print(\"x *= 2:\", x)  # Output: x *= 2: 22\n",
        "\n",
        "x /= 4  # Equivalent to x = x / 4\n",
        "print(\"x /= 4:\", x)  # Output: x /= 4: 5.5\n",
        "\n",
        "x //= 2  # Equivalent to x = x // 2\n",
        "print(\"x //= 2:\", x)  # Output: x //= 2: 2.0\n",
        "\n",
        "x %= 3  # Equivalent to x = x % 3\n",
        "print(\"x %= 3:\", x)  # Output: x %= 3: 2.0\n",
        "\n",
        "x **= 2  # Equivalent to x = x ** 2\n",
        "print(\"x **= 2:\", x)  # Output: x **= 2: 4.0\n",
        "\n",
        "# 2. Comparative Operators\n",
        "# Description: Used to compare two values.\n",
        "# Example: Comparison operations\n",
        "a = 10\n",
        "b = 20\n",
        "\n",
        "# Greater than (>)\n",
        "print(\"a > b:\", a > b)  # Output: a > b: False\n",
        "\n",
        "# Less than (<)\n",
        "print(\"a < b:\", a < b)  # Output: a < b: True\n",
        "\n",
        "# Greater than or equal to (>=)\n",
        "print(\"a >= b:\", a >= b)  # Output: a >= b: False\n",
        "\n",
        "# Less than or equal to (<=)\n",
        "print(\"a <= b:\", a <= b)  # Output: a <= b: True\n",
        "\n",
        "# Equal to (==)\n",
        "print(\"a == b:\", a == b)  # Output: a == b: False\n",
        "\n",
        "# Not equal to (!=)\n",
        "print(\"a != b:\", a != b)  # Output: a != b: True\n"
      ],
      "metadata": {
        "id": "YJBUjDsfL9bE"
      },
      "execution_count": null,
      "outputs": []
    },
    {
      "cell_type": "markdown",
      "source": [
        "##List\n",
        "List\n",
        "Here's a quick comparison between these 4 container data types:\n",
        "\n",
        "| Feature          | List                                  | Dictionary                           | Set                                | Tuple                             |\n",
        "|------------------|---------------------------------------|--------------------------------------|------------------------------------|-----------------------------------|\n",
        "| Syntax           | `[item1, item2, ...]`                 | `{'key1': value1, 'key2': value2}`   | `{item1, item2, ...}`              | `(item1, item2, ...)` or `item,`  |\n",
        "| Type of Data     | Sequence                              | Mapping                              | Set                                | Sequence                          |\n",
        "| Order            | Ordered                               | Unordered                            | Unordered                          | Ordered                           |\n",
        "| Indexing         | Yes (by index)                        | Yes (by key)                         | No                                 | Yes (by index)                    |\n",
        "| Duplicate Values | Allowed                               | Values can be duplicated, keys cannot| Not allowed                        | Allowed                           |\n",
        "| Mutability       | Mutable                               | Mutable                              | Mutable                            | Immutable                         |\n",
        "| Usage            | For a collection of ordered items     | For key-value pairs                  | For unique items                   | For fixed data                    |"
      ],
      "metadata": {
        "id": "DyweVBZH58-A"
      }
    },
    {
      "cell_type": "markdown",
      "source": [
        "Notes\n",
        "\n",
        "- Used to store multiple ordered items in a single variable.\n",
        "- Created using `[` and `]`.\n",
        "- We won't be going into everything that we can do in a list.\n",
        "- Common data types in lists: Integer, Float, String, Boolean, List, Dictionary, Tuple, Set, Object.\n",
        "- You can include lists within lists.\n",
        "- Easy to store information.  \n",
        "\n",
        "Importance\n",
        "\n",
        "Versatile for storing sequences of data. Pandas can convert lists into Series or DataFrame objects for analysis."
      ],
      "metadata": {
        "id": "e82aV5xR7T__"
      }
    },
    {
      "cell_type": "code",
      "source": [
        "# Define a list of data science jobs\n",
        "job_skills = ['sql','tableau','excel',9,['mugil',,1410]]\n",
        "job_skills"
      ],
      "metadata": {
        "colab": {
          "base_uri": "https://localhost:8080/"
        },
        "id": "SWWdKgII58dP",
        "outputId": "84923c45-c291-4160-a7da-759048d1624c"
      },
      "execution_count": null,
      "outputs": [
        {
          "output_type": "execute_result",
          "data": {
            "text/plain": [
              "['sql', 'tableau', 'excel']"
            ]
          },
          "metadata": {},
          "execution_count": 3
        }
      ]
    },
    {
      "cell_type": "code",
      "source": [
        "job_skills.append('python')\n",
        "job_skills"
      ],
      "metadata": {
        "colab": {
          "base_uri": "https://localhost:8080/"
        },
        "id": "rg_y3pql7uRt",
        "outputId": "387a4298-023f-41fc-d3d2-b6b1dc051053"
      },
      "execution_count": null,
      "outputs": [
        {
          "output_type": "execute_result",
          "data": {
            "text/plain": [
              "['sql', 'tableau', 'excel', 'python']"
            ]
          },
          "metadata": {},
          "execution_count": 4
        }
      ]
    },
    {
      "cell_type": "code",
      "source": [
        "job_skills.remove('sql')\n",
        "job_skills"
      ],
      "metadata": {
        "colab": {
          "base_uri": "https://localhost:8080/"
        },
        "id": "biKka_d87yY-",
        "outputId": "77b30978-9682-4d69-ec79-14cfa872c2df"
      },
      "execution_count": null,
      "outputs": [
        {
          "output_type": "execute_result",
          "data": {
            "text/plain": [
              "['tableau', 'excel', 'python']"
            ]
          },
          "metadata": {},
          "execution_count": 5
        }
      ]
    },
    {
      "cell_type": "code",
      "source": [
        "job_skills.insert(2,'sql')\n",
        "job_skills"
      ],
      "metadata": {
        "colab": {
          "base_uri": "https://localhost:8080/"
        },
        "id": "80KrhGNC72Hj",
        "outputId": "7cf95dd6-811f-458a-918e-040bdb0df823"
      },
      "execution_count": null,
      "outputs": [
        {
          "output_type": "execute_result",
          "data": {
            "text/plain": [
              "['tableau', 'excel', 'sql', 'python']"
            ]
          },
          "metadata": {},
          "execution_count": 6
        }
      ]
    },
    {
      "cell_type": "code",
      "source": [
        "job_skills[2]"
      ],
      "metadata": {
        "colab": {
          "base_uri": "https://localhost:8080/",
          "height": 36
        },
        "id": "h24QSh0O8U9l",
        "outputId": "f6804e4a-1d4a-4835-e41b-74cb23a259e5"
      },
      "execution_count": null,
      "outputs": [
        {
          "output_type": "execute_result",
          "data": {
            "text/plain": [
              "'excel'"
            ],
            "application/vnd.google.colaboratory.intrinsic+json": {
              "type": "string"
            }
          },
          "metadata": {},
          "execution_count": 13
        }
      ]
    },
    {
      "cell_type": "code",
      "source": [
        "#using try except to handle out of range list index\n",
        "try:\n",
        "  job_skills[10]\n",
        "except Exception as e:\n",
        "  print(e)"
      ],
      "metadata": {
        "colab": {
          "base_uri": "https://localhost:8080/"
        },
        "id": "6wXYcI2z9HRG",
        "outputId": "5369f7f9-5cdb-4641-edb4-f903eb5d4d7e"
      },
      "execution_count": null,
      "outputs": [
        {
          "output_type": "stream",
          "name": "stdout",
          "text": [
            "list index out of range\n"
          ]
        }
      ]
    },
    {
      "cell_type": "code",
      "source": [
        "job_skills.pop()\n",
        "job_skills"
      ],
      "metadata": {
        "colab": {
          "base_uri": "https://localhost:8080/"
        },
        "id": "g60Gogac7_x5",
        "outputId": "637f227a-e7f9-4392-d0f9-f3b0df043822"
      },
      "execution_count": null,
      "outputs": [
        {
          "output_type": "execute_result",
          "data": {
            "text/plain": [
              "['tableau', 'excel', 'sql']"
            ]
          },
          "metadata": {},
          "execution_count": 7
        }
      ]
    },
    {
      "cell_type": "code",
      "source": [
        "job_skills.sort()\n",
        "job_skills"
      ],
      "metadata": {
        "colab": {
          "base_uri": "https://localhost:8080/"
        },
        "id": "y7TSL-vw8INn",
        "outputId": "8e4c3e01-4950-45e3-bff4-4892d2f7bb98"
      },
      "execution_count": null,
      "outputs": [
        {
          "output_type": "execute_result",
          "data": {
            "text/plain": [
              "['excel', 'sql', 'tableau']"
            ]
          },
          "metadata": {},
          "execution_count": 8
        }
      ]
    },
    {
      "cell_type": "code",
      "source": [
        "job_skills.reverse()\n",
        "job_skills"
      ],
      "metadata": {
        "colab": {
          "base_uri": "https://localhost:8080/"
        },
        "id": "2zG6hHNf8M7D",
        "outputId": "d7c84b28-184c-4f05-9c51-04cf0446059f"
      },
      "execution_count": null,
      "outputs": [
        {
          "output_type": "execute_result",
          "data": {
            "text/plain": [
              "['tableau', 'sql', 'excel']"
            ]
          },
          "metadata": {},
          "execution_count": 9
        }
      ]
    },
    {
      "cell_type": "markdown",
      "source": [
        "Slicing Syntax:\n",
        "* Syntax: `list[start:end:step]`  \n",
        "    * `start`: The starting index (inclusive)\n",
        "    * `end`: The ending index (exclusive)\n",
        "    * `step`: Steps to take between items"
      ],
      "metadata": {
        "id": "_LxXrZ199oxt"
      }
    },
    {
      "cell_type": "code",
      "source": [
        "job_skills[0:2]"
      ],
      "metadata": {
        "colab": {
          "base_uri": "https://localhost:8080/"
        },
        "id": "TFpXYDQ59p9d",
        "outputId": "bb7fc937-f090-46e4-cf6b-5d7b2437615b"
      },
      "execution_count": null,
      "outputs": [
        {
          "output_type": "execute_result",
          "data": {
            "text/plain": [
              "['tableau', 'sql']"
            ]
          },
          "metadata": {},
          "execution_count": 19
        }
      ]
    },
    {
      "cell_type": "code",
      "source": [
        "#using steps\n",
        "job_skills = ['sql','tableau','excel']\n",
        "job_skills[::2]"
      ],
      "metadata": {
        "colab": {
          "base_uri": "https://localhost:8080/"
        },
        "id": "MGOpEpO9-sn7",
        "outputId": "77d348d3-4fd3-4e1a-a15a-7569055784bc"
      },
      "execution_count": null,
      "outputs": [
        {
          "output_type": "execute_result",
          "data": {
            "text/plain": [
              "['sql', 'excel']"
            ]
          },
          "metadata": {},
          "execution_count": 21
        }
      ]
    },
    {
      "cell_type": "code",
      "source": [
        "job_skills[::-1]"
      ],
      "metadata": {
        "colab": {
          "base_uri": "https://localhost:8080/"
        },
        "id": "OqS62RWW-85d",
        "outputId": "4c684ddb-645d-48c1-b652-117157a4da8c"
      },
      "execution_count": null,
      "outputs": [
        {
          "output_type": "execute_result",
          "data": {
            "text/plain": [
              "['excel', 'tableau', 'sql']"
            ]
          },
          "metadata": {},
          "execution_count": 22
        }
      ]
    },
    {
      "cell_type": "markdown",
      "source": [
        "Joins"
      ],
      "metadata": {
        "id": "leqGGiWiCsnw"
      }
    },
    {
      "cell_type": "code",
      "source": [
        "luke = ['python','bigquery','r']\n",
        "kelly = ['python','sql','looker']\n",
        "total_skills = luke+kelly\n",
        "total_skills\n"
      ],
      "metadata": {
        "colab": {
          "base_uri": "https://localhost:8080/"
        },
        "id": "wlJjv8MT_u66",
        "outputId": "e34a134e-7b30-465e-f1ab-a47df1ab64d0"
      },
      "execution_count": null,
      "outputs": [
        {
          "output_type": "execute_result",
          "data": {
            "text/plain": [
              "['python', 'bigquery', 'r', 'python', 'sql', 'looker']"
            ]
          },
          "metadata": {},
          "execution_count": 27
        }
      ]
    },
    {
      "cell_type": "code",
      "source": [
        "#unpacking list\n",
        "skill1,skill2,skill3 = luke\n",
        "print(skill1)\n",
        "print(skill2)\n",
        "print(skill3)"
      ],
      "metadata": {
        "colab": {
          "base_uri": "https://localhost:8080/"
        },
        "id": "8Dme9ZhnA5FC",
        "outputId": "899dabf8-1b5f-403e-ed5c-3223f4ffc1e5"
      },
      "execution_count": null,
      "outputs": [
        {
          "output_type": "stream",
          "name": "stdout",
          "text": [
            "python\n",
            "bigquery\n",
            "r\n"
          ]
        }
      ]
    },
    {
      "cell_type": "code",
      "source": [
        "#use asertrick to manage to manu values while unpacking\n",
        "skill1,*other_skills = total_skills\n",
        "print(skill1)\n",
        "print(other_skills)"
      ],
      "metadata": {
        "colab": {
          "base_uri": "https://localhost:8080/"
        },
        "id": "qRosKdKUBYnA",
        "outputId": "e7fced7d-ce05-4740-b844-f0b1af3b3b8f"
      },
      "execution_count": null,
      "outputs": [
        {
          "output_type": "stream",
          "name": "stdout",
          "text": [
            "python\n",
            "['bigquery', 'r', 'python', 'sql', 'looker']\n"
          ]
        }
      ]
    },
    {
      "cell_type": "markdown",
      "source": [
        "## Dictnories"
      ],
      "metadata": {
        "id": "uMzzd3Manh_2"
      }
    },
    {
      "cell_type": "markdown",
      "source": [
        "Here's a quick comparison between these 4 container data types:\n",
        "\n",
        "| Feature          | List                                  | Dictionary                           | Set                                | Tuple                             |\n",
        "|------------------|---------------------------------------|--------------------------------------|------------------------------------|-----------------------------------|\n",
        "| Syntax           | `[item1, item2, ...]`                 | `{'key1': value1, 'key2': value2}`   | `{item1, item2, ...}`              | `(item1, item2, ...)` or `item,`  |\n",
        "| Type of Data     | Sequence                              | Mapping                              | Set                                | Sequence                          |\n",
        "| Order            | Ordered                               | Unordered                            | Unordered                          | Ordered                           |\n",
        "| Indexing         | Yes (by index)                        | Yes (by key)                         | No                                 | Yes (by index)                    |\n",
        "| Duplicate Values | Allowed                               | Values can be duplicated, keys cannot| Not allowed                        | Allowed                           |\n",
        "| Mutability       | Mutable                               | Mutable                              | Mutable                            | Immutable                         |\n",
        "| Usage            | For a collection of ordered items     | For key-value pairs                  | For unique items                   | For fixed data                    |"
      ],
      "metadata": {
        "id": "V3cnBz7NnoGJ"
      }
    },
    {
      "cell_type": "markdown",
      "source": [
        "Notes\n",
        "- Used to store multiple unordered key-value pairs in a single variable.\n",
        "\n",
        "- Created using { and }.\n",
        "\n",
        "- Common data types for keys and values in dictionaries: Integer, Float, String, Boolean, List, Dictionary, Tuple, Set, Object.\n",
        "\n",
        "- Keys in dictionaries must be unique and immutable (e.g., strings, numbers, tuples).\n",
        "\n",
        "- Values in dictionaries can be of any data type and can include lists or even other dictionaries.\n",
        "\n",
        "- Efficiently store and retrieve data by key.\n",
        "\n",
        "Importance\n",
        "- Versatile for mapping and associating data.\n",
        "\n",
        "- Frequently used to represent structured data (e.g., JSON format).\n",
        "\n",
        "- Useful for quickly retrieving data based on a unique key.\n",
        "\n",
        "- Pandas can convert dictionaries into Series or DataFrame objects for analysis."
      ],
      "metadata": {
        "id": "rLTdNfAQn7gx"
      }
    },
    {
      "cell_type": "code",
      "source": [
        "job_skills = {\n",
        "    'database':'mongodb',\n",
        "    'language':'python',\n",
        "    'libary':'pandas'\n",
        "}\n",
        "job_skills"
      ],
      "metadata": {
        "colab": {
          "base_uri": "https://localhost:8080/"
        },
        "id": "Ug41M45CoSBh",
        "outputId": "4cb37d87-1b0a-4bd7-e83f-f7a0a3d6a088"
      },
      "execution_count": 4,
      "outputs": [
        {
          "output_type": "execute_result",
          "data": {
            "text/plain": [
              "{'database': 'mongodb', 'language': 'python', 'libary': 'pandas'}"
            ]
          },
          "metadata": {},
          "execution_count": 4
        }
      ]
    },
    {
      "cell_type": "code",
      "source": [
        "job_skills['database']"
      ],
      "metadata": {
        "colab": {
          "base_uri": "https://localhost:8080/",
          "height": 36
        },
        "id": "n6aN1DIErvF7",
        "outputId": "7d0c5289-95f3-4396-c3cf-0d58caf2f22a"
      },
      "execution_count": 5,
      "outputs": [
        {
          "output_type": "execute_result",
          "data": {
            "text/plain": [
              "'mongodb'"
            ],
            "application/vnd.google.colaboratory.intrinsic+json": {
              "type": "string"
            }
          },
          "metadata": {},
          "execution_count": 5
        }
      ]
    },
    {
      "cell_type": "code",
      "source": [
        "job_skills.get('database')"
      ],
      "metadata": {
        "colab": {
          "base_uri": "https://localhost:8080/",
          "height": 36
        },
        "id": "_IgUOixXrzgQ",
        "outputId": "c60148c8-0ff8-406e-bcd0-08016bd3c74a"
      },
      "execution_count": 6,
      "outputs": [
        {
          "output_type": "execute_result",
          "data": {
            "text/plain": [
              "'mongodb'"
            ],
            "application/vnd.google.colaboratory.intrinsic+json": {
              "type": "string"
            }
          },
          "metadata": {},
          "execution_count": 6
        }
      ]
    },
    {
      "cell_type": "code",
      "source": [
        "job_skills.keys()"
      ],
      "metadata": {
        "colab": {
          "base_uri": "https://localhost:8080/"
        },
        "id": "8Db9bc4er46q",
        "outputId": "3e05d869-5d74-402b-d93a-fe88a592e8e5"
      },
      "execution_count": 7,
      "outputs": [
        {
          "output_type": "execute_result",
          "data": {
            "text/plain": [
              "dict_keys(['database', 'language', 'libary'])"
            ]
          },
          "metadata": {},
          "execution_count": 7
        }
      ]
    },
    {
      "cell_type": "code",
      "source": [
        "job_skills.values()"
      ],
      "metadata": {
        "colab": {
          "base_uri": "https://localhost:8080/"
        },
        "id": "kZCtOBUSslV1",
        "outputId": "c6397089-805c-40c1-d90a-647056e564e2"
      },
      "execution_count": 8,
      "outputs": [
        {
          "output_type": "execute_result",
          "data": {
            "text/plain": [
              "dict_values(['mongodb', 'python', 'pandas'])"
            ]
          },
          "metadata": {},
          "execution_count": 8
        }
      ]
    },
    {
      "cell_type": "code",
      "source": [
        "job_skills.pop('database')\n",
        "job_skills"
      ],
      "metadata": {
        "colab": {
          "base_uri": "https://localhost:8080/"
        },
        "id": "aykKcd8ossdG",
        "outputId": "9751426b-437c-48eb-a49e-083524051657"
      },
      "execution_count": 9,
      "outputs": [
        {
          "output_type": "execute_result",
          "data": {
            "text/plain": [
              "{'language': 'python', 'libary': 'pandas'}"
            ]
          },
          "metadata": {},
          "execution_count": 9
        }
      ]
    },
    {
      "cell_type": "code",
      "source": [
        "job_skills.update({'database':'mongodb'})\n",
        "job_skills"
      ],
      "metadata": {
        "colab": {
          "base_uri": "https://localhost:8080/"
        },
        "id": "-JARUHIFtNpf",
        "outputId": "42fb1ab9-8f5d-4855-c507-0010a364ebad"
      },
      "execution_count": 12,
      "outputs": [
        {
          "output_type": "execute_result",
          "data": {
            "text/plain": [
              "{'language': 'python',\n",
              " 'libary': 'pandas',\n",
              " 'version control': 'git',\n",
              " 'database': 'mongodb'}"
            ]
          },
          "metadata": {},
          "execution_count": 12
        }
      ]
    },
    {
      "cell_type": "code",
      "source": [
        "job_skills['version control'] = 'git'\n",
        "job_skills"
      ],
      "metadata": {
        "colab": {
          "base_uri": "https://localhost:8080/"
        },
        "id": "WB5snCJwtUsF",
        "outputId": "8ca65443-1a00-4389-ad8e-907707bfabca"
      },
      "execution_count": 13,
      "outputs": [
        {
          "output_type": "execute_result",
          "data": {
            "text/plain": [
              "{'language': 'python',\n",
              " 'libary': 'pandas',\n",
              " 'version control': 'git',\n",
              " 'database': 'mongodb'}"
            ]
          },
          "metadata": {},
          "execution_count": 13
        }
      ]
    },
    {
      "cell_type": "markdown",
      "source": [
        "## Set"
      ],
      "metadata": {
        "id": "hI9Wsrubu_25"
      }
    },
    {
      "cell_type": "markdown",
      "source": [
        "Here's a quick comparison between these 4 container data types:\n",
        "\n",
        "| Feature          | List                                  | Dictionary                           | Set                                | Tuple                             |\n",
        "|------------------|---------------------------------------|--------------------------------------|------------------------------------|-----------------------------------|\n",
        "| Syntax           | `[item1, item2, ...]`                 | `{'key1': value1, 'key2': value2}`   | `{item1, item2, ...}`              | `(item1, item2, ...)` or `item,`  |\n",
        "| Type of Data     | Sequence                              | Mapping                              | Set                                | Sequence                          |\n",
        "| Order            | Ordered                               | Unordered                            | Unordered                          | Ordered                           |\n",
        "| Indexing         | Yes (by index)                        | Yes (by key)                         | No                                 | Yes (by index)                    |\n",
        "| Duplicate Values | Allowed                               | Values can be duplicated, keys cannot| Not allowed                        | Allowed                           |\n",
        "| Mutability       | Mutable                               | Mutable                              | Mutable                            | Immutable                         |\n",
        "| Usage            | For a collection of ordered items     | For key-value pairs                  | For unique items                   | For fixed data                    |"
      ],
      "metadata": {
        "id": "CKpoSXyZvrHm"
      }
    },
    {
      "cell_type": "markdown",
      "source": [
        "Notes\n",
        "- Used to store multiple unordered unique items in a single variable.\n",
        "\n",
        "- Created using { and }.\n",
        "\n",
        "- We won't be going into everything that we can do with sets.\n",
        "\n",
        "- Common data types in sets: Integer, Float, String, Boolean, Tuple.\n",
        "\n",
        "- Sets do not allow duplicate elements.\n",
        "\n",
        "- Elements in sets are immutable, but the set itself is mutable; you can add or remove elements.\n",
        "\n",
        "- Efficient for membership testing and eliminating duplicates.\n",
        "\n",
        "Importance\n",
        "- Versatile for storing unique items and removing duplicates.\n",
        "\n",
        "- Frequently used for membership testing, i.e., checking if an element is in a set.\n",
        "\n",
        "- Useful for performing mathematical operations like union, intersection, difference, and symmetric difference.\n",
        "\n",
        "- Pandas can convert lists or Series to sets for unique operations and analysis."
      ],
      "metadata": {
        "id": "IrSS3P5NvDPL"
      }
    },
    {
      "cell_type": "code",
      "source": [
        "skills_sets={'python','ruby','mysql'}\n",
        "skills_sets"
      ],
      "metadata": {
        "colab": {
          "base_uri": "https://localhost:8080/"
        },
        "id": "McjvFlM-F_mQ",
        "outputId": "75d639a4-3a08-41be-a3e4-2dae6c82a127"
      },
      "execution_count": 14,
      "outputs": [
        {
          "output_type": "execute_result",
          "data": {
            "text/plain": [
              "{'mysql', 'python', 'ruby'}"
            ]
          },
          "metadata": {},
          "execution_count": 14
        }
      ]
    },
    {
      "cell_type": "code",
      "source": [
        "skills_sets.add('sql')\n",
        "skills_sets"
      ],
      "metadata": {
        "colab": {
          "base_uri": "https://localhost:8080/"
        },
        "id": "Zc_g_jWOGIV6",
        "outputId": "dbd7f864-66ea-4ec1-fb2d-d06258a7c503"
      },
      "execution_count": 16,
      "outputs": [
        {
          "output_type": "execute_result",
          "data": {
            "text/plain": [
              "{'mysql', 'python', 'ruby', 'sql'}"
            ]
          },
          "metadata": {},
          "execution_count": 16
        }
      ]
    },
    {
      "cell_type": "code",
      "source": [
        "skills_sets.remove('ruby')\n",
        "skills_sets"
      ],
      "metadata": {
        "colab": {
          "base_uri": "https://localhost:8080/"
        },
        "id": "6u0w1lKUGTSq",
        "outputId": "8451808f-f456-4156-d8ae-46bc1c8144cc"
      },
      "execution_count": 17,
      "outputs": [
        {
          "output_type": "execute_result",
          "data": {
            "text/plain": [
              "{'mysql', 'python', 'sql'}"
            ]
          },
          "metadata": {},
          "execution_count": 17
        }
      ]
    },
    {
      "cell_type": "code",
      "source": [
        "skills_sets.pop()\n",
        "skills_sets"
      ],
      "metadata": {
        "colab": {
          "base_uri": "https://localhost:8080/"
        },
        "id": "-ysDx2edGZcI",
        "outputId": "6595d0a0-b098-492f-df6d-f8fbc3f4af9b"
      },
      "execution_count": 18,
      "outputs": [
        {
          "output_type": "execute_result",
          "data": {
            "text/plain": [
              "{'mysql', 'python'}"
            ]
          },
          "metadata": {},
          "execution_count": 18
        }
      ]
    },
    {
      "cell_type": "code",
      "source": [
        "# convert list to set and list to remove duplicate from the list\n",
        "target_list = ['python','python','sql']\n",
        "target_list = list(set(target_list))\n",
        "target_list\n"
      ],
      "metadata": {
        "colab": {
          "base_uri": "https://localhost:8080/"
        },
        "id": "wDCk2f9_HCVF",
        "outputId": "a9e138f5-c99e-41bb-f6c1-89f02bae7b3f"
      },
      "execution_count": 19,
      "outputs": [
        {
          "output_type": "execute_result",
          "data": {
            "text/plain": [
              "['python', 'sql']"
            ]
          },
          "metadata": {},
          "execution_count": 19
        }
      ]
    },
    {
      "cell_type": "markdown",
      "source": [
        "## Tuple"
      ],
      "metadata": {
        "id": "5fU7QHn-IESg"
      }
    },
    {
      "cell_type": "markdown",
      "source": [
        "Here's a quick comparison between these 4 container data types:\n",
        "\n",
        "| Feature          | List                                  | Dictionary                           | Set                                | Tuple                             |\n",
        "|------------------|---------------------------------------|--------------------------------------|------------------------------------|-----------------------------------|\n",
        "| Syntax           | `[item1, item2, ...]`                 | `{'key1': value1, 'key2': value2}`   | `{item1, item2, ...}`              | `(item1, item2, ...)` or `item,`  |\n",
        "| Type of Data     | Sequence                              | Mapping                              | Set                                | Sequence                          |\n",
        "| Order            | Ordered                               | Unordered                            | Unordered                          | Ordered                           |\n",
        "| Indexing         | Yes (by index)                        | Yes (by key)                         | No                                 | Yes (by index)                    |\n",
        "| Duplicate Values | Allowed                               | Values can be duplicated, keys cannot| Not allowed                        | Allowed                           |\n",
        "| Mutability       | Mutable                               | Mutable                              | Mutable                            | Immutable                         |\n",
        "| Usage            | For a collection of ordered items     | For key-value pairs                  | For unique items                   | For fixed data                    |"
      ],
      "metadata": {
        "id": "FpKSQwS5IHIH"
      }
    },
    {
      "cell_type": "markdown",
      "source": [
        "Notes\n",
        "- Used to store multiple ordered items in a single variable.\n",
        "\n",
        "- Created using ( and ).\n",
        "\n",
        "- We won't be going into everything that we can do with tuples.\n",
        "\n",
        "- Common data types in tuples: Integer, Float, String, Boolean, List, Dictionary, Tuple, Set, Object.\n",
        "\n",
        "- Tuples are immutable, meaning that once created, their elements cannot be changed.\n",
        "\n",
        "- You can include tuples within tuples.\n",
        "\n",
        "- Efficient for storing and accessing fixed collections of items.\n",
        "\n",
        "Importance\n",
        "- Versatile for storing fixed sequences of data.\n",
        "\n",
        "- Frequently used for returning multiple values from functions.\n",
        "\n",
        "- Useful for ensuring data integrity since tuples are immutable.\n",
        "\n",
        "- Tuples can be used as keys in dictionaries due to their immutability.\n",
        "\n",
        "- Pandas can convert tuples into Series or DataFrame objects for analysis.-"
      ],
      "metadata": {
        "id": "n4W4y83eIKeC"
      }
    },
    {
      "cell_type": "code",
      "source": [
        "tar_tup = ('python','sql','excel','excel')\n",
        "tar_tup"
      ],
      "metadata": {
        "colab": {
          "base_uri": "https://localhost:8080/"
        },
        "id": "NWcH5HlUIjGN",
        "outputId": "f42ca36b-5c6d-459d-d6bc-63b0be7a89cb"
      },
      "execution_count": 30,
      "outputs": [
        {
          "output_type": "execute_result",
          "data": {
            "text/plain": [
              "('python', 'sql', 'excel', 'excel')"
            ]
          },
          "metadata": {},
          "execution_count": 30
        }
      ]
    },
    {
      "cell_type": "code",
      "source": [
        "tar_tup[0]"
      ],
      "metadata": {
        "colab": {
          "base_uri": "https://localhost:8080/",
          "height": 36
        },
        "id": "IYAlG6kpIpAI",
        "outputId": "10bf1b80-8ba1-45e2-cee8-e514fd12df84"
      },
      "execution_count": 22,
      "outputs": [
        {
          "output_type": "execute_result",
          "data": {
            "text/plain": [
              "'python'"
            ],
            "application/vnd.google.colaboratory.intrinsic+json": {
              "type": "string"
            }
          },
          "metadata": {},
          "execution_count": 22
        }
      ]
    },
    {
      "cell_type": "code",
      "source": [
        "tar_tup[0:2]"
      ],
      "metadata": {
        "colab": {
          "base_uri": "https://localhost:8080/"
        },
        "id": "HB8M1oOBI8mi",
        "outputId": "6c3199cc-4947-45a2-e528-376d05b3a0c4"
      },
      "execution_count": 26,
      "outputs": [
        {
          "output_type": "execute_result",
          "data": {
            "text/plain": [
              "('python', 'sql')"
            ]
          },
          "metadata": {},
          "execution_count": 26
        }
      ]
    },
    {
      "cell_type": "code",
      "source": [
        "#count how many items in the list\n",
        "tar_tup.count('excel')"
      ],
      "metadata": {
        "colab": {
          "base_uri": "https://localhost:8080/"
        },
        "id": "llfYLay6I6xI",
        "outputId": "1308bb20-15a0-4ca5-a8e6-8b553a47e1ce"
      },
      "execution_count": 28,
      "outputs": [
        {
          "output_type": "execute_result",
          "data": {
            "text/plain": [
              "2"
            ]
          },
          "metadata": {},
          "execution_count": 28
        }
      ]
    },
    {
      "cell_type": "code",
      "source": [
        "#find index of the element\n",
        "tar_tup.index('excel')"
      ],
      "metadata": {
        "id": "iXrgueuJJVYO"
      },
      "execution_count": null,
      "outputs": []
    },
    {
      "cell_type": "code",
      "source": [
        "#adding item in tuple is not done by append method instead add two tuples\n",
        "tar_tup += ('tableau','php')\n",
        "tar_tup"
      ],
      "metadata": {
        "colab": {
          "base_uri": "https://localhost:8080/"
        },
        "id": "PF6r0nqWJfGy",
        "outputId": "181e9b03-0baf-495a-e083-016d2f771d37"
      },
      "execution_count": 33,
      "outputs": [
        {
          "output_type": "execute_result",
          "data": {
            "text/plain": [
              "('python',\n",
              " 'sql',\n",
              " 'excel',\n",
              " 'excel',\n",
              " 'tableau',\n",
              " 'tableau',\n",
              " 'php',\n",
              " 'tableau',\n",
              " 'php')"
            ]
          },
          "metadata": {},
          "execution_count": 33
        }
      ]
    },
    {
      "cell_type": "code",
      "source": [
        "#to find object id of tar_tup\n",
        "id(tar_tup)"
      ],
      "metadata": {
        "colab": {
          "base_uri": "https://localhost:8080/"
        },
        "id": "pnvfxDpZKBSz",
        "outputId": "7eb4326a-9cc2-45ea-9614-e2094368b220"
      },
      "execution_count": 34,
      "outputs": [
        {
          "output_type": "execute_result",
          "data": {
            "text/plain": [
              "132937678988432"
            ]
          },
          "metadata": {},
          "execution_count": 34
        }
      ]
    },
    {
      "cell_type": "markdown",
      "source": [
        "## Range"
      ],
      "metadata": {
        "id": "5Ey-Ajt9KmDk"
      }
    },
    {
      "cell_type": "code",
      "source": [
        "#range function\n",
        "#Python range is a function that returns a sequence of numbers. By default, range returns a sequence that begins at 0 and increments in steps of 1\n",
        "\n",
        "tuple(range(1,11,2))"
      ],
      "metadata": {
        "colab": {
          "base_uri": "https://localhost:8080/"
        },
        "id": "q5mITKTDKoEJ",
        "outputId": "03197ded-b18d-41a6-b152-865da56f3ac2"
      },
      "execution_count": 39,
      "outputs": [
        {
          "output_type": "execute_result",
          "data": {
            "text/plain": [
              "(1, 3, 5, 7, 9)"
            ]
          },
          "metadata": {},
          "execution_count": 39
        }
      ]
    },
    {
      "cell_type": "markdown",
      "source": [
        "## Logical Operators\n",
        "\n",
        "Logical operators connect two or more conditions and evaluate the truth or falsity of the conditions combined.\n",
        "\n",
        "| Operator | Name     | Example |\n",
        "|----------|----------|---------|\n",
        "| and      | Logical AND | x and y |\n",
        "| or       | Logical OR  | x or y  |\n",
        "| not      | Logical NOT | not x   |\n"
      ],
      "metadata": {
        "id": "V6D0bLBuLotj"
      }
    },
    {
      "cell_type": "code",
      "source": [
        "wfh = True\n",
        "master_degree = False\n",
        "insurance =  True\n",
        "\n",
        "\n",
        "wfh and insurance and master_degree"
      ],
      "metadata": {
        "colab": {
          "base_uri": "https://localhost:8080/"
        },
        "id": "ZXuVbKDTLoOC",
        "outputId": "ca3efb5d-a6db-4f95-cf45-ee4954994c8d"
      },
      "execution_count": 43,
      "outputs": [
        {
          "output_type": "stream",
          "name": "stdout",
          "text": [
            "eligible for insurance\n"
          ]
        }
      ]
    },
    {
      "cell_type": "code",
      "source": [
        "#not will check oppsite to condition\n",
        "not True\n"
      ],
      "metadata": {
        "colab": {
          "base_uri": "https://localhost:8080/"
        },
        "id": "LA7fCP8FOAlM",
        "outputId": "14650a60-e815-40c8-8675-7a5f7344de28"
      },
      "execution_count": 47,
      "outputs": [
        {
          "output_type": "execute_result",
          "data": {
            "text/plain": [
              "True"
            ]
          },
          "metadata": {},
          "execution_count": 47
        }
      ]
    },
    {
      "cell_type": "code",
      "source": [
        "if wfh and insurance and master_degree:\n",
        "  print('eligible for insurance')\n",
        "else:\n",
        "  print('not eligible for insurance')"
      ],
      "metadata": {
        "colab": {
          "base_uri": "https://localhost:8080/"
        },
        "id": "1_KoGoCzNzYY",
        "outputId": "8806bf52-37b4-4be7-e9c8-dbb73f7939d4"
      },
      "execution_count": 46,
      "outputs": [
        {
          "output_type": "stream",
          "name": "stdout",
          "text": [
            "not eligible for insurance\n"
          ]
        }
      ]
    },
    {
      "cell_type": "markdown",
      "source": [
        "## Identity Operators\n",
        "\n",
        "Identity operators check if two variables occupy the same memory location, i.e., are identical.\n",
        "\n",
        "| Operator | Name               | Example   |\n",
        "|----------|--------------------|-----------|\n",
        "| is       | Identity           | x is y    |\n",
        "| is not   | Not identity       | x is not y|"
      ],
      "metadata": {
        "id": "xhkngyprOZ4L"
      }
    },
    {
      "cell_type": "markdown",
      "source": [],
      "metadata": {
        "id": "lU5lycJ3OZlX"
      }
    },
    {
      "cell_type": "code",
      "source": [
        "mugil = 'Good'\n",
        "kanmani = 'good'\n",
        "kanmani.upper() is mugil.upper()"
      ],
      "metadata": {
        "colab": {
          "base_uri": "https://localhost:8080/"
        },
        "id": "qPniA2O1RP87",
        "outputId": "093741a4-b8d7-4f98-981f-a2dadfc57e7e"
      },
      "execution_count": 57,
      "outputs": [
        {
          "output_type": "execute_result",
          "data": {
            "text/plain": [
              "True"
            ]
          },
          "metadata": {},
          "execution_count": 57
        }
      ]
    },
    {
      "cell_type": "code",
      "source": [],
      "metadata": {
        "colab": {
          "base_uri": "https://localhost:8080/"
        },
        "id": "95_KJT8DOZHN",
        "outputId": "62b969dc-d0c6-49af-89b2-b07d6fba3886"
      },
      "execution_count": 55,
      "outputs": [
        {
          "output_type": "execute_result",
          "data": {
            "text/plain": [
              "False"
            ]
          },
          "metadata": {},
          "execution_count": 55
        }
      ]
    },
    {
      "cell_type": "markdown",
      "source": [
        "## Membership Operators\n",
        "\n",
        "Membership operators test for membership in a sequence, such as strings, lists, or tuples.\n",
        "\n",
        "| Operator | Name            | Example   |\n",
        "|----------|-----------------|-----------|\n",
        "| in       | Membership      | x in y    |\n",
        "| not in   | Not membership  | x not in y|"
      ],
      "metadata": {
        "id": "PfnZTgu1RyFt"
      }
    },
    {
      "cell_type": "code",
      "source": [
        "\"data\" in 'data analyst'"
      ],
      "metadata": {
        "colab": {
          "base_uri": "https://localhost:8080/"
        },
        "id": "nGdfPVITR1UP",
        "outputId": "e6dd86a9-2822-43ae-823e-fa38b39b9df5"
      },
      "execution_count": 58,
      "outputs": [
        {
          "output_type": "execute_result",
          "data": {
            "text/plain": [
              "True"
            ]
          },
          "metadata": {},
          "execution_count": 58
        }
      ]
    },
    {
      "cell_type": "code",
      "source": [
        "'Data' not in 'data analyst'"
      ],
      "metadata": {
        "colab": {
          "base_uri": "https://localhost:8080/"
        },
        "id": "IhxFN-OCR65B",
        "outputId": "3ca3608a-641e-4233-cbe1-f721bdfd8a49"
      },
      "execution_count": 59,
      "outputs": [
        {
          "output_type": "execute_result",
          "data": {
            "text/plain": [
              "True"
            ]
          },
          "metadata": {},
          "execution_count": 59
        }
      ]
    },
    {
      "cell_type": "markdown",
      "source": [
        "## Bitwise Operators\n",
        "\n",
        "Bitwise operators perform bit-by-bit operations on binary numbers.\n",
        "\n",
        "| Operator | Name        | Example |\n",
        "|----------|-------------|---------|\n",
        "| &        | Bitwise AND | x & y   |\n",
        "| \\|       | Bitwise OR  | x \\| y  |\n",
        "| ^        | Bitwise XOR | x ^ y   |\n",
        "| ~        | Bitwise NOT | ~x      |\n",
        "| <<       | Left Shift  | x << y  |\n",
        "| >>       | Right Shift | x >> y  |\n",
        "\n",
        "- Bitwise operations are beyond the scope of using Python for Data Analytics.  \n",
        "- You could technically use `&` and `|` in place of `and` and `or` for Boolean comparison, BUT it's less readable.  \n",
        "- You'll see the `&` and `|` operators pop up again when we cover Pandas.  "
      ],
      "metadata": {
        "id": "DoKpprxWSQDD"
      }
    },
    {
      "cell_type": "code",
      "source": [
        "True & False"
      ],
      "metadata": {
        "colab": {
          "base_uri": "https://localhost:8080/"
        },
        "id": "48QrY0nQSNFN",
        "outputId": "55bf549f-379d-4c47-a184-cde4c17454ef"
      },
      "execution_count": 60,
      "outputs": [
        {
          "output_type": "execute_result",
          "data": {
            "text/plain": [
              "False"
            ]
          },
          "metadata": {},
          "execution_count": 60
        }
      ]
    },
    {
      "cell_type": "code",
      "source": [
        "True | False"
      ],
      "metadata": {
        "colab": {
          "base_uri": "https://localhost:8080/"
        },
        "id": "-j7OWQzKScI-",
        "outputId": "4e7abc95-5753-456d-ec27-e5364830813d"
      },
      "execution_count": 61,
      "outputs": [
        {
          "output_type": "execute_result",
          "data": {
            "text/plain": [
              "True"
            ]
          },
          "metadata": {},
          "execution_count": 61
        }
      ]
    },
    {
      "cell_type": "code",
      "source": [
        "x = 10  # binary 1010\n",
        "y = 4   # binary 0100\n",
        "result = x & y  # binary 0000 -> decimal 0\n",
        "\n",
        "result"
      ],
      "metadata": {
        "id": "IlZXoC7cS2KQ"
      },
      "execution_count": null,
      "outputs": []
    },
    {
      "cell_type": "code",
      "source": [
        "x = 10  # binary 1010\n",
        "y = 4   # binary 0100\n",
        "result = x | y  # binary 1110 -> decimal 14\n",
        "\n",
        "result"
      ],
      "metadata": {
        "id": "yXq0xrg_Sz3F"
      },
      "execution_count": null,
      "outputs": []
    },
    {
      "cell_type": "markdown",
      "source": [
        "## Loops\n",
        "- while loops\n",
        "- for loops"
      ],
      "metadata": {
        "id": "hfzhOSObTGbc"
      }
    },
    {
      "cell_type": "code",
      "source": [
        "for i in range(1,11,4):\n",
        "  print(i)\n",
        "\n",
        "  # first parameter is start value second is end value third is step (iterate step)"
      ],
      "metadata": {
        "colab": {
          "base_uri": "https://localhost:8080/"
        },
        "id": "UUZjGUt1TLca",
        "outputId": "6f057a75-95df-4218-9528-da4ee9358125"
      },
      "execution_count": 63,
      "outputs": [
        {
          "output_type": "stream",
          "name": "stdout",
          "text": [
            "1\n",
            "5\n",
            "9\n"
          ]
        }
      ]
    },
    {
      "cell_type": "code",
      "source": [
        "tar_list = ['mugil','kanmani','roma','peter']\n",
        "\n",
        "for i in tar_list:\n",
        "  print(i)"
      ],
      "metadata": {
        "colab": {
          "base_uri": "https://localhost:8080/"
        },
        "id": "eBho1z0xTfWq",
        "outputId": "21e28031-57c4-4aa5-b2f2-994af199ca02"
      },
      "execution_count": 64,
      "outputs": [
        {
          "output_type": "stream",
          "name": "stdout",
          "text": [
            "mugil\n",
            "kanmani\n",
            "roma\n",
            "peter\n"
          ]
        }
      ]
    },
    {
      "cell_type": "code",
      "source": [
        "companies_hiring = {\n",
        "    \"Google\": \"Data Analysts\",\n",
        "    \"Amazon\": \"Cloud Solutions Architects\",\n",
        "    \"Microsoft\": \"Data Analysts\",\n",
        "    \"Facebook\": \"Data Scientists\",\n",
        "    \"Netflix\": \"Security Analysts\",\n",
        "    \"Tesla\": \"Robotics Engineers\",\n",
        "    \"IBM\": \"AI Researchers\",\n",
        "    \"Accenture\": \"IT Consultants\",\n",
        "    \"Deloitte\": \"Business Analysts\",\n",
        "    \"PwC\": \"IT Auditors\",\n",
        "    \"Capco\": \"Technology Associates\",\n",
        "    \"Infosys\": \"Software Developers\",\n",
        "    \"Mphasis\": \"Application Developers\",\n",
        "    \"Randstad\": \"Data Analysts\",\n",
        "    \"Verizon\": \"Network Engineers\",\n",
        "    \"BNY\": \"Database Administrators\",\n",
        "    \"Conneqt\": \"Operations Analysts\",\n",
        "    \"Goibibo\": \"Data Analysts\",\n",
        "    \"Maruti Suzuki\": \"Quality Control Engineers\",\n",
        "    \"Target\": \"Supply Chain Analysts\",\n",
        "    \"Adidas\": \"Digital Strategists\",\n",
        "    \"Pepsico\": \"Logistics Managers\",\n",
        "    \"Morgan Stanley\": \"Risk Managers\",\n",
        "    \"Becton Dickinson\": \"Quality Assurance Engineers\",\n",
        "    \"Focus KPI\": \"Data Visualization Specialists\",\n",
        "    \"Affinity Solutions\": \"Client Solutions Engineers\"\n",
        "}\n",
        "\n",
        "filtered_companies = []\n",
        "\n",
        "for company,role in companies_hiring.items():\n",
        "  if role == 'Data Analysts':\n",
        "    filtered_companies.append(company)\n",
        "\n",
        "set(filtered_companies)\n",
        ""
      ],
      "metadata": {
        "colab": {
          "base_uri": "https://localhost:8080/"
        },
        "id": "Iz0B3idjWcqj",
        "outputId": "129de0e2-d162-4afd-f376-816af4dea8d6"
      },
      "execution_count": 69,
      "outputs": [
        {
          "output_type": "execute_result",
          "data": {
            "text/plain": [
              "{'Goibibo', 'Google', 'Microsoft', 'Randstad'}"
            ]
          },
          "metadata": {},
          "execution_count": 69
        }
      ]
    },
    {
      "cell_type": "code",
      "source": [
        "employee_skills = {\n",
        "    \"John Doe\": [\"Python\", \"Data Analysis\", \"Machine Learning\"],\n",
        "    \"Jane Smith\": [\"JavaScript\", \"Web Development\", \"React\"],\n",
        "    \"Emily Johnson\": [\"Project Management\", \"Agile\", \"Scrum\"],\n",
        "    \"Michael Brown\": [\"Java\", \"Spring Boot\", \"Microservices\"],\n",
        "    \"Sarah Davis\": [\"SQL\", \"Database Management\", \"ETL\"],\n",
        "    \"David Wilson\": [\"AWS\", \"Cloud Computing\", \"DevOps\"],\n",
        "    \"Laura Martinez\": [\"HTML\", \"CSS\", \"Graphic Design\"],\n",
        "    \"Robert Garcia\": [\"C++\", \"Embedded Systems\", \"Robotics\"],\n",
        "    \"Linda Rodriguez\": [\"Excel\", \"Financial Analysis\", \"Accounting\"],\n",
        "    \"Daniel Lee\": [\"PHP\", \"Laravel\", \"Backend Development\"],\n",
        "    \"Paul White\": [\"R\", \"Statistics\", \"Data Visualization\"],\n",
        "    \"Karen Harris\": [\"SAP\", \"ERP Systems\", \"Business Analysis\"],\n",
        "    \"James Clark\": [\"Python\", \"Machine Learning\", \"Deep Learning\"],\n",
        "    \"Maria Lewis\": [\"Ruby\", \"Rails\", \"Web Development\"],\n",
        "    \"Thomas Walker\": [\"C#\", \".NET\", \"Software Development\"],\n",
        "    \"Patricia Hall\": [\"Python\", \"Data Science\", \"NLP\"],\n",
        "    \"Christopher Allen\": [\"Swift\", \"iOS Development\", \"UI/UX\"],\n",
        "    \"Susan Young\": [\"Linux\", \"System Administration\", \"Network Security\"],\n",
        "    \"Brian King\": [\"Python\", \"Big Data\", \"Hadoop\"],\n",
        "    \"Nancy Wright\": [\"Customer Service\", \"Salesforce\", \"CRM\"]\n",
        "}\n",
        "\n",
        "filtered_employees = {}\n",
        "\n",
        "for employee,skills in employee_skills.items():\n",
        "  if 'Python' in skills or 'Data Analysis' in skills:\n",
        "    filtered_employees[employee] = skills\n",
        "\n",
        "filtered_employees"
      ],
      "metadata": {
        "colab": {
          "base_uri": "https://localhost:8080/"
        },
        "id": "gvdT3tfHXnOv",
        "outputId": "cb89375f-9cb0-48b4-c6c9-309d4f219648"
      },
      "execution_count": 72,
      "outputs": [
        {
          "output_type": "execute_result",
          "data": {
            "text/plain": [
              "{'John Doe': ['Python', 'Data Analysis', 'Machine Learning'],\n",
              " 'James Clark': ['Python', 'Machine Learning', 'Deep Learning'],\n",
              " 'Patricia Hall': ['Python', 'Data Science', 'NLP'],\n",
              " 'Brian King': ['Python', 'Big Data', 'Hadoop']}"
            ]
          },
          "metadata": {},
          "execution_count": 72
        }
      ]
    },
    {
      "cell_type": "code",
      "source": [
        "mugil = set('mugilaananthan')\n",
        "mugil"
      ],
      "metadata": {
        "colab": {
          "base_uri": "https://localhost:8080/"
        },
        "id": "mltv600GZdMR",
        "outputId": "25860755-911e-49c1-e9ec-92611d19afe6"
      },
      "execution_count": 74,
      "outputs": [
        {
          "output_type": "execute_result",
          "data": {
            "text/plain": [
              "{'a', 'g', 'h', 'i', 'l', 'm', 'n', 't', 'u'}"
            ]
          },
          "metadata": {},
          "execution_count": 74
        }
      ]
    },
    {
      "cell_type": "markdown",
      "metadata": {
        "id": "t4pgu7Gkgusa"
      },
      "source": [
        "## Multi Threading\n"
      ]
    },
    {
      "cell_type": "code",
      "execution_count": null,
      "metadata": {
        "colab": {
          "base_uri": "https://localhost:8080/"
        },
        "id": "AJSBYv1bgK9k",
        "outputId": "8d722323-2962-4a88-b978-bcba20014513"
      },
      "outputs": [
        {
          "name": "stdout",
          "output_type": "stream",
          "text": [
            "Task 1 startedTask 2 started\n",
            "\n",
            "Task 1 finished\n",
            "Task 2 finished\n",
            "All tasks finished\n"
          ]
        }
      ],
      "source": [
        "import threading\n",
        "import time\n",
        "\n",
        "def task1():\n",
        "    print(\"Task 1 started\")\n",
        "    time.sleep(2)  # Simulate some work\n",
        "    print(\"Task 1 finished\")\n",
        "\n",
        "def task2():\n",
        "    print(\"Task 2 started\")\n",
        "    time.sleep(3)  # Simulate some work\n",
        "    print(\"Task 2 finished\")\n",
        "\n",
        "if __name__ == \"__main__\":\n",
        "    # Create two threads\n",
        "    thread1 = threading.Thread(target=task1)\n",
        "    thread2 = threading.Thread(target=task2)\n",
        "\n",
        "    # Start the threads\n",
        "    thread1.start()\n",
        "    thread2.start()\n",
        "\n",
        "    # Wait for the threads to complete\n",
        "    thread1.join()\n",
        "    thread2.join()\n",
        "\n",
        "    print(\"All tasks finished\")"
      ]
    }
  ],
  "metadata": {
    "colab": {
      "provenance": [],
      "toc_visible": true,
      "authorship_tag": "ABX9TyNOSQm4aJ4ARa3DcNIGqB6H",
      "include_colab_link": true
    },
    "kernelspec": {
      "display_name": "Python 3",
      "name": "python3"
    },
    "language_info": {
      "name": "python"
    }
  },
  "nbformat": 4,
  "nbformat_minor": 0
}